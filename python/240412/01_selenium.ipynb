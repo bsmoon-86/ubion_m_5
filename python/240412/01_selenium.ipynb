{
 "cells": [
  {
   "cell_type": "markdown",
   "metadata": {},
   "source": [
    "## selenium 라이브러리 \n",
    "1. 웹 어플리케이션을 테스트하기 위한 라이브러리 \n",
    "2. python code를 이용하여 웹 브라우져를 제어 \n",
    "3. 구글 크롬의 구버전을 사용 시 별도의 소프트웨어 필요"
   ]
  },
  {
   "cell_type": "code",
   "execution_count": null,
   "metadata": {},
   "outputs": [],
   "source": [
    "## 라이브러리 설치 \n",
    "# !pip install selenium"
   ]
  },
  {
   "cell_type": "code",
   "execution_count": null,
   "metadata": {},
   "outputs": [],
   "source": [
    "from selenium import webdriver"
   ]
  },
  {
   "cell_type": "code",
   "execution_count": null,
   "metadata": {},
   "outputs": [],
   "source": [
    "# 웹 브라우져를 실행 \n",
    "driver = webdriver.Chrome()"
   ]
  },
  {
   "cell_type": "code",
   "execution_count": null,
   "metadata": {},
   "outputs": [],
   "source": [
    "# 웹 브라우져에 주소를 입력 \n",
    "driver.get(\"https://www.naver.com\")"
   ]
  },
  {
   "cell_type": "code",
   "execution_count": null,
   "metadata": {},
   "outputs": [],
   "source": [
    "## selenium에서 특정 기능을 로드 \n",
    "# By : 특정 태그를 찾을때 ID나 Class, ... 조건으로 검색\n",
    "from selenium.webdriver.common.by import By\n",
    "# Keys : 키보드의 이벤트를 발생 시키는 기능\n",
    "from selenium.webdriver.common.keys import Keys"
   ]
  },
  {
   "cell_type": "markdown",
   "metadata": {},
   "source": [
    "- find_element()\n",
    "    - HTML문서에서 특정 태그를 검색 -> 첫번째 태그를 선택\n",
    "    - bs4에서 find()와 같은 기능\n",
    "- find_elements()\n",
    "    - HTML문서에서 특정 태그와 같은 모든 태그를 검색\n",
    "    - bs4에서 find_all()과 같은 기능"
   ]
  },
  {
   "cell_type": "code",
   "execution_count": null,
   "metadata": {},
   "outputs": [],
   "source": [
    "# 네이버 메인 화면에 있는 검색어를 입력하는 input 태그를 선택\n",
    "element = driver.find_element(By.ID, 'query')"
   ]
  },
  {
   "cell_type": "code",
   "execution_count": null,
   "metadata": {},
   "outputs": [],
   "source": [
    "# 검색어를 입력 (특정 문자열을 보낸다.)\n",
    "element.send_keys(\"토요일\")"
   ]
  },
  {
   "cell_type": "code",
   "execution_count": null,
   "metadata": {},
   "outputs": [],
   "source": [
    "# element에서 키보드의 ENTER 이벤트를 발생 \n",
    "element.send_keys(Keys.ENTER)"
   ]
  },
  {
   "cell_type": "code",
   "execution_count": null,
   "metadata": {},
   "outputs": [],
   "source": [
    "# class가 link_tit인 태그를 검색\n",
    "len(driver.find_elements(By.CLASS_NAME, 'link_tit'))"
   ]
  },
  {
   "cell_type": "code",
   "execution_count": null,
   "metadata": {},
   "outputs": [],
   "source": [
    "links = driver.find_elements(By.CLASS_NAME, 'link_tit')"
   ]
  },
  {
   "cell_type": "code",
   "execution_count": null,
   "metadata": {},
   "outputs": [],
   "source": [
    "# 특정 태그를 클릭 이벤트 발생\n",
    "links[0].click()"
   ]
  },
  {
   "cell_type": "code",
   "execution_count": null,
   "metadata": {},
   "outputs": [],
   "source": [
    "# 웹 브라우져에 있는 HTML 문서를 출력\n",
    "driver.page_source  # 문자열"
   ]
  },
  {
   "cell_type": "code",
   "execution_count": null,
   "metadata": {},
   "outputs": [],
   "source": [
    "## BeatifulSoup을 로드 \n",
    "from bs4 import BeautifulSoup as bs"
   ]
  },
  {
   "cell_type": "code",
   "execution_count": null,
   "metadata": {},
   "outputs": [],
   "source": [
    "## HTML 문서를 parsing\n",
    "soup = bs(driver.page_source, 'html.parser')"
   ]
  },
  {
   "cell_type": "code",
   "execution_count": null,
   "metadata": {},
   "outputs": [],
   "source": [
    "soup.find('title')"
   ]
  },
  {
   "cell_type": "code",
   "execution_count": null,
   "metadata": {},
   "outputs": [],
   "source": [
    "## 웹 브라우져의 탭의 정보를 출력 \n",
    "driver.window_handles"
   ]
  },
  {
   "cell_type": "code",
   "execution_count": null,
   "metadata": {},
   "outputs": [],
   "source": [
    "## driver에서 탭을 이동\n",
    "driver.switch_to.window(driver.window_handles[1])"
   ]
  },
  {
   "cell_type": "code",
   "execution_count": null,
   "metadata": {},
   "outputs": [],
   "source": [
    "soup2 = bs(driver.page_source, 'html.parser')"
   ]
  },
  {
   "cell_type": "code",
   "execution_count": null,
   "metadata": {},
   "outputs": [],
   "source": [
    "soup2.find('title')"
   ]
  },
  {
   "cell_type": "code",
   "execution_count": null,
   "metadata": {},
   "outputs": [],
   "source": [
    "# soup2에서 div태그중 id가 'mw-content-text' 태그를 추출 \n",
    "div_data = soup2.find('div', attrs={\n",
    "    'id' : 'mw-content-text'\n",
    "})"
   ]
  },
  {
   "cell_type": "code",
   "execution_count": null,
   "metadata": {},
   "outputs": [],
   "source": [
    "# div_data에서 p태그의 개수를 확인 \n",
    "len(div_data.find_all('p'))"
   ]
  },
  {
   "cell_type": "code",
   "execution_count": null,
   "metadata": {},
   "outputs": [],
   "source": [
    "p_list = div_data.find_all('p')"
   ]
  },
  {
   "cell_type": "code",
   "execution_count": null,
   "metadata": {},
   "outputs": [],
   "source": [
    "p_list"
   ]
  },
  {
   "cell_type": "code",
   "execution_count": 39,
   "metadata": {},
   "outputs": [
    {
     "data": {
      "text/plain": [
       "['토요일(土曜日)은 금요일 뒤의 날, 일요일 앞의 날이다. 토요일은 대부분의 서방 국가에서주말의 일부로 취급한다.',\n",
       " \"일부게르만어파언어에서 토요일은 '사투르누스의 날'(영어:Saturday,네덜란드어:Zaterdag)을 어원으로 하고 있는데, 사투르누스는토성을 상징하는 신이므로,대한민국과일본에서는 '토요일'로 불린다. 나머지 대부분의 경우북게르만어즉노르만어위주로는 lördag이라고 한다. 그러나 게르만어의 중심인 독일어는 Samstag[zámsta:k]라고 다르게 부른다. 잠(Sam)이라는 위인/신이 있는가 혹은 아래 라틴어파 sabato 특히 불어를 접해 들어온 것이 아닐까 하는 의견이 있다.\",\n",
       " \"남부 유럽 언어 및 동남아 언어에서 '토요일'이란 낱말은안식일(샤밭)을 어원으로 하고 있다. 그 예로는그리스어Σάββατο,이탈리아어sabato,인도네시아어sabtu등이 있다.\"]"
      ]
     },
     "execution_count": 39,
     "metadata": {},
     "output_type": "execute_result"
    }
   ],
   "source": [
    "## p_list에서 각각의 원소에서 텍스트를 추출하여 새로운 리스트에 추가 \n",
    "## 만약에 텍스트가 존재하지 않는다면 추가하지 않는다. \n",
    "_val = []\n",
    "\n",
    "for p in p_list:\n",
    "    # print(p.get_text(strip=True))\n",
    "    data = p.get_text(strip=True)\n",
    "    if len(data) != 0:\n",
    "        _val.append(data)\n",
    "_val"
   ]
  },
  {
   "cell_type": "code",
   "execution_count": null,
   "metadata": {},
   "outputs": [],
   "source": []
  }
 ],
 "metadata": {
  "kernelspec": {
   "display_name": "Python 3",
   "language": "python",
   "name": "python3"
  },
  "language_info": {
   "codemirror_mode": {
    "name": "ipython",
    "version": 3
   },
   "file_extension": ".py",
   "mimetype": "text/x-python",
   "name": "python",
   "nbconvert_exporter": "python",
   "pygments_lexer": "ipython3",
   "version": "3.11.1"
  }
 },
 "nbformat": 4,
 "nbformat_minor": 2
}
