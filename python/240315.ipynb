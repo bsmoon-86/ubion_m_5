{
 "cells": [
  {
   "cell_type": "code",
   "execution_count": null,
   "metadata": {},
   "outputs": [],
   "source": [
    "a = 10"
   ]
  },
  {
   "cell_type": "code",
   "execution_count": null,
   "metadata": {},
   "outputs": [],
   "source": []
  },
  {
   "cell_type": "markdown",
   "metadata": {},
   "source": [
    "# 제목1\n",
    "## 제목2\n",
    "### 제목3\n",
    "#### 제목4"
   ]
  },
  {
   "cell_type": "markdown",
   "metadata": {},
   "source": [
    "#### 비순서형 목록\n",
    "- 항목1\n",
    "- 항목2\n",
    "- 항목3\n",
    "    - 서브1\n",
    "    - 서브2\n",
    "    - 서브3"
   ]
  },
  {
   "cell_type": "markdown",
   "metadata": {},
   "source": [
    "### 순서형 목록\n",
    "1. 항목1\n",
    "3. 항목2\n",
    "5. 항목3\n",
    "    1. 서브1\n",
    "    2. 서브2\n",
    "    3. 서브3"
   ]
  },
  {
   "cell_type": "code",
   "execution_count": null,
   "metadata": {},
   "outputs": [],
   "source": [
    "# 변수를 생성 \n",
    "a = 10\n",
    "b = 'test'"
   ]
  },
  {
   "cell_type": "code",
   "execution_count": null,
   "metadata": {},
   "outputs": [],
   "source": [
    "print(a)\n",
    "print(type(a))\n",
    "print(b)\n",
    "print(type(b))"
   ]
  },
  {
   "cell_type": "code",
   "execution_count": null,
   "metadata": {},
   "outputs": [],
   "source": [
    "c = True\n",
    "d = 3.14\n",
    "print(c)\n",
    "print(type(c))\n",
    "print(d)\n",
    "print(type(d))"
   ]
  },
  {
   "cell_type": "code",
   "execution_count": null,
   "metadata": {},
   "outputs": [],
   "source": [
    "# 데이터의 타입을 변경 (문자를 숫자로 변경)\n",
    "x = '1000'\n",
    "print(type(x))\n",
    "x = int(x)\n",
    "print(type(x))"
   ]
  },
  {
   "cell_type": "code",
   "execution_count": null,
   "metadata": {},
   "outputs": [],
   "source": [
    "# 숫자를 문자로 변경 \n",
    "y = 100\n",
    "print(type(y))\n",
    "y = str(y)\n",
    "print(type(y))"
   ]
  },
  {
   "cell_type": "code",
   "execution_count": null,
   "metadata": {},
   "outputs": [],
   "source": [
    "a = 'test'\n",
    "print(a)\n",
    "a = bool(a)\n",
    "print(a)"
   ]
  },
  {
   "cell_type": "code",
   "execution_count": null,
   "metadata": {},
   "outputs": [],
   "source": [
    "bool(0)"
   ]
  },
  {
   "cell_type": "code",
   "execution_count": null,
   "metadata": {},
   "outputs": [],
   "source": [
    "bool(-3)"
   ]
  },
  {
   "cell_type": "code",
   "execution_count": null,
   "metadata": {},
   "outputs": [],
   "source": [
    "# 연산자 \n",
    "a = 10\n"
   ]
  },
  {
   "cell_type": "code",
   "execution_count": null,
   "metadata": {},
   "outputs": [],
   "source": [
    "b = 3"
   ]
  },
  {
   "cell_type": "code",
   "execution_count": null,
   "metadata": {},
   "outputs": [],
   "source": [
    "a + b"
   ]
  },
  {
   "cell_type": "code",
   "execution_count": null,
   "metadata": {},
   "outputs": [],
   "source": [
    "# a = a + b\n",
    "a += b"
   ]
  },
  {
   "cell_type": "code",
   "execution_count": null,
   "metadata": {},
   "outputs": [],
   "source": [
    "print(a)"
   ]
  },
  {
   "cell_type": "code",
   "execution_count": null,
   "metadata": {},
   "outputs": [],
   "source": [
    "# 조건문 (if문)\n",
    "a = 5\n",
    "\n",
    "if a < 10:\n",
    "    print('a가 10보다 작다')"
   ]
  },
  {
   "cell_type": "code",
   "execution_count": null,
   "metadata": {},
   "outputs": [],
   "source": [
    "a = 11\n",
    "\n",
    "if a < 10 :\n",
    "    print('a는 10보다 작다.')\n",
    "else:\n",
    "    print('a는 10보다 크거나 같다.')"
   ]
  },
  {
   "cell_type": "code",
   "execution_count": null,
   "metadata": {},
   "outputs": [],
   "source": [
    "x = \"\"\n",
    "\n",
    "# if 뒤의 조건식에 조건식이 아닌 변수가 들어온다면\n",
    "# 해당하는 변수를 강제로 bool형태로 변환하여 비교\n",
    "if x:\n",
    "    print('x에는 데이터가 존재')\n",
    "else:\n",
    "    print('x에는 데이터가 존재하지 않는다. ')"
   ]
  },
  {
   "cell_type": "code",
   "execution_count": null,
   "metadata": {},
   "outputs": [],
   "source": [
    "# 조건식이 여러개인 경우 \n",
    "# int() : 데이터를 숫자로 변환\n",
    "# input() : 입력한 데이터를 받는다. 받은 데이터의 타입이 str\n",
    "score = int(input(\"점수를 입력하시오 : \"))\n",
    "# print(score)\n",
    "\n",
    "if score >= 90:\n",
    "    print('A')\n",
    "elif score >= 80:\n",
    "    print('B')\n",
    "elif score >= 70:\n",
    "    print('C')\n",
    "elif score >= 60:\n",
    "    print('D')\n",
    "else:\n",
    "    print('F')\n",
    "\n",
    "print('프로그램 종료')\n"
   ]
  },
  {
   "cell_type": "markdown",
   "metadata": {},
   "source": [
    "#### 반복문 \n",
    "- for문 \n",
    "    - for i in range(시작값, 종료값, 증가값)\n",
    "    - for i in 자료형데이터(튜플, 리스트)\n",
    "    - 자료형 데이터의 원소의 개수만큼 반복 실행\n",
    "- while문 \n",
    "    - while 뒤의 조건식이 거짓이 될때까지 반복 실행\n",
    "    - 일반적으로는 초기값을 변수에 대입, 반복실행 시 초기값을 증가 시키는 형태로 작성\n",
    "    - 유의 사항 : 무한 반복을 하지 않도록(조건식이 거짓이 되는 부분) 조심\n",
    "- break\n",
    "    - 반복문을 강제로 종료\n",
    "- continue \n",
    "    - 반복문으로 되돌아가는 기능"
   ]
  },
  {
   "cell_type": "code",
   "execution_count": null,
   "metadata": {},
   "outputs": [],
   "source": [
    "print(range(1, 10, 1))\n",
    "print( list( range(1, 10, 1) ) )"
   ]
  },
  {
   "cell_type": "code",
   "execution_count": null,
   "metadata": {},
   "outputs": [],
   "source": [
    "#  기본적인 for문의 형태 \n",
    "for i in range(1, 10, 1):\n",
    "    print(i)"
   ]
  },
  {
   "cell_type": "code",
   "execution_count": null,
   "metadata": {},
   "outputs": [],
   "source": [
    "# 리스트 생성 \n",
    "_list = [100, 'test', True]\n",
    "\n",
    "# 리스트의 길이를 출력 \n",
    "print(len(_list))"
   ]
  },
  {
   "cell_type": "code",
   "execution_count": null,
   "metadata": {},
   "outputs": [],
   "source": [
    "# for i in range(0, 3, 1):\n",
    "for i in range(0, len(_list), 1):\n",
    "    # i에 들어오는 데이터들은? 0, 1, 2\n",
    "    print(_list[i])"
   ]
  },
  {
   "cell_type": "code",
   "execution_count": null,
   "metadata": {},
   "outputs": [],
   "source": [
    "for i in _list:\n",
    "    # i에 들어오는 데이터들은? \n",
    "    print(i)"
   ]
  }
 ],
 "metadata": {
  "kernelspec": {
   "display_name": "Python 3",
   "language": "python",
   "name": "python3"
  },
  "language_info": {
   "codemirror_mode": {
    "name": "ipython",
    "version": 3
   },
   "file_extension": ".py",
   "mimetype": "text/x-python",
   "name": "python",
   "nbconvert_exporter": "python",
   "pygments_lexer": "ipython3",
   "version": "3.11.1"
  }
 },
 "nbformat": 4,
 "nbformat_minor": 2
}
