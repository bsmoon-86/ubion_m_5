{
 "cells": [
  {
   "cell_type": "markdown",
   "metadata": {},
   "source": [
    "### Class의 상속\n",
    "- 부모클래스의 기능을 유지한 상태에서 자식클래스가 부모 클래스의 기능을 추가하여 사용"
   ]
  },
  {
   "cell_type": "code",
   "execution_count": null,
   "metadata": {},
   "outputs": [],
   "source": [
    "# 부모 클래스를 생성 \n",
    "class User:\n",
    "    # 생성자 함수 : 유저의 정보를 입력받아서 독립 변수에 대입 \n",
    "    def __init__(self, _name, _age, _loc):\n",
    "        self.name = _name\n",
    "        self.age = _age\n",
    "        self.loc = _loc\n",
    "    # 유저의 정보를 출력해주는 함수 생성\n",
    "    def view_info(self):\n",
    "        result = f\"유저의 이름은 {self.name}, 나이는 {self.age}이고 지역은 {self.loc}입니다.\"\n",
    "        return result"
   ]
  },
  {
   "cell_type": "code",
   "execution_count": null,
   "metadata": {},
   "outputs": [],
   "source": [
    "# Class 생성 \n",
    "user1 = User('kim', 20, '서울')\n",
    "user2 = User('park', 30, '경기')"
   ]
  },
  {
   "cell_type": "code",
   "execution_count": null,
   "metadata": {},
   "outputs": [],
   "source": [
    "user1.view_info()"
   ]
  },
  {
   "cell_type": "code",
   "execution_count": null,
   "metadata": {},
   "outputs": [],
   "source": [
    "user2.view_info()"
   ]
  },
  {
   "cell_type": "markdown",
   "metadata": {},
   "source": [
    "### 자식 클래스 \n",
    "- 클래스의 이름은 Wallet\n",
    "- User class의 기능을 상속 받는다. (독립변수를 만들어주는 생성자 함수, 유저의 정보를 보여주는 함수)\n",
    "- Wallet class에서만 사용할 수 있는 독립변수를 생성(지갑의 잔액, 구매한 물건의 목록)\n",
    "- work() 함수를 생성 \n",
    "    - 매개변수 : 일의 종류(_type)\n",
    "    - 매개변수 : 일의 기간(_time)\n",
    "    - 일의 종류와 기간 따라 독립변수 지갑의 잔액을 증가시킨다. \n",
    "    - 리턴 값은 일을 하여 번 돈의 양과 현재 지갑의 잔액을 표시 \n",
    "- purchase() 함수를 생성\n",
    "    - 매개변수 : 구매한 물품(_type)\n",
    "    - 매개변수 : 물품 개수(_cnt)\n",
    "    - 구매하려는 물품의 가격과 개수를 이용하여 지갑의 잔액과 비교\n",
    "        - 잔액이 크거나 같다면\n",
    "            - 구매 성공\n",
    "            - 잔액을 감소\n",
    "            - 구매한 물품의 목록에 추가 ({물품의 이름 : 개수})\n",
    "        - 잔액이 작다면\n",
    "            - 구매 실패\n",
    "            - 잔액은 유지 \n",
    "    - 현재 구매의 상태와 현재 지갑의 잔액을 표시하여 리턴"
   ]
  },
  {
   "cell_type": "code",
   "execution_count": 52,
   "metadata": {},
   "outputs": [],
   "source": [
    "## 자식 클래스를 선언 \n",
    "class Wallet(User):\n",
    "\n",
    "    # class 변수를 선언\n",
    "    # 구매할수 있는 아이템의 목록\n",
    "    items = {\n",
    "        'ipad' : 3200000, \n",
    "        'mac studio' : 13000000, \n",
    "        'apple vision' : 4600000, \n",
    "        'soju' : 1350\n",
    "    }\n",
    "\n",
    "    # User class의 생성자함수, view_info() 함수를 상속 받았다. \n",
    "    # 자식 클래스의 생성자 함수 \n",
    "    def __init__(self, _name, _age, _loc, _balance = 0):\n",
    "        # self.name = _name\n",
    "        # self.age = _age\n",
    "        # self.loc = _loc\n",
    "        # 부모클래스의 생성자 함수를 호출\n",
    "        super().__init__(_name, _age, _loc)\n",
    "        self.balance = _balance\n",
    "        self.item_list = []\n",
    "\n",
    "\n",
    "    # 일을 하는 함수를 생성 \n",
    "    def work(self, _type, _time):\n",
    "        # _type : 일의 종류(직급)\n",
    "        # _time : 일의 기간\n",
    "        if _type == '신입':\n",
    "            # case1\n",
    "            income = 3000000\n",
    "            # case2 \n",
    "            # self.balance += 3000000 * _time\n",
    "        elif _type == '대리':\n",
    "            # case1\n",
    "            income = 3500000\n",
    "            # case2\n",
    "            # self.balance += 3500000 * _time\n",
    "        elif _type == '과장':\n",
    "            # case1\n",
    "            income = 5000000\n",
    "            # case2\n",
    "            # self.balance += 5000000 * _time\n",
    "        else : \n",
    "            return f\"입력한 인자는 잘못되었습니다. 가능한 입력값은 [신입, 대리, 과장] 입니다.\"\n",
    "        # case1(잔액 변경)\n",
    "        total_income = income * _time\n",
    "        self.balance += total_income\n",
    "        # 결과 메시지를 되돌려준다. \n",
    "        return f\"{self.name}님의 지갑에 월급이 들어왔습니다. 입금금액 : {total_income}, 현재 잔액 : {self.balance}\"\n",
    "    \n",
    "    def 탕진(self, _type, _cnt):\n",
    "        # 상품의 가격을 호출해서 변수에 저장 \n",
    "        try:\n",
    "            cost = self.items[_type]\n",
    "        except:\n",
    "            return f\"등록된 물품 정보가 존재하지 않습니다. 등록된 물건은 {items.keys()}입니다.\"\n",
    "        \n",
    "        total_cost = cost * _cnt\n",
    "        # 전체 비용과 지갑의 잔액을 비교\n",
    "        if self.balance >= total_cost:\n",
    "            # 지갑의 잔액이 충분하다. \n",
    "            # 구매를 진행 ( self.item_list에 물건을 추가, self.balance에 차감 )\n",
    "            self.item_list.append(\n",
    "                {\n",
    "                    _type : _cnt\n",
    "                }\n",
    "            )\n",
    "            self.balance -= total_cost\n",
    "        else:\n",
    "            # 지갑의 잔액이 충분하지 않다. \n",
    "            # 구매를 진행할수 없다 \n",
    "            print('잔액이 부족합니다.')\n",
    "            total_cost = 0\n",
    "        return f\"구매금액 : {total_cost}, 현재 잔액 : {self.balance}\"\n",
    "    # items에 새로운 키 : 벨류를 추가하는 함수를 생성 \n",
    "    def add_item(self, _type, _cost):\n",
    "        # _type으로 들어온 데이터의 값이 items에 키 값으로 존재하는가?\n",
    "        # 존재하지 않는다면 새로운 키 : 벨류를 추가 \n",
    "        # 존재한다면 해당하는 상품이 존재한다 메시지를 리턴\n",
    "\n",
    "        # items에 등록되어있는 key값들을 추출하여 변수에 저장 \n",
    "        items_key = list(self.items.keys())\n",
    "        print(items_key)\n",
    "        # items_key 값들 중 _type이 포함(in)되어있는가?\n",
    "        if _type in items_key:\n",
    "            # 포함 되어 있는 경우 \n",
    "            result = \"이미 등록되어 있는 상품입니다.\"\n",
    "        else:\n",
    "            # 포함되어 있지 않은 경우 \n",
    "            # items에 새로운 키 : 벨류 추가 \n",
    "            self.items[_type] = _cost\n",
    "            result = f\"{_type}의 물건을 등록하였습니다.\"\n",
    "        return result\n",
    "    \n",
    "    # User class에 있는 view_info() 함수를 덮어씌운다. \n",
    "    def view_info(self):\n",
    "        origin_result = super().view_info()\n",
    "        result = f\"\"\"지갑의 소유자의 이름은 {self.name} \n",
    "            현재 지갑의 잔액은 {self.balance} 입니다. \n",
    "            소유자가 구매한 물품의 목록은 {self.item_list} 입니다.\n",
    "        \"\"\"\n",
    "        return origin_result + '\\n' + result\n",
    "\n",
    "    "
   ]
  },
  {
   "cell_type": "code",
   "execution_count": 53,
   "metadata": {},
   "outputs": [],
   "source": [
    "# Wallet class 생성\n",
    "wallet1 = Wallet('이강희', 26, '묵1동')\n",
    "wallet2 = Wallet('정우성', 27, '당산')"
   ]
  },
  {
   "cell_type": "code",
   "execution_count": 57,
   "metadata": {},
   "outputs": [
    {
     "name": "stdout",
     "output_type": "stream",
     "text": [
      "유저의 이름은 이강희, 나이는 26이고 지역은 묵1동입니다.\n",
      "지갑의 소유자의 이름은 이강희 \n",
      "            현재 지갑의 잔액은 9000000 입니다. \n",
      "            소유자가 구매한 물품의 목록은 [] 입니다.\n",
      "        \n"
     ]
    }
   ],
   "source": [
    "print(wallet1.view_info())"
   ]
  },
  {
   "cell_type": "code",
   "execution_count": 55,
   "metadata": {},
   "outputs": [
    {
     "data": {
      "text/plain": [
       "'유저의 이름은 정우성, 나이는 27이고 지역은 당산입니다.\\n지갑의 소유자의 이름은 정우성 \\n            현재 지갑의 잔액은 0 입니다. \\n            소유자가 구매한 물품의 목록은 [] 입니다.\\n        '"
      ]
     },
     "execution_count": 55,
     "metadata": {},
     "output_type": "execute_result"
    }
   ],
   "source": [
    "wallet2.view_info()"
   ]
  },
  {
   "cell_type": "code",
   "execution_count": 56,
   "metadata": {},
   "outputs": [
    {
     "data": {
      "text/plain": [
       "'이강희님의 지갑에 월급이 들어왔습니다. 입금금액 : 9000000, 현재 잔액 : 9000000'"
      ]
     },
     "execution_count": 56,
     "metadata": {},
     "output_type": "execute_result"
    }
   ],
   "source": [
    "wallet1.work('신입', 3)"
   ]
  },
  {
   "cell_type": "code",
   "execution_count": 48,
   "metadata": {},
   "outputs": [
    {
     "data": {
      "text/plain": [
       "'정우성님의 지갑에 월급이 들어왔습니다. 입금금액 : 7000000, 현재 잔액 : 7000000'"
      ]
     },
     "execution_count": 48,
     "metadata": {},
     "output_type": "execute_result"
    }
   ],
   "source": [
    "wallet2.work('대리', 2)"
   ]
  },
  {
   "cell_type": "code",
   "execution_count": 49,
   "metadata": {},
   "outputs": [
    {
     "data": {
      "text/plain": [
       "9000000"
      ]
     },
     "execution_count": 49,
     "metadata": {},
     "output_type": "execute_result"
    }
   ],
   "source": [
    "wallet1.balance"
   ]
  },
  {
   "cell_type": "code",
   "execution_count": 50,
   "metadata": {},
   "outputs": [
    {
     "data": {
      "text/plain": [
       "7000000"
      ]
     },
     "execution_count": 50,
     "metadata": {},
     "output_type": "execute_result"
    }
   ],
   "source": [
    "wallet2.balance"
   ]
  },
  {
   "cell_type": "code",
   "execution_count": 51,
   "metadata": {},
   "outputs": [
    {
     "data": {
      "text/plain": [
       "'구매금액 : 3200000, 현재 잔액 : 5800000'"
      ]
     },
     "execution_count": 51,
     "metadata": {},
     "output_type": "execute_result"
    }
   ],
   "source": [
    "wallet1.탕진('ipad', 1)"
   ]
  },
  {
   "cell_type": "markdown",
   "metadata": {},
   "source": [
    "#### 오버라이드\n",
    "- 덮어씌우다\n",
    "- 기능을 덮어씌우는 부분 \n",
    "    - 기능을 이름을 다시 작성하여 행동을 덮어씌우는 작업\n",
    "    - ex) replace(), map(), ..."
   ]
  },
  {
   "cell_type": "markdown",
   "metadata": {},
   "source": []
  }
 ],
 "metadata": {
  "kernelspec": {
   "display_name": "Python 3",
   "language": "python",
   "name": "python3"
  },
  "language_info": {
   "codemirror_mode": {
    "name": "ipython",
    "version": 3
   },
   "file_extension": ".py",
   "mimetype": "text/x-python",
   "name": "python",
   "nbconvert_exporter": "python",
   "pygments_lexer": "ipython3",
   "version": "3.11.1"
  }
 },
 "nbformat": 4,
 "nbformat_minor": 2
}
