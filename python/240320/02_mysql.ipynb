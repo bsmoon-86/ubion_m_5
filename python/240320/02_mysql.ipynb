{
 "cells": [
  {
   "cell_type": "markdown",
   "metadata": {},
   "source": [
    "### mysql과 python 연동 \n",
    "1. mysql과 연동을 할 수 있는 기능을 가진 라이브러리 설치 \n",
    "    - python에서 라이브러리들이 저장되어 있는 공간\n",
    "    - R에서는 CRAN에 저장소가 있다면 python에서는 pip 저장소에 저장되어있다. \n",
    "    - 라이브러리 설치 명령어 : pip install 라이브러리명\n",
    "    - mysql과 연동하는 라이브러리의 이름은 pymysql\n",
    "    - pip install pymysql\n",
    "2. 라이브러리 로드 \n",
    "    - import 라이브러리명\n",
    "    - from 라이브러리명 import (Class|function|module)\n",
    "    - as 별칭 -> 라이브러리를 별칭을 통해 간단하게 쓰기 위해서\n",
    "3. mysql 서버의 정보를 입력하고 연결\n",
    "    - DB서버의 주소 : host\n",
    "        - localhost, 127.0.0.1 : 내 컴퓨터\n",
    "        - 외부의 주소 (ex : 172.168.1.40)\n",
    "    - port\n",
    "        - mysql의 기본포트 : 3306\n",
    "    - user\n",
    "        - mysql에 연결할때 사용하는 사용자의 이름\n",
    "        - 기본 계정 (root)\n",
    "    - password\n",
    "        - mysql에 연결할 때 사용하는 사용자의 비밀번호\n",
    "    - db\n",
    "        - mysql 서버에서 사용할 Database의 이름\n",
    "- DB서버와 python공간 사이에 가상 공간을 생성\n",
    "    - cursor는 가상 공간의 이름\n",
    "- sql 쿼리문을 이용하여 cursor에 질의를 보낸다. \n",
    "    - 데이터의 변환 질의 (insert, update, delete)\n",
    "        - 질의를 보낸다.(execute())\n",
    "        - DB서버의 데이터를 변경(commit())\n",
    "        - DB서버와의 연결을 종료(close())\n",
    "    - 데이터의 로드 질의(select)\n",
    "        - 질의를 보낸다(execute())\n",
    "        - 질의에 대한 결과물을 받아온다.(fetchall())\n",
    "        - DB서버와의 연결을 종료(close())"
   ]
  },
  {
   "cell_type": "code",
   "execution_count": null,
   "metadata": {},
   "outputs": [],
   "source": [
    "# 라이브러리 설치 \n",
    "!pip install pymysql"
   ]
  },
  {
   "cell_type": "code",
   "execution_count": null,
   "metadata": {},
   "outputs": [],
   "source": [
    "# 라이브러리 로드 \n",
    "import pymysql"
   ]
  },
  {
   "cell_type": "code",
   "execution_count": null,
   "metadata": {},
   "outputs": [],
   "source": [
    "## mysql 연결시 cryptography 에러 발생 시 \n",
    "!pip install cryptography"
   ]
  },
  {
   "cell_type": "code",
   "execution_count": null,
   "metadata": {},
   "outputs": [],
   "source": [
    "_db = pymysql.connect(\n",
    "    host = 'localhost',     # 172.30.1.55\n",
    "    port = 3306, \n",
    "    user = 'root',          # ubion\n",
    "    password = '1234', \n",
    "    db = 'ubion1'\n",
    ")"
   ]
  },
  {
   "cell_type": "code",
   "execution_count": null,
   "metadata": {},
   "outputs": [],
   "source": [
    "# cursor 생성 (기본값 설정) \n",
    "cursor = _db.cursor()\n",
    "# cursor2 생성 (옵션 변경)\n",
    "cursor2 = _db.cursor(pymysql.cursors.DictCursor)\n",
    "\n",
    "# cursor의 기본 설정대로 생성시 데이터를 로드하는 과정에서 받아오는 \n",
    "# 데이터의 타입이 2차원 tuple\n",
    "# DictCursor 이용시 받아오는 데이터의 타입은 list안에 dict 형태"
   ]
  },
  {
   "cell_type": "code",
   "execution_count": null,
   "metadata": {},
   "outputs": [],
   "source": [
    "# query문을 작성 -> 문자형 데이터\n",
    "query = \"\"\"\n",
    "    select \n",
    "    * \n",
    "    from \n",
    "    tran_1\n",
    "\"\"\"\n",
    "# execute()를 이용하여 query문을 cursor에게 보낸다.\n",
    "cursor.execute(query)\n",
    "cursor2.execute(query)"
   ]
  },
  {
   "cell_type": "code",
   "execution_count": null,
   "metadata": {},
   "outputs": [],
   "source": [
    "cursor.fetchall()"
   ]
  },
  {
   "cell_type": "code",
   "execution_count": null,
   "metadata": {},
   "outputs": [],
   "source": [
    "cursor2.fetchall()"
   ]
  },
  {
   "cell_type": "code",
   "execution_count": null,
   "metadata": {},
   "outputs": [],
   "source": [
    "# DB 서버와 연결을 종료\n",
    "_db.close()"
   ]
  },
  {
   "cell_type": "code",
   "execution_count": null,
   "metadata": {},
   "outputs": [],
   "source": [
    "## DB서버에 데이터들 수정 \n",
    "query = \"\"\"\n",
    "    update \n",
    "    tran_1 \n",
    "    set \n",
    "    price = 10000\n",
    "    where \n",
    "    transaction_id = 'T0000000113'\n",
    "\"\"\""
   ]
  },
  {
   "cell_type": "code",
   "execution_count": null,
   "metadata": {},
   "outputs": [],
   "source": [
    "## 데이터 변환시 흐름 : execute() -> commit()\n",
    "cursor.execute(query)"
   ]
  },
  {
   "cell_type": "code",
   "execution_count": null,
   "metadata": {},
   "outputs": [],
   "source": [
    "select_query = \"\"\"\n",
    "    select * from tran_1 limit 5\n",
    "\"\"\"\n",
    "cursor.execute(select_query)\n",
    "cursor.fetchall()"
   ]
  },
  {
   "cell_type": "code",
   "execution_count": null,
   "metadata": {},
   "outputs": [],
   "source": [
    "## cursor에서 변경한 내역을 DB 서버에 보낸다. (동기화)\n",
    "_db.commit()"
   ]
  },
  {
   "cell_type": "code",
   "execution_count": null,
   "metadata": {},
   "outputs": [],
   "source": [
    "## select문을 사용할때의 함수 생성 \n",
    "def query_select(_sql):\n",
    "    # cursor에 _sql의 질의를 보낸다. \n",
    "    cursor.execute(_sql)\n",
    "    # 결과물을 돌려받는다. \n",
    "    result = cursor.fetchall()\n",
    "    return result"
   ]
  },
  {
   "cell_type": "code",
   "execution_count": null,
   "metadata": {},
   "outputs": [],
   "source": [
    "select1 = \"\"\"\n",
    "    select * from tran_1 limit 5\n",
    "\"\"\"\n",
    "query_select(select1)"
   ]
  },
  {
   "cell_type": "code",
   "execution_count": null,
   "metadata": {},
   "outputs": [],
   "source": [
    "## insert, update, delete문을 이용할때 사용할 함수 생성\n",
    "def cud_query(_sql):\n",
    "    # _sql를 cursor에 execute()\n",
    "    cursor.execute(_sql)\n",
    "    # DB서버와 동기화 \n",
    "    _db.commit()\n",
    "    return 'Query OK'"
   ]
  },
  {
   "cell_type": "code",
   "execution_count": null,
   "metadata": {},
   "outputs": [],
   "source": [
    "delete1 = \"\"\"\n",
    "    delete \n",
    "    from \n",
    "    tran_1\n",
    "    where \n",
    "    transaction_id = 'T0000000113'\n",
    "\"\"\""
   ]
  },
  {
   "cell_type": "code",
   "execution_count": null,
   "metadata": {},
   "outputs": [],
   "source": [
    "cud_query(delete1)"
   ]
  },
  {
   "cell_type": "code",
   "execution_count": null,
   "metadata": {},
   "outputs": [],
   "source": [
    "query = \"\"\"\n",
    "    DELETE from tran_1\n",
    "\"\"\"\n",
    "\n",
    "# query 문자열이 select로 시작하는가?\n",
    "# case1 (문자를 잘라서 확인)\n",
    "print(query.strip()[0:6].lower() == 'select')\n",
    "# case2 (공백을 기준으로 문자열을 나눠준다.)\n",
    "print(query.split()[0].lower() == 'select')\n",
    "# case3 (문자의 시작이 특정 단어로 시작하는가?)\n",
    "print(query.lower().strip().startswith('select'))\n"
   ]
  },
  {
   "cell_type": "code",
   "execution_count": null,
   "metadata": {},
   "outputs": [],
   "source": [
    "### query_select()함수와 cud_query() 함수를 결합하여 하나의 함수를 생성\n",
    "def sql_query(_sql, *_values):\n",
    "    # cursor에 질의를 보낸다. \n",
    "    cursor.execute(_sql, _values)\n",
    "    # _sql에 입력되는 인자의 값이 select문이라면?\n",
    "    if _sql.lower().strip().startswith('select'):\n",
    "        # select문일 때 실행 할 코드 작성\n",
    "        result = cursor.fetchall()\n",
    "    else:\n",
    "        # select문이 아닐 때 실행 할 코드 작성 \n",
    "        _db.commit()\n",
    "        result = 'Query OK'\n",
    "    return result"
   ]
  },
  {
   "cell_type": "code",
   "execution_count": null,
   "metadata": {},
   "outputs": [],
   "source": [
    "select2 = \"\"\"\n",
    "    select * from tran_1 where price > 20000\n",
    "\"\"\"\n",
    "sql_query(select2)"
   ]
  },
  {
   "cell_type": "code",
   "execution_count": null,
   "metadata": {},
   "outputs": [],
   "source": [
    "delete2 = \"\"\"\n",
    "    delete from tran_1 where transaction_id = 'T0000000115'\n",
    "\"\"\"\n",
    "sql_query(delete2)"
   ]
  },
  {
   "cell_type": "code",
   "execution_count": null,
   "metadata": {},
   "outputs": [],
   "source": [
    "# select3 = \"\"\"\n",
    "#     select * from tran_1 where price >= %s and price <= %s\n",
    "# \"\"\"\n",
    "select3 = \"\"\"\n",
    "    select * from tran_1 where price between %s and %s\n",
    "\"\"\"\n",
    "value = (50000, 100000)\n",
    "cursor.execute(select3, value)\n",
    "cursor.fetchall()"
   ]
  },
  {
   "cell_type": "code",
   "execution_count": null,
   "metadata": {},
   "outputs": [],
   "source": [
    "sql_query(select3, 50000, 80000)"
   ]
  },
  {
   "cell_type": "code",
   "execution_count": null,
   "metadata": {},
   "outputs": [],
   "source": [
    "select4 = \"\"\"\n",
    "    select * from tran_1\n",
    "\"\"\"\n",
    "sql_query(select4)\n"
   ]
  },
  {
   "cell_type": "code",
   "execution_count": null,
   "metadata": {},
   "outputs": [],
   "source": [
    "## mysql server와의 연동을 하는 Class 선언\n",
    "class MyDB:\n",
    "    # 생성자 함수 (DB서버의 정보를 입력)\n",
    "    def __init__(\n",
    "            self, \n",
    "            _host = 'localhost', \n",
    "            _port = 3306, \n",
    "            _user = 'root', \n",
    "            _pw = '1234', \n",
    "            _db = 'ubion'\n",
    "    ):\n",
    "        self.host = _host\n",
    "        self.port = _port\n",
    "        self.user = _user\n",
    "        self.pw = _pw\n",
    "        self.db = _db\n",
    "    def sql_query(self, _sql, *_values):\n",
    "        # DB서버와의 연결\n",
    "        mydb = pymysql.connect(\n",
    "            host = self.host, \n",
    "            port = self.port, \n",
    "            user = self.user, \n",
    "            password = self.pw, \n",
    "            db = self.db\n",
    "        )\n",
    "        # cursor 생성\n",
    "        cursor = mydb.cursor(pymysql.cursors.DictCursor)\n",
    "        # _sql, _values를 이용하여 cursor에 질의를 던진다. \n",
    "        cursor.execute(_sql, _values)\n",
    "        # _sql이 select문인가 확인 \n",
    "        if _sql.lower().strip().startswith('select'):\n",
    "            # select문이면 \n",
    "            result = cursor.fetchall()\n",
    "        else:\n",
    "            # selec문이 아니라면\n",
    "            mydb.commit()\n",
    "            result = 'Query OK'\n",
    "        # DB 서버와의 연결을 종료\n",
    "        mydb.close()\n",
    "        # 결과값을 되돌려준다. \n",
    "        return result\n",
    "        "
   ]
  },
  {
   "cell_type": "code",
   "execution_count": null,
   "metadata": {},
   "outputs": [],
   "source": [
    "# MyDB class 생성\n",
    "db1 = MyDB()"
   ]
  },
  {
   "cell_type": "code",
   "execution_count": null,
   "metadata": {},
   "outputs": [],
   "source": [
    "# db1 : 서버의 정보가 내 컴퓨터\n",
    "select1 = \"\"\"\n",
    "    select * from tran_1 limit %s\n",
    "\"\"\"\n",
    "db1.sql_query(select1, 3)"
   ]
  },
  {
   "cell_type": "code",
   "execution_count": 62,
   "metadata": {},
   "outputs": [],
   "source": [
    "## 외부의 컴퓨터 접속 \n",
    "db2 = MyDB(\n",
    "    _host = '172.30.1.55', \n",
    "    _port = 3306, \n",
    "    _user = 'ubion', \n",
    "    _pw = '1234', \n",
    "    _db = 'ubion'\n",
    ")"
   ]
  },
  {
   "cell_type": "code",
   "execution_count": 63,
   "metadata": {},
   "outputs": [
    {
     "data": {
      "text/plain": [
       "[{'MyUnknownColumn': 0,\n",
       "  'createDt': '2022-06-08 09:09:05.982',\n",
       "  'deathCnt': 24305,\n",
       "  'decideCnt': 18188200,\n",
       "  'seq': 904,\n",
       "  'stateDt': 20220608,\n",
       "  'stateTime': '00:00',\n",
       "  'updateDt': None,\n",
       "  'accExamCnt': '',\n",
       "  'accDefRate': ''},\n",
       " {'MyUnknownColumn': 1,\n",
       "  'createDt': '2022-06-07 09:09:00.897',\n",
       "  'deathCnt': 24299,\n",
       "  'decideCnt': 18174842,\n",
       "  'seq': 903,\n",
       "  'stateDt': 20220607,\n",
       "  'stateTime': '00:00',\n",
       "  'updateDt': '2022-06-08 09:10:36.846',\n",
       "  'accExamCnt': '',\n",
       "  'accDefRate': ''},\n",
       " {'MyUnknownColumn': 2,\n",
       "  'createDt': '2022-06-06 09:00:06.734',\n",
       "  'deathCnt': 24279,\n",
       "  'decideCnt': 18168670,\n",
       "  'seq': 902,\n",
       "  'stateDt': 20220606,\n",
       "  'stateTime': '00:00',\n",
       "  'updateDt': '2022-06-08 09:10:50.441',\n",
       "  'accExamCnt': '',\n",
       "  'accDefRate': ''},\n",
       " {'MyUnknownColumn': 3,\n",
       "  'createDt': '2022-06-05 08:53:19.426',\n",
       "  'deathCnt': 24258,\n",
       "  'decideCnt': 18163648,\n",
       "  'seq': 901,\n",
       "  'stateDt': 20220605,\n",
       "  'stateTime': '00:00',\n",
       "  'updateDt': '2022-06-08 09:11:04.758',\n",
       "  'accExamCnt': '',\n",
       "  'accDefRate': ''},\n",
       " {'MyUnknownColumn': 4,\n",
       "  'createDt': '2022-06-04 08:56:49.219',\n",
       "  'deathCnt': 24238,\n",
       "  'decideCnt': 18153814,\n",
       "  'seq': 900,\n",
       "  'stateDt': 20220604,\n",
       "  'stateTime': '00:00',\n",
       "  'updateDt': '2022-06-08 09:11:26.303',\n",
       "  'accExamCnt': '',\n",
       "  'accDefRate': ''}]"
      ]
     },
     "execution_count": 63,
     "metadata": {},
     "output_type": "execute_result"
    }
   ],
   "source": [
    "select1 = \"\"\"\n",
    "    select * from corona limit 5\n",
    "\"\"\"\n",
    "db2.sql_query(select1)"
   ]
  },
  {
   "cell_type": "code",
   "execution_count": null,
   "metadata": {},
   "outputs": [],
   "source": []
  }
 ],
 "metadata": {
  "kernelspec": {
   "display_name": "Python 3",
   "language": "python",
   "name": "python3"
  },
  "language_info": {
   "codemirror_mode": {
    "name": "ipython",
    "version": 3
   },
   "file_extension": ".py",
   "mimetype": "text/x-python",
   "name": "python",
   "nbconvert_exporter": "python",
   "pygments_lexer": "ipython3",
   "version": "3.11.1"
  }
 },
 "nbformat": 4,
 "nbformat_minor": 2
}
