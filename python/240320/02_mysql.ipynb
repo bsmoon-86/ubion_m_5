{
 "cells": [
  {
   "cell_type": "markdown",
   "metadata": {},
   "source": [
    "### mysql과 python 연동 \n",
    "1. mysql과 연동을 할 수 있는 기능을 가진 라이브러리 설치 \n",
    "    - python에서 라이브러리들이 저장되어 있는 공간\n",
    "    - R에서는 CRAN에 저장소가 있다면 python에서는 pip 저장소에 저장되어있다. \n",
    "    - 라이브러리 설치 명령어 : pip install 라이브러리명\n",
    "    - mysql과 연동하는 라이브러리의 이름은 pymysql\n",
    "    - pip install pymysql\n",
    "2. 라이브러리 로드 \n",
    "    - import 라이브러리명\n",
    "    - from 라이브러리명 import (Class|function|module)\n",
    "    - as 별칭 -> 라이브러리를 별칭을 통해 간단하게 쓰기 위해서\n",
    "3. mysql 서버의 정보를 입력하고 연결\n",
    "    - DB서버의 주소 : host\n",
    "        - localhost, 127.0.0.1 : 내 컴퓨터\n",
    "        - 외부의 주소 (ex : 172.168.1.40)\n",
    "    - port\n",
    "        - mysql의 기본포트 : 3306\n",
    "    - user\n",
    "        - mysql에 연결할때 사용하는 사용자의 이름\n",
    "        - 기본 계정 (root)\n",
    "    - password\n",
    "        - mysql에 연결할 때 사용하는 사용자의 비밀번호\n",
    "    - db\n",
    "        - mysql 서버에서 사용할 Database의 이름\n",
    "- DB서버와 python공간 사이에 가상 공간을 생성\n",
    "    - cursor는 가상 공간의 이름\n",
    "- sql 쿼리문을 이용하여 cursor에 질의를 보낸다. \n",
    "    - 데이터의 변환 질의 (insert, update, delete)\n",
    "        - 질의를 보낸다.(execute())\n",
    "        - DB서버의 데이터를 변경(commit())\n",
    "        - DB서버와의 연결을 종료(close())\n",
    "    - 데이터의 로드 질의(select)\n",
    "        - 질의를 보낸다(execute())\n",
    "        - 질의에 대한 결과물을 받아온다.(fetchall())\n",
    "        - DB서버와의 연결을 종료(close())"
   ]
  },
  {
   "cell_type": "code",
   "execution_count": null,
   "metadata": {},
   "outputs": [],
   "source": [
    "# 라이브러리 설치 \n",
    "!pip install pymysql"
   ]
  },
  {
   "cell_type": "code",
   "execution_count": 2,
   "metadata": {},
   "outputs": [],
   "source": [
    "# 라이브러리 로드 \n",
    "import pymysql"
   ]
  },
  {
   "cell_type": "code",
   "execution_count": null,
   "metadata": {},
   "outputs": [],
   "source": [
    "## mysql 연결시 cryptography 에러 발생 시 \n",
    "!pip install cryptography"
   ]
  },
  {
   "cell_type": "code",
   "execution_count": 3,
   "metadata": {},
   "outputs": [],
   "source": [
    "_db = pymysql.connect(\n",
    "    host = 'localhost',     # 172.30.1.55\n",
    "    port = 3306, \n",
    "    user = 'root',          # ubion\n",
    "    password = '1234', \n",
    "    db = 'ubion'\n",
    ")"
   ]
  },
  {
   "cell_type": "code",
   "execution_count": null,
   "metadata": {},
   "outputs": [],
   "source": []
  }
 ],
 "metadata": {
  "kernelspec": {
   "display_name": "Python 3",
   "language": "python",
   "name": "python3"
  },
  "language_info": {
   "codemirror_mode": {
    "name": "ipython",
    "version": 3
   },
   "file_extension": ".py",
   "mimetype": "text/x-python",
   "name": "python",
   "nbconvert_exporter": "python",
   "pygments_lexer": "ipython3",
   "version": "3.11.1"
  }
 },
 "nbformat": 4,
 "nbformat_minor": 2
}
