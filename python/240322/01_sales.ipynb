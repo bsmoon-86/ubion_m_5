{
 "cells": [
  {
   "cell_type": "markdown",
   "metadata": {},
   "source": [
    "1. csv 폴더에서 Sales Records.csv 파일 로드 \n",
    "2. 'Order ID', 'Total Revenue', 'Total Cost', 'Total Profit', 'Sales Channel' 컬럼을 제거 \n",
    "3. 컬럼의 이름들을 변경 -> ['대륙', '국가', '상품종류', '우선순위', '주문일자', '발송일자', '판매개수', '단가', '원가']\n",
    "4. 데이터의 결측치가 존재하는가?\n",
    "5. 대륙, 국가를 기준으로 오름차순 정렬 \n",
    "6. 인덱스를 재지정(기존의 인덱스를 제거)\n",
    "7. 새로운 파생변수 생성 \n",
    "    - 총단가 : 판매개수 * 단가\n",
    "    - 총원가 : 판매개수 * 원가\n",
    "    - 총이윤 : 총단가 - 총원가"
   ]
  },
  {
   "cell_type": "code",
   "execution_count": null,
   "metadata": {},
   "outputs": [],
   "source": [
    "import pandas as pd"
   ]
  },
  {
   "cell_type": "code",
   "execution_count": null,
   "metadata": {},
   "outputs": [],
   "source": [
    "# Sales Records.csv 파일을 로드 \n",
    "# 상위로 이동(../) -> 상위로 이동(../) \n",
    "# -> csv 하위폴더이동(csv/) -> Sales Records.csv\n",
    "sales = pd.read_csv('../../csv/Sales Records.csv')"
   ]
  },
  {
   "cell_type": "code",
   "execution_count": null,
   "metadata": {},
   "outputs": [],
   "source": [
    "sales.head()"
   ]
  },
  {
   "cell_type": "code",
   "execution_count": null,
   "metadata": {},
   "outputs": [],
   "source": [
    "## 특정 컬럼을 제거 \n",
    "sales.drop(\n",
    "    ['Order ID','Total Revenue', 'Total Cost', \n",
    "     'Total Profit', 'Sales Channel'], \n",
    "    axis=1, \n",
    "    inplace = True\n",
    ")"
   ]
  },
  {
   "cell_type": "code",
   "execution_count": null,
   "metadata": {},
   "outputs": [],
   "source": [
    "# 컬럼의 이름을 변경 \n",
    "sales.columns = ['대륙', '국가', '상품종류', '우선순위', \n",
    "                 '주문일자', '발송일자', '판매개수', \n",
    "                 '단가', '원가']"
   ]
  },
  {
   "cell_type": "code",
   "execution_count": null,
   "metadata": {},
   "outputs": [],
   "source": [
    "sales.head(1)"
   ]
  },
  {
   "cell_type": "code",
   "execution_count": null,
   "metadata": {},
   "outputs": [],
   "source": [
    "## 결측치를 확인\n",
    "## 데이터프레임의 정보를 출력 \n",
    "sales.info()"
   ]
  },
  {
   "cell_type": "code",
   "execution_count": null,
   "metadata": {},
   "outputs": [],
   "source": [
    "## 통계요약정보를 출력 \n",
    "sales.describe()"
   ]
  },
  {
   "cell_type": "code",
   "execution_count": null,
   "metadata": {},
   "outputs": [],
   "source": [
    "## 컬럼별 결측치의 개수를 출력 \n",
    "sales.isna().sum()"
   ]
  },
  {
   "cell_type": "code",
   "execution_count": 15,
   "metadata": {},
   "outputs": [],
   "source": [
    "## 데이터를 백업 \n",
    "df = sales.copy()"
   ]
  },
  {
   "cell_type": "code",
   "execution_count": null,
   "metadata": {},
   "outputs": [],
   "source": [
    "df.head(1)"
   ]
  },
  {
   "cell_type": "code",
   "execution_count": 19,
   "metadata": {},
   "outputs": [],
   "source": [
    "# 오름차순 정렬 ( 기준이 되는 데이터가 2개 [대륙, 국가])\n",
    "df.sort_values(\n",
    "    ['대륙', '국가'], \n",
    "    inplace = True\n",
    ")"
   ]
  },
  {
   "cell_type": "code",
   "execution_count": 21,
   "metadata": {},
   "outputs": [],
   "source": [
    "# 인덱스를 초기화 (기존의 인덱스는 제거)\n",
    "df.reset_index(drop=True, inplace=True)"
   ]
  },
  {
   "cell_type": "code",
   "execution_count": null,
   "metadata": {},
   "outputs": [],
   "source": [
    "## 3개의 파생변수를 생성\n",
    "## 총단가 = 판매개수 * 단가\n",
    "df['총단가'] = df['판매개수'] * df['단가']\n",
    "df.head(3)"
   ]
  },
  {
   "cell_type": "code",
   "execution_count": 26,
   "metadata": {},
   "outputs": [],
   "source": [
    "## 총원가 = 판매개수 * 원가\n",
    "df['총원가'] = df['판매개수'] * df['원가']\n",
    "## 총이윤 = 총단가 - 총원가\n",
    "## 총이윤 = (단가 - 원가) * 판매개수\n",
    "df['총이윤'] = df['총단가'] - df['총원가']"
   ]
  },
  {
   "cell_type": "code",
   "execution_count": 27,
   "metadata": {},
   "outputs": [
    {
     "data": {
      "text/html": [
       "<div>\n",
       "<style scoped>\n",
       "    .dataframe tbody tr th:only-of-type {\n",
       "        vertical-align: middle;\n",
       "    }\n",
       "\n",
       "    .dataframe tbody tr th {\n",
       "        vertical-align: top;\n",
       "    }\n",
       "\n",
       "    .dataframe thead th {\n",
       "        text-align: right;\n",
       "    }\n",
       "</style>\n",
       "<table border=\"1\" class=\"dataframe\">\n",
       "  <thead>\n",
       "    <tr style=\"text-align: right;\">\n",
       "      <th></th>\n",
       "      <th>대륙</th>\n",
       "      <th>국가</th>\n",
       "      <th>상품종류</th>\n",
       "      <th>우선순위</th>\n",
       "      <th>주문일자</th>\n",
       "      <th>발송일자</th>\n",
       "      <th>판매개수</th>\n",
       "      <th>단가</th>\n",
       "      <th>원가</th>\n",
       "      <th>총단가</th>\n",
       "      <th>총원가</th>\n",
       "      <th>총이윤</th>\n",
       "    </tr>\n",
       "  </thead>\n",
       "  <tbody>\n",
       "    <tr>\n",
       "      <th>0</th>\n",
       "      <td>Asia</td>\n",
       "      <td>Bangladesh</td>\n",
       "      <td>Personal Care</td>\n",
       "      <td>L</td>\n",
       "      <td>12/11/2016</td>\n",
       "      <td>1/13/2017</td>\n",
       "      <td>9420</td>\n",
       "      <td>81.73</td>\n",
       "      <td>56.67</td>\n",
       "      <td>769896.60</td>\n",
       "      <td>533831.40</td>\n",
       "      <td>236065.20</td>\n",
       "    </tr>\n",
       "    <tr>\n",
       "      <th>1</th>\n",
       "      <td>Asia</td>\n",
       "      <td>Bangladesh</td>\n",
       "      <td>Cosmetics</td>\n",
       "      <td>M</td>\n",
       "      <td>7/29/2010</td>\n",
       "      <td>9/11/2010</td>\n",
       "      <td>577</td>\n",
       "      <td>437.20</td>\n",
       "      <td>263.33</td>\n",
       "      <td>252264.40</td>\n",
       "      <td>151941.41</td>\n",
       "      <td>100322.99</td>\n",
       "    </tr>\n",
       "    <tr>\n",
       "      <th>2</th>\n",
       "      <td>Asia</td>\n",
       "      <td>Bangladesh</td>\n",
       "      <td>Vegetables</td>\n",
       "      <td>C</td>\n",
       "      <td>4/28/2014</td>\n",
       "      <td>5/5/2014</td>\n",
       "      <td>34</td>\n",
       "      <td>154.06</td>\n",
       "      <td>90.93</td>\n",
       "      <td>5238.04</td>\n",
       "      <td>3091.62</td>\n",
       "      <td>2146.42</td>\n",
       "    </tr>\n",
       "    <tr>\n",
       "      <th>3</th>\n",
       "      <td>Asia</td>\n",
       "      <td>Bangladesh</td>\n",
       "      <td>Cereal</td>\n",
       "      <td>L</td>\n",
       "      <td>6/22/2010</td>\n",
       "      <td>6/28/2010</td>\n",
       "      <td>9768</td>\n",
       "      <td>205.70</td>\n",
       "      <td>117.11</td>\n",
       "      <td>2009277.60</td>\n",
       "      <td>1143930.48</td>\n",
       "      <td>865347.12</td>\n",
       "    </tr>\n",
       "    <tr>\n",
       "      <th>4</th>\n",
       "      <td>Asia</td>\n",
       "      <td>Bangladesh</td>\n",
       "      <td>Office Supplies</td>\n",
       "      <td>H</td>\n",
       "      <td>3/20/2013</td>\n",
       "      <td>4/11/2013</td>\n",
       "      <td>7731</td>\n",
       "      <td>651.21</td>\n",
       "      <td>524.96</td>\n",
       "      <td>5034504.51</td>\n",
       "      <td>4058465.76</td>\n",
       "      <td>976038.75</td>\n",
       "    </tr>\n",
       "  </tbody>\n",
       "</table>\n",
       "</div>"
      ],
      "text/plain": [
       "     대륙          국가             상품종류 우선순위        주문일자       발송일자  판매개수  \\\n",
       "0  Asia  Bangladesh    Personal Care    L  12/11/2016  1/13/2017  9420   \n",
       "1  Asia  Bangladesh        Cosmetics    M   7/29/2010  9/11/2010   577   \n",
       "2  Asia  Bangladesh       Vegetables    C   4/28/2014   5/5/2014    34   \n",
       "3  Asia  Bangladesh           Cereal    L   6/22/2010  6/28/2010  9768   \n",
       "4  Asia  Bangladesh  Office Supplies    H   3/20/2013  4/11/2013  7731   \n",
       "\n",
       "       단가      원가         총단가         총원가        총이윤  \n",
       "0   81.73   56.67   769896.60   533831.40  236065.20  \n",
       "1  437.20  263.33   252264.40   151941.41  100322.99  \n",
       "2  154.06   90.93     5238.04     3091.62    2146.42  \n",
       "3  205.70  117.11  2009277.60  1143930.48  865347.12  \n",
       "4  651.21  524.96  5034504.51  4058465.76  976038.75  "
      ]
     },
     "execution_count": 27,
     "metadata": {},
     "output_type": "execute_result"
    }
   ],
   "source": [
    "df.head()"
   ]
  },
  {
   "cell_type": "markdown",
   "metadata": {},
   "source": [
    "1. 대륙별 총이윤의 합이 가장 높은 대륙은 어디인가?\n",
    "2. 국가별 총이윤의 함이 가장 높은 상위 10개의 국가는 어디인가?\n",
    "3. 어떤 상품이 가장 많이 팔렸을까?"
   ]
  },
  {
   "cell_type": "code",
   "execution_count": null,
   "metadata": {},
   "outputs": [],
   "source": [
    "# 대륙별 총이윤 합\n",
    "# 대륙별로 그룹화 \n",
    "# 그룹화 함수 : groupby( [기준이되는 컬럼] )\n",
    "# case1 : 전체 데이터프레임에서 그룹화 -> 컬럼을 필터링\n",
    "df.groupby(\n",
    "    ['대륙']\n",
    ").sum()[ ['총이윤'] ]"
   ]
  },
  {
   "cell_type": "code",
   "execution_count": 36,
   "metadata": {},
   "outputs": [],
   "source": [
    "# case2 : 전체 데이터프레임에서 컬럼을 필터링 -> 그룹화\n",
    "group_data = \\\n",
    "      df[ ['대륙', '총이윤'] ].groupby(['대륙']).sum()"
   ]
  },
  {
   "cell_type": "code",
   "execution_count": null,
   "metadata": {},
   "outputs": [],
   "source": [
    "group_data.sort_values(['총이윤'], ascending=False)"
   ]
  },
  {
   "cell_type": "code",
   "execution_count": 41,
   "metadata": {},
   "outputs": [],
   "source": [
    "## 어떤 국가가 과연 가장 많은 이윤을 내는가?\n",
    "## 상위의 10개의 국가를 확인\n",
    "group_data2 =\\\n",
    "      df[ ['국가', '총이윤'] ].groupby(['국가']).sum()\n"
   ]
  },
  {
   "cell_type": "code",
   "execution_count": 44,
   "metadata": {},
   "outputs": [],
   "source": [
    "group_data2.sort_values(\n",
    "    ['총이윤'], \n",
    "    ascending=False, \n",
    "    inplace=True\n",
    ")"
   ]
  },
  {
   "cell_type": "code",
   "execution_count": null,
   "metadata": {},
   "outputs": [],
   "source": [
    "group_data2.head(10)"
   ]
  },
  {
   "cell_type": "code",
   "execution_count": 53,
   "metadata": {},
   "outputs": [
    {
     "data": {
      "text/plain": [
       "48"
      ]
     },
     "execution_count": 53,
     "metadata": {},
     "output_type": "execute_result"
    }
   ],
   "source": [
    "## 과연 한국의 등수는 몇등일까?\n",
    "## case1 : index는 list임으로 list 내장함수(index())를 이용\n",
    "indexs = list(group_data2.index)\n",
    "indexs.index('South Korea') + 1"
   ]
  },
  {
   "cell_type": "code",
   "execution_count": 55,
   "metadata": {},
   "outputs": [
    {
     "data": {
      "text/html": [
       "<div>\n",
       "<style scoped>\n",
       "    .dataframe tbody tr th:only-of-type {\n",
       "        vertical-align: middle;\n",
       "    }\n",
       "\n",
       "    .dataframe tbody tr th {\n",
       "        vertical-align: top;\n",
       "    }\n",
       "\n",
       "    .dataframe thead th {\n",
       "        text-align: right;\n",
       "    }\n",
       "</style>\n",
       "<table border=\"1\" class=\"dataframe\">\n",
       "  <thead>\n",
       "    <tr style=\"text-align: right;\">\n",
       "      <th></th>\n",
       "      <th>국가</th>\n",
       "      <th>총이윤</th>\n",
       "    </tr>\n",
       "  </thead>\n",
       "  <tbody>\n",
       "    <tr>\n",
       "      <th>47</th>\n",
       "      <td>South Korea</td>\n",
       "      <td>23893933.75</td>\n",
       "    </tr>\n",
       "  </tbody>\n",
       "</table>\n",
       "</div>"
      ],
      "text/plain": [
       "             국가          총이윤\n",
       "47  South Korea  23893933.75"
      ]
     },
     "execution_count": 55,
     "metadata": {},
     "output_type": "execute_result"
    }
   ],
   "source": [
    "# case2 : 인덱스를 초기화 (기존의 인덱스를 보존)\n",
    "group_data3 = group_data2.reset_index()\n",
    "group_data3.loc[\n",
    "    group_data3['국가'] == 'South Korea'\n",
    "]"
   ]
  },
  {
   "cell_type": "code",
   "execution_count": null,
   "metadata": {},
   "outputs": [],
   "source": [
    "## 어떠한 상품 종류가 많이 팔렸는가?\n",
    "\n",
    "# 그룹화 연산 \n"
   ]
  }
 ],
 "metadata": {
  "kernelspec": {
   "display_name": "Python 3",
   "language": "python",
   "name": "python3"
  },
  "language_info": {
   "codemirror_mode": {
    "name": "ipython",
    "version": 3
   },
   "file_extension": ".py",
   "mimetype": "text/x-python",
   "name": "python",
   "nbconvert_exporter": "python",
   "pygments_lexer": "ipython3",
   "version": "3.11.1"
  }
 },
 "nbformat": 4,
 "nbformat_minor": 2
}
