{
 "cells": [
  {
   "cell_type": "code",
   "execution_count": null,
   "metadata": {},
   "outputs": [],
   "source": [
    "import requests"
   ]
  },
  {
   "cell_type": "code",
   "execution_count": null,
   "metadata": {},
   "outputs": [],
   "source": [
    "url = \"https://www.naver.com\"\n",
    "response = requests.get(url)"
   ]
  },
  {
   "cell_type": "code",
   "execution_count": null,
   "metadata": {},
   "outputs": [],
   "source": [
    "from pprint import pprint"
   ]
  },
  {
   "cell_type": "code",
   "execution_count": null,
   "metadata": {},
   "outputs": [],
   "source": [
    "pprint(response.text)"
   ]
  },
  {
   "cell_type": "code",
   "execution_count": null,
   "metadata": {},
   "outputs": [],
   "source": [
    "html_data = response.text"
   ]
  },
  {
   "cell_type": "code",
   "execution_count": null,
   "metadata": {},
   "outputs": [],
   "source": [
    "type(html_data)"
   ]
  },
  {
   "cell_type": "code",
   "execution_count": null,
   "metadata": {},
   "outputs": [],
   "source": [
    "## html_data에서 '네이버' 문자열의 위치를 검색\n",
    "print(html_data.find('네이버'))\n",
    "print(html_data.index('네이버'))"
   ]
  },
  {
   "cell_type": "code",
   "execution_count": null,
   "metadata": {},
   "outputs": [],
   "source": [
    "html_data[378:381]"
   ]
  },
  {
   "cell_type": "markdown",
   "metadata": {},
   "source": [
    "### bs4 라이브러리 \n",
    "- bs4 라이브러리 안에 있는 BeautifulSoup Class를 사용\n",
    "- html로 이루어진 문자형 데이터를 pasing 작업을 하여 데이터를 쉽게 추출하기 위한 Class\n",
    "    - pasing\n",
    "        - 데이터의 타입을 변경(Class 안에 데이터를 대입)\n",
    "- html의 TAG를 기준으로 데이터(contents)를 쉽게 추출\n",
    "- 웹의 구조를 어느정도 파악을 하고 사용을 하게 되면 쉽게 접근이 가능\n",
    "- Parser를 활용해서 파이썬에서 접근이 쉽게 객체(변수 + 함수)의 형태로 제공"
   ]
  },
  {
   "cell_type": "code",
   "execution_count": null,
   "metadata": {},
   "outputs": [],
   "source": [
    "## 라이브러리 설치 \n",
    "# !pip install bs4"
   ]
  },
  {
   "cell_type": "code",
   "execution_count": null,
   "metadata": {},
   "outputs": [],
   "source": [
    "# 라이브러리 로드 \n",
    "from bs4 import BeautifulSoup as bs"
   ]
  },
  {
   "cell_type": "code",
   "execution_count": null,
   "metadata": {},
   "outputs": [],
   "source": [
    "# html로 이루어진 문자열을 bs Class에 대입 -> pasing\n",
    "soup = bs(html_data, 'html.parser')"
   ]
  },
  {
   "cell_type": "code",
   "execution_count": null,
   "metadata": {},
   "outputs": [],
   "source": [
    "soup"
   ]
  },
  {
   "cell_type": "markdown",
   "metadata": {},
   "source": [
    "- 태그의 이름을 기준으로 검색(필터)\n",
    "    - soup.태그명 : 해당 태그명의 첫번째 태그를 출력\n",
    "    - soup.태그명.string : 첫번째 태그의 문자열(contents)을 출력\n",
    "        - ex) `<p>test</p>` --> test\n",
    "    - soup.태그명['속성명'] : 첫번째 태그의 해당 속성의 값을 출력\n",
    "        - ex) `<a href='https://www.google.com'>구글</a>` --> 'https://www.google.com'"
   ]
  },
  {
   "cell_type": "code",
   "execution_count": null,
   "metadata": {},
   "outputs": [],
   "source": [
    "soup.a"
   ]
  },
  {
   "cell_type": "code",
   "execution_count": null,
   "metadata": {},
   "outputs": [],
   "source": [
    "soup.a.string"
   ]
  },
  {
   "cell_type": "code",
   "execution_count": null,
   "metadata": {},
   "outputs": [],
   "source": [
    "soup.a['href']"
   ]
  },
  {
   "cell_type": "markdown",
   "metadata": {},
   "source": [
    "- find()\n",
    "    - HTML 데이터에서 특정 태그의 첫번째 정보를 출력 \n",
    "    - find(속성명 = 속성값) : 태그들 중 해당 속성명과 속성의값이 값은 첫번째 태그의 정보를 출력\n",
    "    - 결과 데이터가 TAG의 형태로 출력 (문자열로 생각하면 문자 데이터)\n",
    "- find_all()\n",
    "    - HTML 데이터에서 특정 태그의 모든 정보를 출력 \n",
    "    - limit 매개변수 : 출력해주는 데이터의 개수를 지정\n",
    "    - 결과 데이터가 TAG들의 집합인 ResultSet 형태로 출력(문자열로 생각하면 리스트 데이터)"
   ]
  },
  {
   "cell_type": "code",
   "execution_count": 31,
   "metadata": {},
   "outputs": [
    {
     "data": {
      "text/plain": [
       "bs4.BeautifulSoup"
      ]
     },
     "execution_count": 31,
     "metadata": {},
     "output_type": "execute_result"
    }
   ],
   "source": [
    "type(soup)"
   ]
  },
  {
   "cell_type": "code",
   "execution_count": 32,
   "metadata": {},
   "outputs": [
    {
     "data": {
      "text/plain": [
       "bs4.element.Tag"
      ]
     },
     "execution_count": 32,
     "metadata": {},
     "output_type": "execute_result"
    }
   ],
   "source": [
    "type(soup.find('a'))"
   ]
  },
  {
   "cell_type": "code",
   "execution_count": 33,
   "metadata": {},
   "outputs": [
    {
     "data": {
      "text/plain": [
       "bs4.element.ResultSet"
      ]
     },
     "execution_count": 33,
     "metadata": {},
     "output_type": "execute_result"
    }
   ],
   "source": [
    "type(soup.find_all('a'))"
   ]
  },
  {
   "cell_type": "code",
   "execution_count": 34,
   "metadata": {},
   "outputs": [
    {
     "name": "stdout",
     "output_type": "stream",
     "text": [
      "<a href=\"#topAsideButton\"><span>상단영역 바로가기</span></a>\n",
      "<a href=\"#topAsideButton\"><span>상단영역 바로가기</span></a>\n"
     ]
    }
   ],
   "source": [
    "print(soup.find('a'))\n",
    "print(soup.a)"
   ]
  },
  {
   "cell_type": "code",
   "execution_count": 35,
   "metadata": {},
   "outputs": [
    {
     "name": "stdout",
     "output_type": "stream",
     "text": [
      "[<a href=\"#topAsideButton\"><span>상단영역 바로가기</span></a>,\n",
      " <a href=\"#shortcutArea\"><span>서비스 메뉴 바로가기</span></a>,\n",
      " <a href=\"#newsstand\"><span>새소식 블록 바로가기</span></a>,\n",
      " <a href=\"#shopping\"><span>쇼핑 블록 바로가기</span></a>,\n",
      " <a href=\"#feed\"><span>관심사 블록 바로가기</span></a>,\n",
      " <a href=\"#account\"><span>MY 영역 바로가기</span></a>,\n",
      " <a href=\"#widgetboard\"><span>위젯 보드 바로가기</span></a>,\n",
      " <a href=\"#viewSetting\"><span>보기 설정 바로가기</span></a>,\n",
      " <a aria-pressed=\"false\" class=\"item _delAll\" href=\"#\" role=\"button\">전체삭제</a>,\n",
      " <a class=\"kwd_help\" data-clk=\"sly.help\" href=\"https://help.naver.com/alias/search/word/word_35.naver\" target=\"_blank\">도움말</a>,\n",
      " <a class=\"kwd_help\" data-clk=\"sly.help\" href=\"https://help.naver.com/alias/search/word/word_35.naver\" target=\"_blank\">도움말</a>,\n",
      " <a class=\"close _keywordOnOff\" href=\"#\">자동저장 끄기</a>,\n",
      " <a data-clk=\"sly.help\" href=\"https://help.naver.com/alias/search/word/word_35.naver\" target=\"_blank\">도움말</a>,\n",
      " <a class=\"close _close\" href=\"#\">닫기</a>,\n",
      " <a aria-pressed=\"false\" class=\"btn_help _tg_btn\" href=\"#\" role=\"button\"><i class=\"imgsvg ico_alert\">이 정보가 표시된 이유</i></a>,\n",
      " <a class=\"btn_close _tg_btn\" href=\"#\" role=\"button\"><i class=\"imgsvg ico_close\">레이어 닫기</i></a>,\n",
      " <a class=\"link _alert_link\" href=\"#\" target=\"_blank\">자세히보기</a>,\n",
      " <a class=\"link_dsc\" data-clk=\"sug.cxhelp\" href=\"https://help.naver.com/alias/search/word/word_16.naver\" target=\"_blank\">관심사를 반영한 컨텍스트 자동완성<i class=\"imgsvg ico_help\">도움말</i></a>,\n",
      " <a aria-pressed=\"false\" class=\"bt_switch active _plus_btn\" href=\"#\" role=\"button\"><i class=\"imgsvg ico_option\">컨텍스트 자동완성</i></a>,\n",
      " <a class=\"link_view\" data-clk=\"sug.cxlink\" href=\"https://help.naver.com/alias/search/word/word_16.naver\" target=\"_blank\">자세히 보기</a>,\n",
      " <a class=\"link_view\" data-clk=\"sug.cxlink\" href=\"https://help.naver.com/support/alias/search/word/word_16.naver\" target=\"_blank\">자세히 보기</a>,\n",
      " <a class=\"btn btn_login\" data-clk=\"sug.cxlogin\" href=\"https://nid.naver.com/nidlogin.login\"><i class=\"imgsvg ico_naver\">네이버</i>로그인</a>,\n",
      " <a class=\"btn_close _plus_layer_close\" href=\"#\" role=\"button\"><i class=\"imgsvg ico_close\">컨텍스트 자동완성 레이어 닫기</i></a>,\n",
      " <a class=\"close _suggestOnOff\" href=\"#\">자동완성 끄기</a>,\n",
      " <a data-clk=\"sug.help\" href=\"https://help.naver.com/alias/search/word/word_17.naver\" target=\"_blank\">도움말</a>,\n",
      " <a class=\"report\" data-clk=\"sug.report\" href=\"https://help.naver.com/alias/search/word/word_18.naver\" target=\"_blank\">신고</a>,\n",
      " <a class=\"close _close\" href=\"#\">닫기</a>]\n"
     ]
    }
   ],
   "source": [
    "pprint(soup.find_all('a'))"
   ]
  },
  {
   "cell_type": "code",
   "execution_count": 36,
   "metadata": {},
   "outputs": [
    {
     "name": "stdout",
     "output_type": "stream",
     "text": [
      "<a href=\"#topAsideButton\"><span>상단영역 바로가기</span></a>\n",
      "상단영역 바로가기\n",
      "상단영역 바로가기\n"
     ]
    }
   ],
   "source": [
    "## Tag 형태로 되어있는 데이터에서 contents를 추출\n",
    "a_data = soup.find('a')\n",
    "print(a_data)\n",
    "print(a_data.string)\n",
    "print(a_data.get_text())"
   ]
  },
  {
   "cell_type": "code",
   "execution_count": 39,
   "metadata": {},
   "outputs": [
    {
     "name": "stdout",
     "output_type": "stream",
     "text": [
      "[<a href=\"#topAsideButton\"><span>상단영역 바로가기</span></a>, <a href=\"#shortcutArea\"><span>서비스 메뉴 바로가기</span></a>, <a href=\"#newsstand\"><span>새소식 블록 바로가기</span></a>, <a href=\"#shopping\"><span>쇼핑 블록 바로가기</span></a>, <a href=\"#feed\"><span>관심사 블록 바로가기</span></a>, <a href=\"#account\"><span>MY 영역 바로가기</span></a>, <a href=\"#widgetboard\"><span>위젯 보드 바로가기</span></a>, <a href=\"#viewSetting\"><span>보기 설정 바로가기</span></a>, <a aria-pressed=\"false\" class=\"item _delAll\" href=\"#\" role=\"button\">전체삭제</a>, <a class=\"kwd_help\" data-clk=\"sly.help\" href=\"https://help.naver.com/alias/search/word/word_35.naver\" target=\"_blank\">도움말</a>, <a class=\"kwd_help\" data-clk=\"sly.help\" href=\"https://help.naver.com/alias/search/word/word_35.naver\" target=\"_blank\">도움말</a>, <a class=\"close _keywordOnOff\" href=\"#\">자동저장 끄기</a>, <a data-clk=\"sly.help\" href=\"https://help.naver.com/alias/search/word/word_35.naver\" target=\"_blank\">도움말</a>, <a class=\"close _close\" href=\"#\">닫기</a>, <a aria-pressed=\"false\" class=\"btn_help _tg_btn\" href=\"#\" role=\"button\"><i class=\"imgsvg ico_alert\">이 정보가 표시된 이유</i></a>, <a class=\"btn_close _tg_btn\" href=\"#\" role=\"button\"><i class=\"imgsvg ico_close\">레이어 닫기</i></a>, <a class=\"link _alert_link\" href=\"#\" target=\"_blank\">자세히보기</a>, <a class=\"link_dsc\" data-clk=\"sug.cxhelp\" href=\"https://help.naver.com/alias/search/word/word_16.naver\" target=\"_blank\">관심사를 반영한 컨텍스트 자동완성<i class=\"imgsvg ico_help\">도움말</i></a>, <a aria-pressed=\"false\" class=\"bt_switch active _plus_btn\" href=\"#\" role=\"button\"><i class=\"imgsvg ico_option\">컨텍스트 자동완성</i></a>, <a class=\"link_view\" data-clk=\"sug.cxlink\" href=\"https://help.naver.com/alias/search/word/word_16.naver\" target=\"_blank\">자세히 보기</a>, <a class=\"link_view\" data-clk=\"sug.cxlink\" href=\"https://help.naver.com/support/alias/search/word/word_16.naver\" target=\"_blank\">자세히 보기</a>, <a class=\"btn btn_login\" data-clk=\"sug.cxlogin\" href=\"https://nid.naver.com/nidlogin.login\"><i class=\"imgsvg ico_naver\">네이버</i>로그인</a>, <a class=\"btn_close _plus_layer_close\" href=\"#\" role=\"button\"><i class=\"imgsvg ico_close\">컨텍스트 자동완성 레이어 닫기</i></a>, <a class=\"close _suggestOnOff\" href=\"#\">자동완성 끄기</a>, <a data-clk=\"sug.help\" href=\"https://help.naver.com/alias/search/word/word_17.naver\" target=\"_blank\">도움말</a>, <a class=\"report\" data-clk=\"sug.report\" href=\"https://help.naver.com/alias/search/word/word_18.naver\" target=\"_blank\">신고</a>, <a class=\"close _close\" href=\"#\">닫기</a>]\n",
      "서비스 메뉴 바로가기\n",
      "서비스 메뉴 바로가기\n"
     ]
    }
   ],
   "source": [
    "## ResultSet 형태로 되어있는 데이터에서 contents 출력 \n",
    "a_list = soup.find_all('a')\n",
    "print(a_list)\n",
    "print(a_list[1].string)\n",
    "print(a_list[1].get_text())"
   ]
  }
 ],
 "metadata": {
  "kernelspec": {
   "display_name": "Python 3",
   "language": "python",
   "name": "python3"
  },
  "language_info": {
   "codemirror_mode": {
    "name": "ipython",
    "version": 3
   },
   "file_extension": ".py",
   "mimetype": "text/x-python",
   "name": "python",
   "nbconvert_exporter": "python",
   "pygments_lexer": "ipython3",
   "version": "3.11.1"
  }
 },
 "nbformat": 4,
 "nbformat_minor": 2
}
