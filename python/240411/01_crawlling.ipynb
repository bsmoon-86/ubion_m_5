{
 "cells": [
  {
   "cell_type": "code",
   "execution_count": null,
   "metadata": {},
   "outputs": [],
   "source": [
    "import requests"
   ]
  },
  {
   "cell_type": "code",
   "execution_count": null,
   "metadata": {},
   "outputs": [],
   "source": [
    "url = \"https://www.naver.com\"\n",
    "response = requests.get(url)"
   ]
  },
  {
   "cell_type": "code",
   "execution_count": null,
   "metadata": {},
   "outputs": [],
   "source": [
    "from pprint import pprint"
   ]
  },
  {
   "cell_type": "code",
   "execution_count": null,
   "metadata": {},
   "outputs": [],
   "source": [
    "pprint(response.text)"
   ]
  },
  {
   "cell_type": "code",
   "execution_count": null,
   "metadata": {},
   "outputs": [],
   "source": [
    "html_data = response.text"
   ]
  },
  {
   "cell_type": "code",
   "execution_count": null,
   "metadata": {},
   "outputs": [],
   "source": [
    "type(html_data)"
   ]
  },
  {
   "cell_type": "code",
   "execution_count": null,
   "metadata": {},
   "outputs": [],
   "source": [
    "## html_data에서 '네이버' 문자열의 위치를 검색\n",
    "print(html_data.find('네이버'))\n",
    "print(html_data.index('네이버'))"
   ]
  },
  {
   "cell_type": "code",
   "execution_count": null,
   "metadata": {},
   "outputs": [],
   "source": [
    "html_data[378:381]"
   ]
  },
  {
   "cell_type": "markdown",
   "metadata": {},
   "source": [
    "### bs4 라이브러리 \n",
    "- bs4 라이브러리 안에 있는 BeautifulSoup Class를 사용\n",
    "- html로 이루어진 문자형 데이터를 parsing 작업을 하여 데이터를 쉽게 추출하기 위한 Class\n",
    "    - parsing\n",
    "        - 데이터의 타입을 변경(Class 안에 데이터를 대입)\n",
    "- html의 TAG를 기준으로 데이터(contents)를 쉽게 추출\n",
    "- 웹의 구조를 어느정도 파악을 하고 사용을 하게 되면 쉽게 접근이 가능\n",
    "- Parser를 활용해서 파이썬에서 접근이 쉽게 객체(변수 + 함수)의 형태로 제공"
   ]
  },
  {
   "cell_type": "code",
   "execution_count": null,
   "metadata": {},
   "outputs": [],
   "source": [
    "## 라이브러리 설치 \n",
    "# !pip install bs4"
   ]
  },
  {
   "cell_type": "code",
   "execution_count": null,
   "metadata": {},
   "outputs": [],
   "source": [
    "# 라이브러리 로드 \n",
    "from bs4 import BeautifulSoup as bs"
   ]
  },
  {
   "cell_type": "code",
   "execution_count": null,
   "metadata": {},
   "outputs": [],
   "source": [
    "# html로 이루어진 문자열을 bs Class에 대입 -> pasing\n",
    "soup = bs(html_data, 'html.parser')"
   ]
  },
  {
   "cell_type": "code",
   "execution_count": null,
   "metadata": {},
   "outputs": [],
   "source": [
    "soup"
   ]
  },
  {
   "cell_type": "markdown",
   "metadata": {},
   "source": [
    "- 태그의 이름을 기준으로 검색(필터)\n",
    "    - soup.태그명 : 해당 태그명의 첫번째 태그를 출력\n",
    "    - soup.태그명.string : 첫번째 태그의 문자열(contents)을 출력\n",
    "        - ex) `<p>test</p>` --> test\n",
    "    - soup.태그명['속성명'] : 첫번째 태그의 해당 속성의 값을 출력\n",
    "        - ex) `<a href='https://www.google.com'>구글</a>` --> 'https://www.google.com'"
   ]
  },
  {
   "cell_type": "code",
   "execution_count": null,
   "metadata": {},
   "outputs": [],
   "source": [
    "soup.a"
   ]
  },
  {
   "cell_type": "code",
   "execution_count": null,
   "metadata": {},
   "outputs": [],
   "source": [
    "soup.a.string"
   ]
  },
  {
   "cell_type": "code",
   "execution_count": null,
   "metadata": {},
   "outputs": [],
   "source": [
    "soup.a['href']"
   ]
  },
  {
   "cell_type": "markdown",
   "metadata": {},
   "source": [
    "- find()\n",
    "    - HTML 데이터에서 특정 태그의 첫번째 정보를 출력 \n",
    "    - find(속성명 = 속성값) : 태그들 중 해당 속성명과 속성의값이 값은 첫번째 태그의 정보를 출력\n",
    "    - 결과 데이터가 TAG의 형태로 출력 (문자열로 생각하면 문자 데이터)\n",
    "- find_all()\n",
    "    - HTML 데이터에서 특정 태그의 모든 정보를 출력 \n",
    "    - limit 매개변수 : 출력해주는 데이터의 개수를 지정\n",
    "    - 결과 데이터가 TAG들의 집합인 ResultSet 형태로 출력(문자열로 생각하면 리스트 데이터)"
   ]
  },
  {
   "cell_type": "code",
   "execution_count": null,
   "metadata": {},
   "outputs": [],
   "source": [
    "type(soup)"
   ]
  },
  {
   "cell_type": "code",
   "execution_count": null,
   "metadata": {},
   "outputs": [],
   "source": [
    "type(soup.find('a'))"
   ]
  },
  {
   "cell_type": "code",
   "execution_count": null,
   "metadata": {},
   "outputs": [],
   "source": [
    "type(soup.find_all('a'))"
   ]
  },
  {
   "cell_type": "code",
   "execution_count": null,
   "metadata": {},
   "outputs": [],
   "source": [
    "print(soup.find('a'))\n",
    "print(soup.a)"
   ]
  },
  {
   "cell_type": "code",
   "execution_count": null,
   "metadata": {},
   "outputs": [],
   "source": [
    "pprint(soup.find_all('a'))"
   ]
  },
  {
   "cell_type": "code",
   "execution_count": null,
   "metadata": {},
   "outputs": [],
   "source": [
    "## Tag 형태로 되어있는 데이터에서 contents를 추출\n",
    "a_data = soup.find('a')\n",
    "print(a_data)\n",
    "print(a_data.string)\n",
    "print(a_data.get_text())"
   ]
  },
  {
   "cell_type": "code",
   "execution_count": null,
   "metadata": {},
   "outputs": [],
   "source": [
    "## ResultSet 형태로 되어있는 데이터에서 contents 출력 \n",
    "a_list = soup.find_all('a')\n",
    "print(a_list)\n",
    "print(a_list[0].string)\n",
    "print(a_list[1].get_text())"
   ]
  },
  {
   "cell_type": "code",
   "execution_count": null,
   "metadata": {},
   "outputs": [],
   "source": [
    "# for + range\n",
    "_list = []\n",
    "_list2 = []\n",
    "# for i in range(0, len(a_list), 1):\n",
    "for i in range(len(a_list)):\n",
    "    # i는? -> 0, 1, 2, 3, 4, .... -> a_list의 인덱스 값\n",
    "    # print(i)\n",
    "    # print(a_list[i])\n",
    "    # print(a_list[i].get_text())\n",
    "    # print(a_list[i].string)\n",
    "    _list.append(a_list[i].get_text())\n",
    "    _list2.append(a_list[i].string)\n"
   ]
  },
  {
   "cell_type": "code",
   "execution_count": null,
   "metadata": {},
   "outputs": [],
   "source": [
    "_list"
   ]
  },
  {
   "cell_type": "code",
   "execution_count": null,
   "metadata": {},
   "outputs": [],
   "source": [
    "# for + list데이터\n",
    "_list3 = list()\n",
    "\n",
    "for tag in a_list:\n",
    "    # i는? -> Tag 데이터\n",
    "    # print(tag)\n",
    "    # print(tag.get_text())\n",
    "    _list3.append(tag.get_text())\n",
    "_list3"
   ]
  },
  {
   "cell_type": "code",
   "execution_count": null,
   "metadata": {},
   "outputs": [],
   "source": [
    "# while 조건식\n",
    "_list4 = []\n",
    "# 초기값 지정\n",
    "i = 0\n",
    "# while문 시작\n",
    "while i < len(a_list):\n",
    "    # print(i)\n",
    "    _list4.append(a_list[i].get_text())\n",
    "    # 증감식 생성\n",
    "    i += 1\n",
    "_list4"
   ]
  },
  {
   "cell_type": "code",
   "execution_count": null,
   "metadata": {},
   "outputs": [],
   "source": [
    "# while 무한반복\n",
    "i = 0\n",
    "_list5 = []\n",
    "\n",
    "while True:\n",
    "    try:\n",
    "        _list5.append(a_list[i].get_text())\n",
    "        i += 1\n",
    "    except:\n",
    "        break\n",
    "_list5"
   ]
  },
  {
   "cell_type": "code",
   "execution_count": null,
   "metadata": {},
   "outputs": [],
   "source": [
    "# map() + 일반함수 \n",
    "def change(x):\n",
    "    # x에 입력이 되는 데이터는? -> Tag데이터\n",
    "    return x.get_text()\n",
    "# change(a_data)\n",
    "\n",
    "list(\n",
    "    map(\n",
    "        change, \n",
    "        a_list\n",
    "    )\n",
    ")\n"
   ]
  },
  {
   "cell_type": "code",
   "execution_count": null,
   "metadata": {},
   "outputs": [],
   "source": [
    "## map + lambda\n",
    "list(\n",
    "    map(\n",
    "        lambda x : x.get_text(), \n",
    "        a_list\n",
    "    )\n",
    ")"
   ]
  },
  {
   "cell_type": "code",
   "execution_count": null,
   "metadata": {},
   "outputs": [],
   "source": [
    "## naver html 문서에서 div태그 중에 id가 newsstand인 태그를 추출\n",
    "soup.find('div', attrs={'id' : 'newsstand'})"
   ]
  },
  {
   "cell_type": "code",
   "execution_count": null,
   "metadata": {},
   "outputs": [],
   "source": [
    "soup.find('div', attrs={\n",
    "    'id' : 'container'\n",
    "})"
   ]
  },
  {
   "cell_type": "code",
   "execution_count": null,
   "metadata": {},
   "outputs": [],
   "source": [
    "## 새로운 주소로 요청을 보낸다 \n",
    "url2 = \"https://finance.naver.com/\"\n",
    "response2 = requests.get(url2)"
   ]
  },
  {
   "cell_type": "code",
   "execution_count": null,
   "metadata": {},
   "outputs": [],
   "source": [
    "html_data2 = response2.text\n",
    "html_data2"
   ]
  },
  {
   "cell_type": "code",
   "execution_count": null,
   "metadata": {},
   "outputs": [],
   "source": [
    "## BeautifulSoup을 이용하여 데이터를  parsing\n",
    "soup2 = bs(html_data2, 'html.parser')\n",
    "soup2"
   ]
  },
  {
   "cell_type": "code",
   "execution_count": null,
   "metadata": {},
   "outputs": [],
   "source": [
    "# div 태그중 class가 section_sise_top인 태그의 개수를 확인\n",
    "len(\n",
    "    soup2.find_all('div', attrs={\n",
    "        'class' : 'section_sise_top'\n",
    "    })\n",
    ")"
   ]
  },
  {
   "cell_type": "code",
   "execution_count": null,
   "metadata": {},
   "outputs": [],
   "source": [
    "div_data = soup2.find('div', attrs={\n",
    "    'class' : 'section_sise_top'\n",
    "})"
   ]
  },
  {
   "cell_type": "code",
   "execution_count": null,
   "metadata": {},
   "outputs": [],
   "source": [
    "div_data"
   ]
  },
  {
   "cell_type": "code",
   "execution_count": null,
   "metadata": {},
   "outputs": [],
   "source": [
    "# div_data에서 table 태그의 개수를 확인 \n",
    "len(\n",
    "    div_data.find_all(\n",
    "        'table'\n",
    "    )\n",
    ")"
   ]
  },
  {
   "cell_type": "code",
   "execution_count": null,
   "metadata": {},
   "outputs": [],
   "source": [
    "## table 태그의 데이터들을 변수에 저장 \n",
    "tables = div_data.find_all('table')"
   ]
  },
  {
   "cell_type": "code",
   "execution_count": null,
   "metadata": {},
   "outputs": [],
   "source": [
    "tables"
   ]
  },
  {
   "cell_type": "code",
   "execution_count": null,
   "metadata": {},
   "outputs": [],
   "source": [
    "# tables의 첫번째 태그를 이용하여 데이터를 추출하여 데이터프레임으로 생성\n",
    "_table = tables[0]"
   ]
  },
  {
   "cell_type": "code",
   "execution_count": null,
   "metadata": {},
   "outputs": [],
   "source": [
    "type(_table)"
   ]
  },
  {
   "cell_type": "code",
   "execution_count": null,
   "metadata": {},
   "outputs": [],
   "source": [
    "_table"
   ]
  },
  {
   "cell_type": "code",
   "execution_count": null,
   "metadata": {},
   "outputs": [],
   "source": [
    "## _table에서 thead를 추출 \n",
    "head_data = _table.find('thead')"
   ]
  },
  {
   "cell_type": "code",
   "execution_count": null,
   "metadata": {},
   "outputs": [],
   "source": [
    "th_data = head_data.find_all('th')\n",
    "th_data"
   ]
  },
  {
   "cell_type": "code",
   "execution_count": null,
   "metadata": {},
   "outputs": [],
   "source": [
    "_col = []\n",
    "for tag in th_data:\n",
    "    # print(tag.get_text())\n",
    "    _col.append(tag.get_text())\n",
    "_col"
   ]
  },
  {
   "cell_type": "code",
   "execution_count": null,
   "metadata": {},
   "outputs": [],
   "source": [
    "tbody_data = _table.find('tbody')\n",
    "tbody_data"
   ]
  },
  {
   "cell_type": "code",
   "execution_count": null,
   "metadata": {},
   "outputs": [],
   "source": [
    "## tbody_data에서 tr 태그들을 모두 찾는다. \n",
    "tr_data = tbody_data.find_all('tr')\n",
    "tr_data"
   ]
  },
  {
   "cell_type": "code",
   "execution_count": null,
   "metadata": {},
   "outputs": [],
   "source": [
    "# tr_data에서 첫번째 원소를 추출하여 contents들을 리스트로 생성\n",
    "_val =  [tr_data[0].find('th').get_text()]\n",
    "\n",
    "for tag2 in tr_data[0].find_all('td'):\n",
    "    # print(tag2.get_text().strip())\n",
    "    _val.append(tag2.get_text().strip())\n",
    "_val"
   ]
  },
  {
   "cell_type": "code",
   "execution_count": null,
   "metadata": {},
   "outputs": [],
   "source": [
    "# 위의 코드을 반복 실행하여 새로운 빈 리스트에 추가 \n",
    "_values = []\n",
    "for i in range(len(tr_data)):\n",
    "    _val = [tr_data[i].find('th').get_text()]\n",
    "    for tag2 in tr_data[i].find_all('td'):\n",
    "        _val.append(tag2.get_text().strip())\n",
    "    _values.append(_val)\n",
    "_values"
   ]
  }
 ],
 "metadata": {
  "kernelspec": {
   "display_name": "Python 3",
   "language": "python",
   "name": "python3"
  },
  "language_info": {
   "codemirror_mode": {
    "name": "ipython",
    "version": 3
   },
   "file_extension": ".py",
   "mimetype": "text/x-python",
   "name": "python",
   "nbconvert_exporter": "python",
   "pygments_lexer": "ipython3",
   "version": "3.11.1"
  }
 },
 "nbformat": 4,
 "nbformat_minor": 2
}
