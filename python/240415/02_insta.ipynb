{
 "cells": [
  {
   "cell_type": "code",
   "execution_count": null,
   "metadata": {},
   "outputs": [],
   "source": [
    "from selenium import webdriver\n",
    "from selenium.webdriver.common.by import By\n",
    "from selenium.webdriver.common.keys import Keys\n",
    "import pandas as pd\n",
    "import time\n",
    "from bs4 import BeautifulSoup as bs\n",
    "import os \n",
    "from dotenv import load_dotenv"
   ]
  },
  {
   "cell_type": "code",
   "execution_count": 72,
   "metadata": {},
   "outputs": [],
   "source": [
    "# 웹 브라우져를 실행 \n",
    "driver = webdriver.Chrome()"
   ]
  },
  {
   "cell_type": "code",
   "execution_count": 73,
   "metadata": {},
   "outputs": [],
   "source": [
    "## 인스타그램에 요청 \n",
    "driver.get('https://www.instagram.com')"
   ]
  },
  {
   "cell_type": "code",
   "execution_count": 74,
   "metadata": {},
   "outputs": [
    {
     "data": {
      "text/plain": [
       "True"
      ]
     },
     "execution_count": 74,
     "metadata": {},
     "output_type": "execute_result"
    }
   ],
   "source": [
    "load_dotenv()"
   ]
  },
  {
   "cell_type": "code",
   "execution_count": 75,
   "metadata": {},
   "outputs": [],
   "source": [
    "driver.implicitly_wait(10)\n",
    "# 인스타그램에 로그인 \n",
    "id_element = driver.find_element(\n",
    "    By.CSS_SELECTOR, \n",
    "    'input[name=\"username\"]')\n",
    "# id_element에 아이디 값(.env에 있는 id)을 입력 \n",
    "id_element.send_keys(os.getenv('id'))\n",
    "pass_element = driver.find_element(\n",
    "    By.CSS_SELECTOR, \n",
    "    'input[name=\"password\"]'\n",
    ")\n",
    "# pass_element에 패스워드(.env에 있는 password)를 입력\n",
    "pass_element.send_keys(os.getenv('password'))\n",
    "# time.sleep(2)\n",
    "# implicitly_wait() : html, css 정보가 모두 로드가 되면 시간에 무관하게 다음 코드가 실행\n",
    "# 입력한 시간이 초과될때 로드가 전부 안되어있으면 에러 발생\n",
    "driver.implicitly_wait(10)\n",
    "pass_element.send_keys(Keys.ENTER)"
   ]
  },
  {
   "cell_type": "code",
   "execution_count": 76,
   "metadata": {},
   "outputs": [],
   "source": [
    "# svg 태그 중 aria-label=\"검색\" 인 태그를 선택\n",
    "driver.implicitly_wait(10)\n",
    "search_element = driver.find_element(By.CSS_SELECTOR, \n",
    "                                     'svg[aria-label=\"검색\"]')\n",
    "# search_element를 클릭\n",
    "search_element.click()"
   ]
  },
  {
   "cell_type": "code",
   "execution_count": 77,
   "metadata": {},
   "outputs": [],
   "source": [
    "driver.implicitly_wait(10)\n",
    "# 검색창에 input 태그를 선택\n",
    "search_input = driver.find_element(By.CSS_SELECTOR, \n",
    "                                   'input[aria-label=\"입력 검색\"]')\n",
    "# search_input에 특정 문자열을 입력\n",
    "search_input.send_keys(\"구디맛집\")"
   ]
  },
  {
   "cell_type": "code",
   "execution_count": 78,
   "metadata": {},
   "outputs": [
    {
     "name": "stdout",
     "output_type": "stream",
     "text": [
      "54\n"
     ]
    }
   ],
   "source": [
    "driver.implicitly_wait(10)\n",
    "## 검색 리스트 전체를 검색\n",
    "list_element = driver.find_elements(\n",
    "    By.CSS_SELECTOR, \n",
    "    '.x9f619.x78zum5.xdt5ytf.x1iyjqo2.x6ikm8r.x1odjw0f.xh8yej3.xocp1fn .x1i10hfl'\n",
    ")\n",
    "print(len(list_element))\n",
    "# 검색 리스트에서 첫번째를 클릭 \n",
    "list_element[0].click() \n"
   ]
  },
  {
   "cell_type": "code",
   "execution_count": null,
   "metadata": {},
   "outputs": [],
   "source": [
    "## 게시글 링크를 모두 찾는다. \n",
    "imgs = driver.find_elements(\n",
    "    By.CLASS_NAME, '_aagw'\n",
    ")\n",
    "# 게시글의 첫번째를 클릭 \n",
    "imgs[0].click()"
   ]
  },
  {
   "cell_type": "code",
   "execution_count": null,
   "metadata": {},
   "outputs": [],
   "source": [
    "# 게시물에서 텍스트를 추출 \n",
    "\n",
    "# Class가 _a9zc인 태그의 수 \n",
    "# len(driver.find_elements(By.CLASS_NAME, '_a9zs'))\n",
    "\n",
    "ids = driver.find_elements(By.CLASS_NAME, '_a9zc')\n",
    "commets = driver.find_elements(By.CLASS_NAME, '_a9zs')\n",
    "\n",
    "# 데이터프레임에 대입할 변수를 생성 \n",
    "data = {\n",
    "    'ID': [], \n",
    "    'Commet' : []\n",
    "}\n",
    "\n",
    "# for id in ids:\n",
    "#     print(id.text)\n",
    "# for commet in commets:\n",
    "#     print(commet.text.replace('\\n', ' '))\n",
    "\n",
    "# for i in range(len(ids)):\n",
    "#     print(ids[i].text)\n",
    "#     print(commets[i].text.replace(\"\\n\", \" \"))\n",
    "\n",
    "for id, commet in zip(ids, commets):\n",
    "    # print(id.text)\n",
    "    # print(commet.text.replace('\\n', ' '))\n",
    "    data['ID'].append(id.text)\n",
    "    data['Commet'].append(commet.text.replace('\\n', ' '))\n",
    "data"
   ]
  },
  {
   "cell_type": "code",
   "execution_count": null,
   "metadata": {},
   "outputs": [],
   "source": [
    "df = pd.DataFrame(data)\n",
    "df"
   ]
  },
  {
   "cell_type": "code",
   "execution_count": null,
   "metadata": {},
   "outputs": [],
   "source": [
    "# 다음 게시글로 이동하는 버튼을 선택 \n",
    "next_element = driver.find_element(By.CSS_SELECTOR, \n",
    "                                   '._aaqg ._abl-')\n",
    "next_element.click()"
   ]
  },
  {
   "cell_type": "code",
   "execution_count": null,
   "metadata": {},
   "outputs": [],
   "source": [
    "## 게시글 링크를 모두 찾는다. \n",
    "imgs = driver.find_elements(\n",
    "    By.CLASS_NAME, '_aagw'\n",
    ")\n",
    "# 게시글의 첫번째를 클릭 \n",
    "imgs[0].click()\n",
    "\n",
    "# data를 저장할 공간 생성\n",
    "data = {\n",
    "    'ID' : [], \n",
    "    'Commet' : []\n",
    "}\n",
    "\n",
    "driver.implicitly_wait(20)\n",
    "for i in range(3):\n",
    "    # 다음 버튼이 존재하지 않으면 ? -> 에러 발생 \n",
    "    # try 구문을 이용하여 에러 발생시 print로 출력\n",
    "    try:\n",
    "        driver.implicitly_wait(20)\n",
    "        # ids = driver.find_elements(By.CLASS_NAME, '_a9zc')\n",
    "        # commets = driver.find_elements(By.CLASS_NAME, '_a9zs')\n",
    "        ids = driver.find_elements(By.CSS_SELECTOR, \n",
    "                                   'h2[class=\"_a9zc\"]')\n",
    "        ids.extend(\n",
    "            driver.find_elements(By.CSS_SELECTOR, \n",
    "                                 'h3[class=\"_a9zc\"]')\n",
    "        )\n",
    "        commets = driver.find_elements(By.CSS_SELECTOR, \n",
    "                                       'div[class=\"_a9zs\"]')\n",
    "        print(len(ids))\n",
    "        print(len(commets))\n",
    "        for id, commet in zip(ids, commets):\n",
    "            data['ID'].append(id.text)\n",
    "            data['Commet'].append(commet.text.replace('\\n', ' '))\n",
    "        next_element = driver.find_element(By.CSS_SELECTOR, \n",
    "                                           '._aaqg ._abl-')\n",
    "        next_element.click()\n",
    "    except:\n",
    "        print('다음 버튼이 존재하지 않거나 에러 발생')\n",
    "# 게시물을 닫아준다. \n",
    "close_element = driver.find_element(By.CSS_SELECTOR, \n",
    "                                    'svg[aria-label=\"닫기\"]')\n",
    "close_element.click()\n",
    "df = pd.DataFrame(data)"
   ]
  },
  {
   "cell_type": "code",
   "execution_count": null,
   "metadata": {},
   "outputs": [],
   "source": [
    "df"
   ]
  },
  {
   "cell_type": "code",
   "execution_count": null,
   "metadata": {},
   "outputs": [],
   "source": [
    "df.loc[0, 'Commet']"
   ]
  },
  {
   "cell_type": "code",
   "execution_count": null,
   "metadata": {},
   "outputs": [],
   "source": [
    "from konlpy.tag import Okt"
   ]
  },
  {
   "cell_type": "code",
   "execution_count": null,
   "metadata": {},
   "outputs": [],
   "source": [
    "# 문자에서 형태소를 분석하는 클래스\n",
    "okt = Okt()"
   ]
  },
  {
   "cell_type": "code",
   "execution_count": null,
   "metadata": {},
   "outputs": [],
   "source": [
    "# 문자의 형태를 분석 \n",
    "nouns = okt.nouns(df.loc[0, 'Commet'])"
   ]
  },
  {
   "cell_type": "code",
   "execution_count": null,
   "metadata": {},
   "outputs": [],
   "source": [
    "nouns"
   ]
  },
  {
   "cell_type": "code",
   "execution_count": null,
   "metadata": {},
   "outputs": [],
   "source": [
    "# nouns에서 글자 수가 1인 데이터를 제외\n",
    "words = [n for n in nouns if len(n) > 1]"
   ]
  },
  {
   "cell_type": "code",
   "execution_count": null,
   "metadata": {},
   "outputs": [],
   "source": [
    "words"
   ]
  },
  {
   "cell_type": "code",
   "execution_count": null,
   "metadata": {},
   "outputs": [],
   "source": [
    "# case1 (map을 이용)\n",
    "def return_words(x):\n",
    "    nouns = okt.nouns(x)\n",
    "    if nouns:\n",
    "        words = [n for n in nouns if len(n) > 1]\n",
    "    else:\n",
    "        words = \"\"\n",
    "    return words\n",
    "    \n",
    "\n",
    "df['words'] = df['Commet'].map(return_words)"
   ]
  },
  {
   "cell_type": "code",
   "execution_count": null,
   "metadata": {},
   "outputs": [],
   "source": [
    "df"
   ]
  },
  {
   "cell_type": "code",
   "execution_count": 47,
   "metadata": {},
   "outputs": [],
   "source": [
    "# case2 (for문 이용)\n",
    "col_data = []\n",
    "for i in range(len(df)):\n",
    "    # print(i)\n",
    "    nouns = okt.nouns(df.loc[i, 'Commet'])\n",
    "    if nouns:\n",
    "        words = [n for n in nouns if len(n) > 1]\n",
    "    else:\n",
    "        words = \"\"\n",
    "    # print(words)\n",
    "    col_data.append(words)\n",
    "df['words2'] = col_data"
   ]
  },
  {
   "cell_type": "code",
   "execution_count": 50,
   "metadata": {},
   "outputs": [],
   "source": [
    "df.to_csv(\"test.csv\")"
   ]
  },
  {
   "cell_type": "code",
   "execution_count": null,
   "metadata": {},
   "outputs": [],
   "source": [
    "df"
   ]
  },
  {
   "cell_type": "code",
   "execution_count": 56,
   "metadata": {},
   "outputs": [],
   "source": [
    "import requests"
   ]
  },
  {
   "cell_type": "code",
   "execution_count": 57,
   "metadata": {},
   "outputs": [],
   "source": [
    "# 이미지를 저장하는 함수를 하나 생성 \n",
    "def image_save(img_path, save_path, file_name):\n",
    "    html_data = requests.get(img_path)\n",
    "    imageFile = open(\n",
    "        os.path.join(\n",
    "            save_path, \n",
    "            file_name\n",
    "        ), \n",
    "        'wb'\n",
    "    )\n",
    "    # 이미지 데이터의 크기 \n",
    "    chunk_size = 100000000\n",
    "    for chunk in html_data.iter_content(chunk_size):\n",
    "        imageFile.write(chunk)\n",
    "        imageFile.close()\n",
    "    print('파일 저장 완료')"
   ]
  },
  {
   "cell_type": "code",
   "execution_count": 79,
   "metadata": {},
   "outputs": [
    {
     "name": "stdout",
     "output_type": "stream",
     "text": [
      "https://scontent.cdninstagram.com/v/t51.29350-15/431751142_3694731790795441_3537009666366567387_n.heic?stp=dst-jpg_e35&efg=eyJ2ZW5jb2RlX3RhZyI6ImltYWdlX3VybGdlbi4xNDQweDE0NDAuc2RyLmYyOTM1MCJ9&_nc_ht=scontent.cdninstagram.com&_nc_cat=101&_nc_ohc=6VU_dVPjp_YAb5Q0-Ko&edm=APs17CUBAAAA&ccb=7-5&ig_cache_key=MzMxODQzMDg1MDk1MzYzMTY5MA%3D%3D.2-ccb7-5&oh=00_AfCCEyGjp3D1vzDWb__pJLpYJSzAejZ3856UipJ0_eb0EQ&oe=6622BE09&_nc_sid=10d13b\n",
      "파일 저장 완료\n",
      "https://scontent.cdninstagram.com/v/t51.29350-15/412779690_2152180555126192_4803143512538141057_n.heic?stp=dst-jpg_e35&efg=eyJ2ZW5jb2RlX3RhZyI6ImltYWdlX3VybGdlbi4xNDQweDE4MDAuc2RyLmYyOTM1MCJ9&_nc_ht=scontent.cdninstagram.com&_nc_cat=104&_nc_ohc=hlOIQkllAfUAb76ajsh&edm=APs17CUBAAAA&ccb=7-5&ig_cache_key=MzI2NjA4NjU2NjgwODM2MjQ0Mg%3D%3D.2-ccb7-5&oh=00_AfBNxlFVq9z4vqIv7LrrRL4pmNiF1pV_laRd9WpQOMU8NQ&oe=6622BF17&_nc_sid=10d13b\n",
      "파일 저장 완료\n",
      "https://scontent.cdninstagram.com/v/t51.29350-15/330825053_723258659335830_5217489359993013875_n.webp?stp=dst-jpg_e35&efg=eyJ2ZW5jb2RlX3RhZyI6ImltYWdlX3VybGdlbi4xNDQweDE0NDAuc2RyLmYyOTM1MCJ9&_nc_ht=scontent.cdninstagram.com&_nc_cat=106&_nc_ohc=P1iA5XemkmIAb5JnaMU&edm=APs17CUBAAAA&ccb=7-5&ig_cache_key=MzAzOTE3MzQ4MDUzNjE0MjA3Mg%3D%3D.2-ccb7-5&oh=00_AfBIJaZXaXE1yBuAq6TDL-fZAp9Q_UgOVlicdfHqPjRjYQ&oe=6620C494&_nc_sid=10d13b\n",
      "파일 저장 완료\n"
     ]
    }
   ],
   "source": [
    "imgs = driver.find_elements(By.CLASS_NAME, '_aagw')\n",
    "imgs[0].click()\n",
    "\n",
    "driver.implicitly_wait(10)\n",
    "\n",
    "for i in range(3):\n",
    "    try : \n",
    "        driver.implicitly_wait(10)\n",
    "        # 이미지를 저장 \n",
    "        img_element = driver.find_element(By.CSS_SELECTOR, \n",
    "                                          '._aato ._aagv .x5yr21d.xu96u03.x10l6tqk.x13vifvy.x87ps6o.xh8yej3')\n",
    "        # img_element = driver.find_element(By.CSS_SELECTOR, \n",
    "        #                                   'div[class~=\"_aato _aagv\"]>img[class=\"x5yr21d xu96u03 x10l6tqk x13vifvy x87ps6o xh8yej3\"]')\n",
    "        # 해당하는 이미지 태그에서 src 속성의 값을 출력\n",
    "        img_src = img_element.get_attribute('src')\n",
    "        print(img_src)\n",
    "        image_save(\n",
    "            img_src, \n",
    "            \"./\", \n",
    "            f\"{i}.png\"\n",
    "        )\n",
    "        # 다음버튼 클릭 \n",
    "        next_element = driver.find_element(By.CSS_SELECTOR, \n",
    "                                           '._aaqg ._abl-')\n",
    "        next_element.click()\n",
    "    except:\n",
    "        print('error')\n",
    "        # 다음버튼 클릭 \n",
    "        next_element = driver.find_element(By.CSS_SELECTOR, \n",
    "                                           '._aaqg ._abl-')\n",
    "        next_element.click()"
   ]
  },
  {
   "cell_type": "code",
   "execution_count": 80,
   "metadata": {},
   "outputs": [],
   "source": [
    "# 외부의 모듈을 로드 \n",
    "import insta"
   ]
  },
  {
   "cell_type": "code",
   "execution_count": 82,
   "metadata": {},
   "outputs": [
    {
     "ename": "NoSuchElementException",
     "evalue": "Message: no such element: Unable to locate element: {\"method\":\"css selector\",\"selector\":\"svg[aria-label=\"검색\"]\"}\n  (Session info: chrome=123.0.6312.123); For documentation on this error, please visit: https://www.selenium.dev/documentation/webdriver/troubleshooting/errors#no-such-element-exception\nStacktrace:\n\tGetHandleVerifier [0x00007FF77FF07032+63090]\n\t(No symbol) [0x00007FF77FE72C82]\n\t(No symbol) [0x00007FF77FD0EC65]\n\t(No symbol) [0x00007FF77FD5499D]\n\t(No symbol) [0x00007FF77FD54ADC]\n\t(No symbol) [0x00007FF77FD95B37]\n\t(No symbol) [0x00007FF77FD7701F]\n\t(No symbol) [0x00007FF77FD93412]\n\t(No symbol) [0x00007FF77FD76D83]\n\t(No symbol) [0x00007FF77FD483A8]\n\t(No symbol) [0x00007FF77FD49441]\n\tGetHandleVerifier [0x00007FF7803025AD+4238317]\n\tGetHandleVerifier [0x00007FF78033F70D+4488525]\n\tGetHandleVerifier [0x00007FF7803379EF+4456495]\n\tGetHandleVerifier [0x00007FF77FFE0576+953270]\n\t(No symbol) [0x00007FF77FE7E54F]\n\t(No symbol) [0x00007FF77FE79224]\n\t(No symbol) [0x00007FF77FE7935B]\n\t(No symbol) [0x00007FF77FE69B94]\n\tBaseThreadInitThunk [0x00007FF92EF0257D+29]\n\tRtlUserThreadStart [0x00007FF92F50AA48+40]\n",
     "output_type": "error",
     "traceback": [
      "\u001b[1;31m---------------------------------------------------------------------------\u001b[0m",
      "\u001b[1;31mNoSuchElementException\u001b[0m                    Traceback (most recent call last)",
      "Cell \u001b[1;32mIn[82], line 1\u001b[0m\n\u001b[1;32m----> 1\u001b[0m \u001b[43minsta\u001b[49m\u001b[38;5;241;43m.\u001b[39;49m\u001b[43msearch_insta\u001b[49m\u001b[43m(\u001b[49m\u001b[38;5;124;43m\"\u001b[39;49m\u001b[38;5;124;43m가디맛집\u001b[39;49m\u001b[38;5;124;43m\"\u001b[39;49m\u001b[43m)\u001b[49m\n",
      "File \u001b[1;32mc:\\Users\\moons\\Documents\\GitHub\\ubion_m_5\\python\\240415\\insta.py:57\u001b[0m, in \u001b[0;36msearch_insta\u001b[1;34m(_text)\u001b[0m\n\u001b[0;32m     55\u001b[0m \u001b[38;5;66;03m# svg 태그 중 aria-label=\"검색\" 인 태그를 선택\u001b[39;00m\n\u001b[0;32m     56\u001b[0m driver\u001b[38;5;241m.\u001b[39mimplicitly_wait(\u001b[38;5;241m10\u001b[39m)\n\u001b[1;32m---> 57\u001b[0m search_element \u001b[38;5;241m=\u001b[39m \u001b[43mdriver\u001b[49m\u001b[38;5;241;43m.\u001b[39;49m\u001b[43mfind_element\u001b[49m\u001b[43m(\u001b[49m\u001b[43mBy\u001b[49m\u001b[38;5;241;43m.\u001b[39;49m\u001b[43mCSS_SELECTOR\u001b[49m\u001b[43m,\u001b[49m\u001b[43m \u001b[49m\n\u001b[0;32m     58\u001b[0m \u001b[43m                                    \u001b[49m\u001b[38;5;124;43m'\u001b[39;49m\u001b[38;5;124;43msvg[aria-label=\u001b[39;49m\u001b[38;5;124;43m\"\u001b[39;49m\u001b[38;5;124;43m검색\u001b[39;49m\u001b[38;5;124;43m\"\u001b[39;49m\u001b[38;5;124;43m]\u001b[39;49m\u001b[38;5;124;43m'\u001b[39;49m\u001b[43m)\u001b[49m\n\u001b[0;32m     59\u001b[0m \u001b[38;5;66;03m# search_element를 클릭\u001b[39;00m\n\u001b[0;32m     60\u001b[0m search_element\u001b[38;5;241m.\u001b[39mclick()\n",
      "File \u001b[1;32mc:\\Users\\moons\\AppData\\Local\\Programs\\Python\\Python311\\Lib\\site-packages\\selenium\\webdriver\\remote\\webdriver.py:739\u001b[0m, in \u001b[0;36mWebDriver.find_element\u001b[1;34m(self, by, value)\u001b[0m\n\u001b[0;32m    736\u001b[0m     by \u001b[38;5;241m=\u001b[39m By\u001b[38;5;241m.\u001b[39mCSS_SELECTOR\n\u001b[0;32m    737\u001b[0m     value \u001b[38;5;241m=\u001b[39m \u001b[38;5;124mf\u001b[39m\u001b[38;5;124m'\u001b[39m\u001b[38;5;124m[name=\u001b[39m\u001b[38;5;124m\"\u001b[39m\u001b[38;5;132;01m{\u001b[39;00mvalue\u001b[38;5;132;01m}\u001b[39;00m\u001b[38;5;124m\"\u001b[39m\u001b[38;5;124m]\u001b[39m\u001b[38;5;124m'\u001b[39m\n\u001b[1;32m--> 739\u001b[0m \u001b[38;5;28;01mreturn\u001b[39;00m \u001b[38;5;28;43mself\u001b[39;49m\u001b[38;5;241;43m.\u001b[39;49m\u001b[43mexecute\u001b[49m\u001b[43m(\u001b[49m\u001b[43mCommand\u001b[49m\u001b[38;5;241;43m.\u001b[39;49m\u001b[43mFIND_ELEMENT\u001b[49m\u001b[43m,\u001b[49m\u001b[43m \u001b[49m\u001b[43m{\u001b[49m\u001b[38;5;124;43m\"\u001b[39;49m\u001b[38;5;124;43musing\u001b[39;49m\u001b[38;5;124;43m\"\u001b[39;49m\u001b[43m:\u001b[49m\u001b[43m \u001b[49m\u001b[43mby\u001b[49m\u001b[43m,\u001b[49m\u001b[43m \u001b[49m\u001b[38;5;124;43m\"\u001b[39;49m\u001b[38;5;124;43mvalue\u001b[39;49m\u001b[38;5;124;43m\"\u001b[39;49m\u001b[43m:\u001b[49m\u001b[43m \u001b[49m\u001b[43mvalue\u001b[49m\u001b[43m}\u001b[49m\u001b[43m)\u001b[49m[\u001b[38;5;124m\"\u001b[39m\u001b[38;5;124mvalue\u001b[39m\u001b[38;5;124m\"\u001b[39m]\n",
      "File \u001b[1;32mc:\\Users\\moons\\AppData\\Local\\Programs\\Python\\Python311\\Lib\\site-packages\\selenium\\webdriver\\remote\\webdriver.py:345\u001b[0m, in \u001b[0;36mWebDriver.execute\u001b[1;34m(self, driver_command, params)\u001b[0m\n\u001b[0;32m    343\u001b[0m response \u001b[38;5;241m=\u001b[39m \u001b[38;5;28mself\u001b[39m\u001b[38;5;241m.\u001b[39mcommand_executor\u001b[38;5;241m.\u001b[39mexecute(driver_command, params)\n\u001b[0;32m    344\u001b[0m \u001b[38;5;28;01mif\u001b[39;00m response:\n\u001b[1;32m--> 345\u001b[0m     \u001b[38;5;28;43mself\u001b[39;49m\u001b[38;5;241;43m.\u001b[39;49m\u001b[43merror_handler\u001b[49m\u001b[38;5;241;43m.\u001b[39;49m\u001b[43mcheck_response\u001b[49m\u001b[43m(\u001b[49m\u001b[43mresponse\u001b[49m\u001b[43m)\u001b[49m\n\u001b[0;32m    346\u001b[0m     response[\u001b[38;5;124m\"\u001b[39m\u001b[38;5;124mvalue\u001b[39m\u001b[38;5;124m\"\u001b[39m] \u001b[38;5;241m=\u001b[39m \u001b[38;5;28mself\u001b[39m\u001b[38;5;241m.\u001b[39m_unwrap_value(response\u001b[38;5;241m.\u001b[39mget(\u001b[38;5;124m\"\u001b[39m\u001b[38;5;124mvalue\u001b[39m\u001b[38;5;124m\"\u001b[39m, \u001b[38;5;28;01mNone\u001b[39;00m))\n\u001b[0;32m    347\u001b[0m     \u001b[38;5;28;01mreturn\u001b[39;00m response\n",
      "File \u001b[1;32mc:\\Users\\moons\\AppData\\Local\\Programs\\Python\\Python311\\Lib\\site-packages\\selenium\\webdriver\\remote\\errorhandler.py:229\u001b[0m, in \u001b[0;36mErrorHandler.check_response\u001b[1;34m(self, response)\u001b[0m\n\u001b[0;32m    227\u001b[0m         alert_text \u001b[38;5;241m=\u001b[39m value[\u001b[38;5;124m\"\u001b[39m\u001b[38;5;124malert\u001b[39m\u001b[38;5;124m\"\u001b[39m]\u001b[38;5;241m.\u001b[39mget(\u001b[38;5;124m\"\u001b[39m\u001b[38;5;124mtext\u001b[39m\u001b[38;5;124m\"\u001b[39m)\n\u001b[0;32m    228\u001b[0m     \u001b[38;5;28;01mraise\u001b[39;00m exception_class(message, screen, stacktrace, alert_text)  \u001b[38;5;66;03m# type: ignore[call-arg]  # mypy is not smart enough here\u001b[39;00m\n\u001b[1;32m--> 229\u001b[0m \u001b[38;5;28;01mraise\u001b[39;00m exception_class(message, screen, stacktrace)\n",
      "\u001b[1;31mNoSuchElementException\u001b[0m: Message: no such element: Unable to locate element: {\"method\":\"css selector\",\"selector\":\"svg[aria-label=\"검색\"]\"}\n  (Session info: chrome=123.0.6312.123); For documentation on this error, please visit: https://www.selenium.dev/documentation/webdriver/troubleshooting/errors#no-such-element-exception\nStacktrace:\n\tGetHandleVerifier [0x00007FF77FF07032+63090]\n\t(No symbol) [0x00007FF77FE72C82]\n\t(No symbol) [0x00007FF77FD0EC65]\n\t(No symbol) [0x00007FF77FD5499D]\n\t(No symbol) [0x00007FF77FD54ADC]\n\t(No symbol) [0x00007FF77FD95B37]\n\t(No symbol) [0x00007FF77FD7701F]\n\t(No symbol) [0x00007FF77FD93412]\n\t(No symbol) [0x00007FF77FD76D83]\n\t(No symbol) [0x00007FF77FD483A8]\n\t(No symbol) [0x00007FF77FD49441]\n\tGetHandleVerifier [0x00007FF7803025AD+4238317]\n\tGetHandleVerifier [0x00007FF78033F70D+4488525]\n\tGetHandleVerifier [0x00007FF7803379EF+4456495]\n\tGetHandleVerifier [0x00007FF77FFE0576+953270]\n\t(No symbol) [0x00007FF77FE7E54F]\n\t(No symbol) [0x00007FF77FE79224]\n\t(No symbol) [0x00007FF77FE7935B]\n\t(No symbol) [0x00007FF77FE69B94]\n\tBaseThreadInitThunk [0x00007FF92EF0257D+29]\n\tRtlUserThreadStart [0x00007FF92F50AA48+40]\n"
     ]
    }
   ],
   "source": [
    "insta.search_insta(\"가디맛집\")"
   ]
  }
 ],
 "metadata": {
  "kernelspec": {
   "display_name": "Python 3",
   "language": "python",
   "name": "python3"
  },
  "language_info": {
   "codemirror_mode": {
    "name": "ipython",
    "version": 3
   },
   "file_extension": ".py",
   "mimetype": "text/x-python",
   "name": "python",
   "nbconvert_exporter": "python",
   "pygments_lexer": "ipython3",
   "version": "3.11.1"
  }
 },
 "nbformat": 4,
 "nbformat_minor": 2
}
