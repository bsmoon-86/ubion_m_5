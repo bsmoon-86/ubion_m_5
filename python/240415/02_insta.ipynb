{
 "cells": [
  {
   "cell_type": "code",
   "execution_count": 1,
   "metadata": {},
   "outputs": [],
   "source": [
    "from selenium import webdriver\n",
    "from selenium.webdriver.common.by import By\n",
    "from selenium.webdriver.common.keys import Keys\n",
    "import pandas as pd\n",
    "import time\n",
    "from bs4 import BeautifulSoup as bs\n",
    "import os \n",
    "from dotenv import load_dotenv"
   ]
  },
  {
   "cell_type": "code",
   "execution_count": 2,
   "metadata": {},
   "outputs": [],
   "source": [
    "# 웹 브라우져를 실행 \n",
    "driver = webdriver.Chrome()"
   ]
  },
  {
   "cell_type": "code",
   "execution_count": 3,
   "metadata": {},
   "outputs": [],
   "source": [
    "## 인스타그램에 요청 \n",
    "driver.get('https://www.instagram.com')"
   ]
  },
  {
   "cell_type": "code",
   "execution_count": 4,
   "metadata": {},
   "outputs": [
    {
     "data": {
      "text/plain": [
       "True"
      ]
     },
     "execution_count": 4,
     "metadata": {},
     "output_type": "execute_result"
    }
   ],
   "source": [
    "load_dotenv()"
   ]
  },
  {
   "cell_type": "code",
   "execution_count": 5,
   "metadata": {},
   "outputs": [],
   "source": [
    "driver.implicitly_wait(10)\n",
    "# 인스타그램에 로그인 \n",
    "id_element = driver.find_element(\n",
    "    By.CSS_SELECTOR, \n",
    "    'input[name=\"username\"]')\n",
    "# id_element에 아이디 값(.env에 있는 id)을 입력 \n",
    "id_element.send_keys(os.getenv('id'))\n",
    "pass_element = driver.find_element(\n",
    "    By.CSS_SELECTOR, \n",
    "    'input[name=\"password\"]'\n",
    ")\n",
    "# pass_element에 패스워드(.env에 있는 password)를 입력\n",
    "pass_element.send_keys(os.getenv('password'))\n",
    "# time.sleep(2)\n",
    "# implicitly_wait() : html, css 정보가 모두 로드가 되면 시간에 무관하게 다음 코드가 실행\n",
    "# 입력한 시간이 초과될때 로드가 전부 안되어있으면 에러 발생\n",
    "driver.implicitly_wait(10)\n",
    "pass_element.send_keys(Keys.ENTER)"
   ]
  },
  {
   "cell_type": "code",
   "execution_count": 6,
   "metadata": {},
   "outputs": [],
   "source": [
    "# svg 태그 중 aria-label=\"검색\" 인 태그를 선택\n",
    "driver.implicitly_wait(10)\n",
    "search_element = driver.find_element(By.CSS_SELECTOR, \n",
    "                                     'svg[aria-label=\"검색\"]')\n",
    "# search_element를 클릭\n",
    "search_element.click()"
   ]
  },
  {
   "cell_type": "code",
   "execution_count": 7,
   "metadata": {},
   "outputs": [],
   "source": [
    "driver.implicitly_wait(10)\n",
    "# 검색창에 input 태그를 선택\n",
    "search_input = driver.find_element(By.CSS_SELECTOR, \n",
    "                                   'input[aria-label=\"입력 검색\"]')\n",
    "# search_input에 특정 문자열을 입력\n",
    "search_input.send_keys(\"구디맛집\")"
   ]
  },
  {
   "cell_type": "code",
   "execution_count": 8,
   "metadata": {},
   "outputs": [
    {
     "name": "stdout",
     "output_type": "stream",
     "text": [
      "54\n"
     ]
    }
   ],
   "source": [
    "driver.implicitly_wait(10)\n",
    "## 검색 리스트 전체를 검색\n",
    "list_element = driver.find_elements(\n",
    "    By.CSS_SELECTOR, \n",
    "    '.x9f619.x78zum5.xdt5ytf.x1iyjqo2.x6ikm8r.x1odjw0f.xh8yej3.xocp1fn .x1i10hfl'\n",
    ")\n",
    "print(len(list_element))\n",
    "# 검색 리스트에서 첫번째를 클릭 \n",
    "list_element[0].click() \n"
   ]
  },
  {
   "cell_type": "code",
   "execution_count": 9,
   "metadata": {},
   "outputs": [],
   "source": [
    "## 게시글 링크를 모두 찾는다. \n",
    "imgs = driver.find_elements(\n",
    "    By.CLASS_NAME, '_aagw'\n",
    ")\n",
    "# 게시글의 첫번째를 클릭 \n",
    "imgs[0].click()"
   ]
  },
  {
   "cell_type": "code",
   "execution_count": 10,
   "metadata": {},
   "outputs": [
    {
     "data": {
      "text/plain": [
       "{'ID': ['noriter486'],\n",
       " 'Commet': ['오랜만에 소식을 전하네요~😆  봄 맞이 신메뉴가 등장 했슴돠~두둥두둥💢💥  고객님들의 반응도 좋고~ 맥주안주, 하이볼과도 찰떡🫰  튀김메뉴도 늘어나고~ 퓨전요리들로 새롭게 꾸며보려해요  1.첫번째 메뉴로는 퓨전멕시코요리 입니다.💯💯💯  드셔본분도 있으실거예요 예전#놀이터_전통주주점 에서도  선보였던 메뉴 랍니다 \"김치까르니따스\"  감튀와 볶음김치, 멕시코식 돼지고기요리 등등..  느끼하지 않으면서 궁합이 좋은 메뉴예요 ㅎㅎ  2.날치알 제육과 계란찜의 조합! 말해모해요 ㅋ💫💣  3.코로나니따와 데낄라의 조합!!🙈🙉  병째 즐기는 데낄라 썬라이즈 칵테일 입니다  놀러들 오세요~']}"
      ]
     },
     "execution_count": 10,
     "metadata": {},
     "output_type": "execute_result"
    }
   ],
   "source": [
    "# 게시물에서 텍스트를 추출 \n",
    "\n",
    "# Class가 _a9zc인 태그의 수 \n",
    "# len(driver.find_elements(By.CLASS_NAME, '_a9zs'))\n",
    "\n",
    "ids = driver.find_elements(By.CLASS_NAME, '_a9zc')\n",
    "commets = driver.find_elements(By.CLASS_NAME, '_a9zs')\n",
    "\n",
    "# 데이터프레임에 대입할 변수를 생성 \n",
    "data = {\n",
    "    'ID': [], \n",
    "    'Commet' : []\n",
    "}\n",
    "\n",
    "# for id in ids:\n",
    "#     print(id.text)\n",
    "# for commet in commets:\n",
    "#     print(commet.text.replace('\\n', ' '))\n",
    "\n",
    "# for i in range(len(ids)):\n",
    "#     print(ids[i].text)\n",
    "#     print(commets[i].text.replace(\"\\n\", \" \"))\n",
    "\n",
    "for id, commet in zip(ids, commets):\n",
    "    # print(id.text)\n",
    "    # print(commet.text.replace('\\n', ' '))\n",
    "    data['ID'].append(id.text)\n",
    "    data['Commet'].append(commet.text.replace('\\n', ' '))\n",
    "data"
   ]
  },
  {
   "cell_type": "code",
   "execution_count": 11,
   "metadata": {},
   "outputs": [
    {
     "data": {
      "text/html": [
       "<div>\n",
       "<style scoped>\n",
       "    .dataframe tbody tr th:only-of-type {\n",
       "        vertical-align: middle;\n",
       "    }\n",
       "\n",
       "    .dataframe tbody tr th {\n",
       "        vertical-align: top;\n",
       "    }\n",
       "\n",
       "    .dataframe thead th {\n",
       "        text-align: right;\n",
       "    }\n",
       "</style>\n",
       "<table border=\"1\" class=\"dataframe\">\n",
       "  <thead>\n",
       "    <tr style=\"text-align: right;\">\n",
       "      <th></th>\n",
       "      <th>ID</th>\n",
       "      <th>Commet</th>\n",
       "    </tr>\n",
       "  </thead>\n",
       "  <tbody>\n",
       "    <tr>\n",
       "      <th>0</th>\n",
       "      <td>noriter486</td>\n",
       "      <td>오랜만에 소식을 전하네요~😆  봄 맞이 신메뉴가 등장 했슴돠~두둥두둥💢💥  고객님들...</td>\n",
       "    </tr>\n",
       "  </tbody>\n",
       "</table>\n",
       "</div>"
      ],
      "text/plain": [
       "           ID                                             Commet\n",
       "0  noriter486  오랜만에 소식을 전하네요~😆  봄 맞이 신메뉴가 등장 했슴돠~두둥두둥💢💥  고객님들..."
      ]
     },
     "execution_count": 11,
     "metadata": {},
     "output_type": "execute_result"
    }
   ],
   "source": [
    "df = pd.DataFrame(data)\n",
    "df"
   ]
  },
  {
   "cell_type": "code",
   "execution_count": 12,
   "metadata": {},
   "outputs": [],
   "source": [
    "# 다음 게시글로 이동하는 버튼을 선택 \n",
    "next_element = driver.find_element(By.CSS_SELECTOR, \n",
    "                                   '._aaqg ._abl-')\n",
    "next_element.click()"
   ]
  },
  {
   "cell_type": "code",
   "execution_count": 19,
   "metadata": {},
   "outputs": [
    {
     "name": "stdout",
     "output_type": "stream",
     "text": [
      "3\n",
      "3\n",
      "1\n",
      "1\n",
      "3\n",
      "3\n"
     ]
    }
   ],
   "source": [
    "## 게시글 링크를 모두 찾는다. \n",
    "imgs = driver.find_elements(\n",
    "    By.CLASS_NAME, '_aagw'\n",
    ")\n",
    "# 게시글의 첫번째를 클릭 \n",
    "imgs[0].click()\n",
    "\n",
    "# data를 저장할 공간 생성\n",
    "data = {\n",
    "    'ID' : [], \n",
    "    'Commet' : []\n",
    "}\n",
    "\n",
    "driver.implicitly_wait(20)\n",
    "for i in range(3):\n",
    "    # 다음 버튼이 존재하지 않으면 ? -> 에러 발생 \n",
    "    # try 구문을 이용하여 에러 발생시 print로 출력\n",
    "    try:\n",
    "        driver.implicitly_wait(20)\n",
    "        # ids = driver.find_elements(By.CLASS_NAME, '_a9zc')\n",
    "        # commets = driver.find_elements(By.CLASS_NAME, '_a9zs')\n",
    "        ids = driver.find_elements(By.CSS_SELECTOR, \n",
    "                                   'h2[class=\"_a9zc\"]')\n",
    "        ids.extend(\n",
    "            driver.find_elements(By.CSS_SELECTOR, \n",
    "                                 'h3[class=\"_a9zc\"]')\n",
    "        )\n",
    "        commets = driver.find_elements(By.CSS_SELECTOR, \n",
    "                                       'div[class=\"_a9zs\"]')\n",
    "        print(len(ids))\n",
    "        print(len(commets))\n",
    "        for id, commet in zip(ids, commets):\n",
    "            data['ID'].append(id.text)\n",
    "            data['Commet'].append(commet.text.replace('\\n', ' '))\n",
    "        next_element = driver.find_element(By.CSS_SELECTOR, \n",
    "                                           '._aaqg ._abl-')\n",
    "        next_element.click()\n",
    "    except:\n",
    "        print('다음 버튼이 존재하지 않거나 에러 발생')\n",
    "# 게시물을 닫아준다. \n",
    "close_element = driver.find_element(By.CSS_SELECTOR, \n",
    "                                    'svg[aria-label=\"닫기\"]')\n",
    "close_element.click()\n",
    "df = pd.DataFrame(data)"
   ]
  },
  {
   "cell_type": "code",
   "execution_count": 20,
   "metadata": {},
   "outputs": [
    {
     "data": {
      "text/html": [
       "<div>\n",
       "<style scoped>\n",
       "    .dataframe tbody tr th:only-of-type {\n",
       "        vertical-align: middle;\n",
       "    }\n",
       "\n",
       "    .dataframe tbody tr th {\n",
       "        vertical-align: top;\n",
       "    }\n",
       "\n",
       "    .dataframe thead th {\n",
       "        text-align: right;\n",
       "    }\n",
       "</style>\n",
       "<table border=\"1\" class=\"dataframe\">\n",
       "  <thead>\n",
       "    <tr style=\"text-align: right;\">\n",
       "      <th></th>\n",
       "      <th>ID</th>\n",
       "      <th>Commet</th>\n",
       "    </tr>\n",
       "  </thead>\n",
       "  <tbody>\n",
       "    <tr>\n",
       "      <th>0</th>\n",
       "      <td>noriter486</td>\n",
       "      <td>오랜만에 소식을 전하네요~😆  봄 맞이 신메뉴가 등장 했슴돠~두둥두둥💢💥  고객님들...</td>\n",
       "    </tr>\n",
       "    <tr>\n",
       "      <th>1</th>\n",
       "      <td>noriter486_zzang</td>\n",
       "      <td>👏👏👏👏👏</td>\n",
       "    </tr>\n",
       "    <tr>\n",
       "      <th>2</th>\n",
       "      <td>noriter486</td>\n",
       "      <td>👏👏👏👏</td>\n",
       "    </tr>\n",
       "    <tr>\n",
       "      <th>3</th>\n",
       "      <td>noriter486</td>\n",
       "      <td>매장 먼지 테러로 인한 심각한 피해 상황 ㅡㅡ 옆매장 공사로 인한 강제 문닫음 ㅠㅠ...</td>\n",
       "    </tr>\n",
       "    <tr>\n",
       "      <th>4</th>\n",
       "      <td>noriter486_zzang</td>\n",
       "      <td>#다이슨#다이슨팝업 @dyson_kr #createwithdyson 체험</td>\n",
       "    </tr>\n",
       "    <tr>\n",
       "      <th>5</th>\n",
       "      <td>cuteponnu686</td>\n",
       "      <td>🅳🅼 확인부탁드려요(숨겨진 요청에 있을수도 있어요).</td>\n",
       "    </tr>\n",
       "    <tr>\n",
       "      <th>6</th>\n",
       "      <td>blidge.review</td>\n",
       "      <td>안녕하세요 : ) 체험단 무료모집 관련해서 DM 드렸습니다. 확인 부탁드립니다 !</td>\n",
       "    </tr>\n",
       "  </tbody>\n",
       "</table>\n",
       "</div>"
      ],
      "text/plain": [
       "                 ID                                             Commet\n",
       "0        noriter486  오랜만에 소식을 전하네요~😆  봄 맞이 신메뉴가 등장 했슴돠~두둥두둥💢💥  고객님들...\n",
       "1  noriter486_zzang                                              👏👏👏👏👏\n",
       "2        noriter486                                               👏👏👏👏\n",
       "3        noriter486  매장 먼지 테러로 인한 심각한 피해 상황 ㅡㅡ 옆매장 공사로 인한 강제 문닫음 ㅠㅠ...\n",
       "4  noriter486_zzang           #다이슨#다이슨팝업 @dyson_kr #createwithdyson 체험\n",
       "5      cuteponnu686                      🅳🅼 확인부탁드려요(숨겨진 요청에 있을수도 있어요).\n",
       "6     blidge.review      안녕하세요 : ) 체험단 무료모집 관련해서 DM 드렸습니다. 확인 부탁드립니다 !"
      ]
     },
     "execution_count": 20,
     "metadata": {},
     "output_type": "execute_result"
    }
   ],
   "source": [
    "df"
   ]
  },
  {
   "cell_type": "code",
   "execution_count": null,
   "metadata": {},
   "outputs": [],
   "source": []
  }
 ],
 "metadata": {
  "kernelspec": {
   "display_name": "Python 3",
   "language": "python",
   "name": "python3"
  },
  "language_info": {
   "codemirror_mode": {
    "name": "ipython",
    "version": 3
   },
   "file_extension": ".py",
   "mimetype": "text/x-python",
   "name": "python",
   "nbconvert_exporter": "python",
   "pygments_lexer": "ipython3",
   "version": "3.11.1"
  }
 },
 "nbformat": 4,
 "nbformat_minor": 2
}
