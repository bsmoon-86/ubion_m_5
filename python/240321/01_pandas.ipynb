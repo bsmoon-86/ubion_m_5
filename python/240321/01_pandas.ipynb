{
 "cells": [
  {
   "cell_type": "code",
   "execution_count": null,
   "metadata": {},
   "outputs": [],
   "source": [
    "## 라이브러리 로드 \n",
    "import pandas as pd"
   ]
  },
  {
   "cell_type": "code",
   "execution_count": null,
   "metadata": {},
   "outputs": [],
   "source": [
    "## 1차원 데이터 형인 Series를 생성 \n",
    "pd_series = pd.Series(\n",
    "    [5000, 6000, 6500, 6500]\n",
    ")"
   ]
  },
  {
   "cell_type": "code",
   "execution_count": null,
   "metadata": {},
   "outputs": [],
   "source": [
    "print(pd_series)"
   ]
  },
  {
   "cell_type": "code",
   "execution_count": null,
   "metadata": {},
   "outputs": [],
   "source": [
    "pd_series2 = pd.Series(\n",
    "    [5000, 6000, 6500, 6500], \n",
    "    index = ['아메리카노', '카페라떼', '카페모카', '카푸치노']\n",
    ")"
   ]
  },
  {
   "cell_type": "code",
   "execution_count": null,
   "metadata": {},
   "outputs": [],
   "source": [
    "pd_series2"
   ]
  },
  {
   "cell_type": "code",
   "execution_count": null,
   "metadata": {},
   "outputs": [],
   "source": [
    "# Series 형태의 데이터(Class)는 내부에 적어도 2개의 변수\n",
    "# values, index\n",
    "print('Series의 values = ', pd_series2.values)\n",
    "print('Series의 index = ', pd_series2.index)"
   ]
  },
  {
   "cell_type": "code",
   "execution_count": null,
   "metadata": {},
   "outputs": [],
   "source": [
    "pd_series.index = ['아메리카노', '카페라떼', '카페모카', '카푸치노']"
   ]
  },
  {
   "cell_type": "code",
   "execution_count": null,
   "metadata": {},
   "outputs": [],
   "source": [
    "pd_series"
   ]
  },
  {
   "cell_type": "code",
   "execution_count": null,
   "metadata": {},
   "outputs": [],
   "source": [
    "values = [\n",
    "    [1,2,6], \n",
    "    [3,4,1], \n",
    "    [6,8,3]\n",
    "]\n",
    "df = pd.DataFrame(values)"
   ]
  },
  {
   "cell_type": "code",
   "execution_count": null,
   "metadata": {},
   "outputs": [],
   "source": [
    "df"
   ]
  },
  {
   "cell_type": "code",
   "execution_count": null,
   "metadata": {},
   "outputs": [],
   "source": [
    "## 데이터프레임에는 적어도 3개의 변수가 존재\n",
    "print('데이터프레임의 values = ', df.values)\n",
    "print('데이터프레임의 index = ', df.index)\n",
    "print('데이터프레임의 columns = ', df.columns)"
   ]
  },
  {
   "cell_type": "code",
   "execution_count": null,
   "metadata": {},
   "outputs": [],
   "source": [
    "# 컬럼의 이름을 변경 \n",
    "df.columns = ['A', 'B', 'C']"
   ]
  },
  {
   "cell_type": "code",
   "execution_count": null,
   "metadata": {},
   "outputs": [],
   "source": [
    "df"
   ]
  },
  {
   "cell_type": "code",
   "execution_count": null,
   "metadata": {},
   "outputs": [],
   "source": [
    "## 특정 컬럼의 이름이나 특정 인덱스의 이름을 변경하려면\n",
    "# rename()\n",
    "# index 매개변수 : 딕셔너리형태 인자값을 사용 {기준이되는 인덱스 : 변경할 인덱스 값}\n",
    "# columns 매개변수 : 딕셔너리형태 인자값을 사용 {기준이되는 컬럼 : 변경할 컬럼 값}\n",
    "# inplace 매개변수 : bool형 인자값을 사용(False(기본값): 데이터를 변경하지 않는다., True : 데이터를 변경한다.)\n",
    "# df.rename(\n",
    "#     columns= {'B': 'F'}, \n",
    "#     index = {2 : 5}, \n",
    "#     inplace=True\n",
    "# )\n",
    "df = df.rename(\n",
    "    columns= {'B': 'F'}, \n",
    "    index = {2 : 5}\n",
    ")"
   ]
  },
  {
   "cell_type": "code",
   "execution_count": null,
   "metadata": {},
   "outputs": [],
   "source": [
    "df"
   ]
  },
  {
   "cell_type": "code",
   "execution_count": null,
   "metadata": {},
   "outputs": [],
   "source": [
    "df2 = df.copy()"
   ]
  },
  {
   "cell_type": "code",
   "execution_count": null,
   "metadata": {},
   "outputs": [],
   "source": [
    "df2.rename(\n",
    "    columns = {\n",
    "        'A' : 'X', \n",
    "        'C' : 'Y'\n",
    "    },\n",
    "    inplace = True\n",
    ")"
   ]
  },
  {
   "cell_type": "code",
   "execution_count": null,
   "metadata": {},
   "outputs": [],
   "source": [
    "print(df2)"
   ]
  },
  {
   "cell_type": "markdown",
   "metadata": {},
   "source": [
    "#### 외부의 데이터 파일을 로드 \n",
    "- csv, tsv\n",
    "    - read_csv(파일의 경로)\n",
    "- json\n",
    "    - read_json(파일의 경로)\n",
    "- excel(xls, xlsx)\n",
    "    - read_excel(파일의 경로)\n",
    "    - 추가로 라이브러리(readxl)를 설치해야되는 상황\n",
    "- xml\n",
    "    - read_xml(파일의 경로)\n",
    "- html\n",
    "    - read_html(html로 이루어진 문자형데이터)\n",
    "    - 웹 구조 중 table로 이루어진 태그를 DataFrame 변경\n",
    "- 매개변수 \n",
    "    - encoding\n",
    "        - 데이터 중 한글이 존재할때 encoding error가 발생 할수 있다. \n",
    "        - 기본 encoding은 UTF-8\n",
    "        - 'CP949', 'EUC-KR'형태로 변경하면 한글 데이터 로드 "
   ]
  },
  {
   "cell_type": "code",
   "execution_count": null,
   "metadata": {},
   "outputs": [],
   "source": [
    "## 외부의 csv 파일 로드 \n",
    "## 절대 경로 파일 로드 (환경이 변할때 파일의 위치를 찾지 못할 경우가 생긴다.)\n",
    "corona = pd.read_csv(r'C:\\Users\\moons\\Documents\\GitHub\\ubion_m_5\\csv\\corona.csv')"
   ]
  },
  {
   "cell_type": "code",
   "execution_count": null,
   "metadata": {},
   "outputs": [],
   "source": [
    "## 상대 경로 파일 로드 \n",
    "# 상위로 이동(../) -> 상위로 이동(../) \n",
    "# -> csv 폴더로 이동(csv/) -> corona.csv\n",
    "corona2 = pd.read_csv('../../csv/corona.csv')\n"
   ]
  },
  {
   "cell_type": "code",
   "execution_count": null,
   "metadata": {},
   "outputs": [],
   "source": [
    "## 데이터가 한글인 경우 \n",
    "## encoding을 cp949나 euc-kr로 변경\n",
    "df = pd.read_csv('../../csv/주민등록.csv', \n",
    "                 encoding='CP949')"
   ]
  },
  {
   "cell_type": "code",
   "execution_count": null,
   "metadata": {},
   "outputs": [],
   "source": [
    "df.head()"
   ]
  },
  {
   "cell_type": "code",
   "execution_count": null,
   "metadata": {},
   "outputs": [],
   "source": [
    "## 엑셀 파일을 로드 \n",
    "## 추가적인 라이브러리 설치가 필요한 경우도 존재\n",
    "pd.read_excel(\"../../csv/2020/202001_expense_list.xlsx\")"
   ]
  },
  {
   "cell_type": "code",
   "execution_count": null,
   "metadata": {},
   "outputs": [],
   "source": [
    "## 엑셀 로드시 에러 발생 \n",
    "!pip install openpyxl"
   ]
  },
  {
   "cell_type": "code",
   "execution_count": null,
   "metadata": {},
   "outputs": [],
   "source": [
    "corona.head()"
   ]
  },
  {
   "cell_type": "code",
   "execution_count": null,
   "metadata": {},
   "outputs": [],
   "source": [
    "## 특정 컬럼을 제거 \n",
    "## drop() : 특정 인덱스나 특정 컬럼을 제거할때 사용\n",
    "## axis 매개변수 : 0(rows) -> 특정 행을 제거, 1(columns) -> 특정 열을 제거\n",
    "corona.drop('Unnamed: 0', axis=1, inplace=True)\n",
    "\n",
    "\n",
    "## 컬럼들의 이름을 출력 \n",
    "# corona.columns"
   ]
  },
  {
   "cell_type": "code",
   "execution_count": null,
   "metadata": {},
   "outputs": [],
   "source": [
    "## 데이터프레임에서 상위 5개의 데이터를 출력 \n",
    "## head(2) -> 상위 2개의 데이터를 출력\n",
    "## tail() -> 하위 5개의 데이터를 출력\n",
    "corona.head()"
   ]
  },
  {
   "cell_type": "code",
   "execution_count": null,
   "metadata": {},
   "outputs": [],
   "source": [
    "# 데이터프레임의 정보를 출력 \n",
    "# info()\n",
    "corona.info()"
   ]
  },
  {
   "cell_type": "code",
   "execution_count": null,
   "metadata": {},
   "outputs": [],
   "source": [
    "# isna() : 결측치의 유무를 참/거짓의 형태로 출력\n",
    "# sum()\n",
    "    # DataFrame Class에 내장된 함수 \n",
    "    # axis 매개변수 : 0(rows) -> 행의 값들의 합, 1(columns) : 열의 값들의 합\n",
    "corona.isna().sum(axis = 0)"
   ]
  },
  {
   "cell_type": "code",
   "execution_count": null,
   "metadata": {},
   "outputs": [],
   "source": [
    "# 통계요약 정보를 출력하는 함수 \n",
    "corona.describe()"
   ]
  },
  {
   "cell_type": "code",
   "execution_count": null,
   "metadata": {},
   "outputs": [],
   "source": [
    "## 데이터프레임에서 컬럼의 이름을 변경 \n",
    "## '등록일시', '총사망자', '총확진자', 게시글번호, '기준일', \n",
    "## '기준시간', '수정일시', '누적의심자', '누적확진율'\n",
    "\n",
    "# case1 (rename())\n",
    "corona.rename(\n",
    "    columns={\n",
    "        'createDt' : '등록일시', \n",
    "        'deathCnt' : '총사망자', \n",
    "        'decideCnt' : '총확진자', \n",
    "        'seq' : '게시글번호', \n",
    "        'stateDt' : '기준일', \n",
    "        'stateTime' : '기준시간', \n",
    "        'updateDt' : '수정일시', \n",
    "        'accExamCnt' : '누적의심자', \n",
    "        'accDefRate' : '누적확진율'\n",
    "    }\n",
    ")"
   ]
  },
  {
   "cell_type": "code",
   "execution_count": null,
   "metadata": {},
   "outputs": [],
   "source": [
    "# case2 (DataFrame 안에 있는 columns라는 변수의 데이터를 변경)\n",
    "corona.columns = ['등록일시', '총사망자', '총확진자', '게시글번호', \n",
    "                  '기준일', '기준시간', '수정일시', '누적의심자', \n",
    "                  '누적확진율']"
   ]
  },
  {
   "cell_type": "code",
   "execution_count": null,
   "metadata": {},
   "outputs": [],
   "source": [
    "corona.head(3)"
   ]
  },
  {
   "cell_type": "code",
   "execution_count": null,
   "metadata": {},
   "outputs": [],
   "source": [
    "## 데이터프레임에서 인덱스의 순서를 변경\n",
    "## sort_index() : 인덱스를 기준으로 정렬을 변경 \n",
    "## sort_values() : 컬럼의 데이터를 기준으로 정렬을 변경 \n",
    "## sort_xxx() : 기본적으로 오름차순정렬\n",
    "## ascending 매개변수 : True(기본값) -> 오름차순정렬, False -> 내림차순정렬\n",
    "corona.sort_values(\n",
    "    ['등록일시'], \n",
    "    ascending= True, \n",
    "    inplace=True\n",
    ")\n",
    "# corona = corona.sort_values(\n",
    "#     ['등록일시'], \n",
    "#     ascending= True\n",
    "# )"
   ]
  },
  {
   "cell_type": "code",
   "execution_count": null,
   "metadata": {},
   "outputs": [],
   "source": [
    "corona.head(3)"
   ]
  },
  {
   "cell_type": "code",
   "execution_count": null,
   "metadata": {},
   "outputs": [],
   "source": [
    "## 인덱스를 초기화\n",
    "# reset_index()\n",
    "# drop 매개변수 : False(기본값) -> 기존의 인덱스를 컬럼을 이동, \n",
    "#                 True : 기존의 인덱스를 제거\n",
    "corona.reset_index(drop=True, inplace=True)"
   ]
  },
  {
   "cell_type": "code",
   "execution_count": null,
   "metadata": {},
   "outputs": [],
   "source": [
    "corona.head()"
   ]
  },
  {
   "cell_type": "markdown",
   "metadata": {},
   "source": [
    "### 데이터프레임의 필터링\n",
    "- loc[ 인덱스의 조건식 , 컬럼의 조건식 ]\n",
    "    - 인덱스의 값이나 컬럼의 값을 기준으로 필터링 (df.loc[1, 'A'])\n",
    "    - 인덱스의 조건식이나 컬럼의 조건식을 기준으로 필터링\n",
    "- iloc[ 인덱스의 위치 , 컬럼의 위치 ]\n",
    "    - 인덱스의 위치, 컬럼의 위치를 기준으로 필터링 (df.iloc[2:4, 0:2])"
   ]
  },
  {
   "cell_type": "code",
   "execution_count": null,
   "metadata": {},
   "outputs": [],
   "source": [
    "# 인덱스 0의 컬럼 총사망자의 데이터를 출력\n",
    "corona.loc[0, '총사망자']"
   ]
  },
  {
   "cell_type": "code",
   "execution_count": null,
   "metadata": {},
   "outputs": [],
   "source": [
    "# 인덱스 1의 컬럼 총사망자의 데이터를 출력 \n",
    "corona.loc[1, '총사망자']"
   ]
  },
  {
   "cell_type": "code",
   "execution_count": null,
   "metadata": {},
   "outputs": [],
   "source": [
    "daily_data = corona.loc[1, '총사망자'] - corona.loc[0, '총사망자']"
   ]
  },
  {
   "cell_type": "code",
   "execution_count": null,
   "metadata": {},
   "outputs": [],
   "source": [
    "corona.loc[2, '총사망자'] - corona.loc[1, '총사망자']\n",
    "corona.loc[3, '총사망자'] - corona.loc[2, '총사망자']\n",
    "corona.loc[4, '총사망자'] - corona.loc[3, '총사망자']\n",
    "corona.loc[5, '총사망자'] - corona.loc[4, '총사망자']"
   ]
  },
  {
   "cell_type": "code",
   "execution_count": null,
   "metadata": {},
   "outputs": [],
   "source": [
    "# 위의 작업을 corona의 index의 개수 - 1 만큼 반복 실행\n",
    "data_list = [0]\n",
    "for i in range(len(corona) - 1):\n",
    "    daily_data = corona.loc[i+1, '총사망자'] - corona.loc[i, '총사망자']\n",
    "    data_list.append(daily_data)"
   ]
  },
  {
   "cell_type": "code",
   "execution_count": null,
   "metadata": {},
   "outputs": [],
   "source": [
    "# data_list.insert(0, 0)"
   ]
  },
  {
   "cell_type": "code",
   "execution_count": null,
   "metadata": {},
   "outputs": [],
   "source": [
    "data_list"
   ]
  },
  {
   "cell_type": "code",
   "execution_count": null,
   "metadata": {},
   "outputs": [],
   "source": [
    "corona['일일사망자'] = data_list"
   ]
  },
  {
   "cell_type": "code",
   "execution_count": null,
   "metadata": {},
   "outputs": [],
   "source": [
    "corona.head()"
   ]
  },
  {
   "cell_type": "code",
   "execution_count": null,
   "metadata": {},
   "outputs": [],
   "source": [
    "## shift(n) : 인덱스를 n만큼 이동 시킨다.\n",
    "corona['총사망자'].shift(1)"
   ]
  },
  {
   "cell_type": "code",
   "execution_count": null,
   "metadata": {},
   "outputs": [],
   "source": [
    "corona['총사망자'].values"
   ]
  },
  {
   "cell_type": "code",
   "execution_count": null,
   "metadata": {},
   "outputs": [],
   "source": [
    "import numpy as np"
   ]
  },
  {
   "cell_type": "code",
   "execution_count": null,
   "metadata": {},
   "outputs": [],
   "source": [
    "list1 = [1,2,3,4]\n",
    "list2 = [5,6,7,8]"
   ]
  },
  {
   "cell_type": "code",
   "execution_count": null,
   "metadata": {},
   "outputs": [],
   "source": [
    "list1 + list2"
   ]
  },
  {
   "cell_type": "code",
   "execution_count": null,
   "metadata": {},
   "outputs": [],
   "source": [
    "list3 = np.array(list1)\n",
    "list4 = np.array(list2)"
   ]
  },
  {
   "cell_type": "code",
   "execution_count": null,
   "metadata": {},
   "outputs": [],
   "source": [
    "list3 + list4"
   ]
  },
  {
   "cell_type": "code",
   "execution_count": null,
   "metadata": {},
   "outputs": [],
   "source": [
    "corona['일일사망자2'] = \\\n",
    "      corona['총사망자'] - corona['총사망자'].shift(1)"
   ]
  },
  {
   "cell_type": "code",
   "execution_count": null,
   "metadata": {},
   "outputs": [],
   "source": [
    "corona.head()"
   ]
  },
  {
   "cell_type": "code",
   "execution_count": null,
   "metadata": {},
   "outputs": [],
   "source": [
    "# diff(n) : 인덱스를 n만큼 이동한 데이터와의 차이값을 출력\n",
    "corona['일일사망자3'] = corona['총사망자'].diff(1)"
   ]
  },
  {
   "cell_type": "code",
   "execution_count": null,
   "metadata": {},
   "outputs": [],
   "source": [
    "corona.head()"
   ]
  },
  {
   "cell_type": "code",
   "execution_count": null,
   "metadata": {},
   "outputs": [],
   "source": [
    "## 결측치를 특정한 값을 대체\n",
    "## 채운다(fill) + 결측치(na) -> fillna()\n",
    "## fillna(data) : 결측치를 data로 치환\n",
    "## fillna(method =) : method 매개변수 -> 'ffill' : 전의 데이터로 치환\n",
    "#                                       'bfill' : 후의 데이터로 치환\n",
    "values = [\n",
    "    [1, 2, 3], \n",
    "    [5, np.nan, np.nan], \n",
    "    [np.nan, 8, 9]\n",
    "]\n",
    "df = pd.DataFrame(values, columns=['A', 'B', 'C'])"
   ]
  },
  {
   "cell_type": "code",
   "execution_count": null,
   "metadata": {},
   "outputs": [],
   "source": [
    "df['B'] = df['B'].fillna(method='ffill')"
   ]
  },
  {
   "cell_type": "code",
   "execution_count": null,
   "metadata": {},
   "outputs": [],
   "source": [
    "df['C'] = df['C'].fillna(method='bfill')"
   ]
  },
  {
   "cell_type": "code",
   "execution_count": null,
   "metadata": {},
   "outputs": [],
   "source": [
    "df.fillna(0)"
   ]
  },
  {
   "cell_type": "code",
   "execution_count": null,
   "metadata": {},
   "outputs": [],
   "source": [
    "## corona 데이터에서 일일사망자2, 일일사망자3에 결측치를 0으로 대체\n",
    "corona[ ['일일사망자2', '일일사망자3'] ] = \\\n",
    "    corona[ ['일일사망자2', '일일사망자3'] ].fillna(0)"
   ]
  },
  {
   "cell_type": "code",
   "execution_count": null,
   "metadata": {},
   "outputs": [],
   "source": [
    "corona.head()"
   ]
  },
  {
   "cell_type": "code",
   "execution_count": null,
   "metadata": {},
   "outputs": [],
   "source": [
    "corona.describe()"
   ]
  },
  {
   "cell_type": "code",
   "execution_count": null,
   "metadata": {},
   "outputs": [],
   "source": [
    "# loc[인덱스의 조건식(일일사망자의 데이터가 음수인), ]\n",
    "\n",
    "# 조건식 생성\n",
    "flag = corona['일일사망자'] < 0\n",
    "corona.loc[flag]"
   ]
  },
  {
   "cell_type": "code",
   "execution_count": null,
   "metadata": {},
   "outputs": [],
   "source": [
    "corona.iloc[444:449]"
   ]
  },
  {
   "cell_type": "code",
   "execution_count": null,
   "metadata": {},
   "outputs": [],
   "source": [
    "## 인덱스 445에 등록일시의 데이터를 수정 \n",
    "corona.loc[445, '등록일시'] = '2021-05-31 00:00:00.000'"
   ]
  },
  {
   "cell_type": "code",
   "execution_count": null,
   "metadata": {},
   "outputs": [],
   "source": [
    "corona.loc[444:446]"
   ]
  },
  {
   "cell_type": "markdown",
   "metadata": {},
   "source": [
    "1. 일일사망자, 일일사망자2, 일일사망자3 컬럼을 제거 \n",
    "2. 등록일시를 기준으로 오름차순 정렬\n",
    "3. 인덱스를 초기화\n",
    "4. shift()함수를 이용하여 일일사망자 파생변수 생성\n",
    "5. diff()함수를 이용하여 일일확진자 파생변수 생성\n",
    "6. 일일사망자와 일일확진자의 음수가 존재하는지 확인"
   ]
  },
  {
   "cell_type": "markdown",
   "metadata": {},
   "source": []
  }
 ],
 "metadata": {
  "kernelspec": {
   "display_name": "Python 3",
   "language": "python",
   "name": "python3"
  },
  "language_info": {
   "codemirror_mode": {
    "name": "ipython",
    "version": 3
   },
   "file_extension": ".py",
   "mimetype": "text/x-python",
   "name": "python",
   "nbconvert_exporter": "python",
   "pygments_lexer": "ipython3",
   "version": "3.11.1"
  }
 },
 "nbformat": 4,
 "nbformat_minor": 2
}
