{
 "cells": [
  {
   "cell_type": "code",
   "execution_count": null,
   "metadata": {},
   "outputs": [],
   "source": [
    "## 라이브러리 로드 \n",
    "import pandas as pd"
   ]
  },
  {
   "cell_type": "code",
   "execution_count": null,
   "metadata": {},
   "outputs": [],
   "source": [
    "## 1차원 데이터 형인 Series를 생성 \n",
    "pd_series = pd.Series(\n",
    "    [5000, 6000, 6500, 6500]\n",
    ")"
   ]
  },
  {
   "cell_type": "code",
   "execution_count": null,
   "metadata": {},
   "outputs": [],
   "source": [
    "print(pd_series)"
   ]
  },
  {
   "cell_type": "code",
   "execution_count": null,
   "metadata": {},
   "outputs": [],
   "source": [
    "pd_series2 = pd.Series(\n",
    "    [5000, 6000, 6500, 6500], \n",
    "    index = ['아메리카노', '카페라떼', '카페모카', '카푸치노']\n",
    ")"
   ]
  },
  {
   "cell_type": "code",
   "execution_count": null,
   "metadata": {},
   "outputs": [],
   "source": [
    "pd_series2"
   ]
  },
  {
   "cell_type": "code",
   "execution_count": null,
   "metadata": {},
   "outputs": [],
   "source": [
    "# Series 형태의 데이터(Class)는 내부에 적어도 2개의 변수\n",
    "# values, index\n",
    "print('Series의 values = ', pd_series2.values)\n",
    "print('Series의 index = ', pd_series2.index)"
   ]
  },
  {
   "cell_type": "code",
   "execution_count": null,
   "metadata": {},
   "outputs": [],
   "source": [
    "pd_series.index = ['아메리카노', '카페라떼', '카페모카', '카푸치노']"
   ]
  },
  {
   "cell_type": "code",
   "execution_count": null,
   "metadata": {},
   "outputs": [],
   "source": [
    "pd_series"
   ]
  },
  {
   "cell_type": "code",
   "execution_count": null,
   "metadata": {},
   "outputs": [],
   "source": [
    "values = [\n",
    "    [1,2,6], \n",
    "    [3,4,1], \n",
    "    [6,8,3]\n",
    "]\n",
    "df = pd.DataFrame(values)"
   ]
  },
  {
   "cell_type": "code",
   "execution_count": null,
   "metadata": {},
   "outputs": [],
   "source": [
    "df"
   ]
  },
  {
   "cell_type": "code",
   "execution_count": null,
   "metadata": {},
   "outputs": [],
   "source": [
    "## 데이터프레임에는 적어도 3개의 변수가 존재\n",
    "print('데이터프레임의 values = ', df.values)\n",
    "print('데이터프레임의 index = ', df.index)\n",
    "print('데이터프레임의 columns = ', df.columns)"
   ]
  },
  {
   "cell_type": "code",
   "execution_count": null,
   "metadata": {},
   "outputs": [],
   "source": [
    "# 컬럼의 이름을 변경 \n",
    "df.columns = ['A', 'B', 'C']"
   ]
  },
  {
   "cell_type": "code",
   "execution_count": null,
   "metadata": {},
   "outputs": [],
   "source": [
    "df"
   ]
  },
  {
   "cell_type": "code",
   "execution_count": 23,
   "metadata": {},
   "outputs": [],
   "source": [
    "## 특정 컬럼의 이름이나 특정 인덱스의 이름을 변경하려면\n",
    "# rename()\n",
    "# index 매개변수 : 딕셔너리형태 인자값을 사용 {기준이되는 인덱스 : 변경할 인덱스 값}\n",
    "# columns 매개변수 : 딕셔너리형태 인자값을 사용 {기준이되는 컬럼 : 변경할 컬럼 값}\n",
    "# inplace 매개변수 : bool형 인자값을 사용(False(기본값): 데이터를 변경하지 않는다., True : 데이터를 변경한다.)\n",
    "# df.rename(\n",
    "#     columns= {'B': 'F'}, \n",
    "#     index = {2 : 5}, \n",
    "#     inplace=True\n",
    "# )\n",
    "df = df.rename(\n",
    "    columns= {'B': 'F'}, \n",
    "    index = {2 : 5}\n",
    ")"
   ]
  },
  {
   "cell_type": "code",
   "execution_count": null,
   "metadata": {},
   "outputs": [],
   "source": [
    "df"
   ]
  },
  {
   "cell_type": "code",
   "execution_count": 30,
   "metadata": {},
   "outputs": [],
   "source": [
    "df2 = df.copy()"
   ]
  },
  {
   "cell_type": "code",
   "execution_count": 31,
   "metadata": {},
   "outputs": [],
   "source": [
    "df2.rename(\n",
    "    columns = {\n",
    "        'A' : 'X', \n",
    "        'C' : 'Y'\n",
    "    },\n",
    "    inplace = True\n",
    ")"
   ]
  },
  {
   "cell_type": "code",
   "execution_count": 29,
   "metadata": {},
   "outputs": [
    {
     "name": "stdout",
     "output_type": "stream",
     "text": [
      "None\n"
     ]
    }
   ],
   "source": [
    "print(df2)"
   ]
  },
  {
   "cell_type": "markdown",
   "metadata": {},
   "source": [
    "#### 외부의 데이터 파일을 로드 \n",
    "- csv, tsv\n",
    "    - read_csv(파일의 경로)\n",
    "- json\n",
    "    - read_json(파일의 경로)\n",
    "- excel(xls, xlsx)\n",
    "    - read_excel(파일의 경로)\n",
    "    - 추가로 라이브러리(readxl)를 설치해야되는 상황\n",
    "- xml\n",
    "    - read_xml(파일의 경로)\n",
    "- html\n",
    "    - read_html(html로 이루어진 문자형데이터)\n",
    "    - 웹 구조 중 table로 이루어진 태그를 DataFrame 변경\n",
    "- 매개변수 \n",
    "    - encoding\n",
    "        - 데이터 중 한글이 존재할때 encoding error가 발생 할수 있다. \n",
    "        - 기본 encoding은 UTF-8\n",
    "        - 'CP949', 'EUC-KR'형태로 변경하면 한글 데이터 로드 "
   ]
  },
  {
   "cell_type": "code",
   "execution_count": 33,
   "metadata": {},
   "outputs": [],
   "source": [
    "## 외부의 csv 파일 로드 \n",
    "## 절대 경로 파일 로드 \n",
    "corona = pd.read_csv(r'C:\\Users\\moons\\Documents\\GitHub\\ubion_m_5\\csv\\corona.csv')"
   ]
  },
  {
   "cell_type": "code",
   "execution_count": null,
   "metadata": {},
   "outputs": [],
   "source": []
  }
 ],
 "metadata": {
  "kernelspec": {
   "display_name": "Python 3",
   "language": "python",
   "name": "python3"
  },
  "language_info": {
   "codemirror_mode": {
    "name": "ipython",
    "version": 3
   },
   "file_extension": ".py",
   "mimetype": "text/x-python",
   "name": "python",
   "nbconvert_exporter": "python",
   "pygments_lexer": "ipython3",
   "version": "3.11.1"
  }
 },
 "nbformat": 4,
 "nbformat_minor": 2
}
