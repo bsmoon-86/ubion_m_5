{
 "cells": [
  {
   "cell_type": "markdown",
   "metadata": {},
   "source": [
    "## 특정 경로에 있는 파일의 목록을 로드 \n",
    "1. 일반적으로 방법 -> 상대경로, 절대경로를 이용해서 파일을 하나씩 로드 \n",
    "2. 특정 경로에 있는 파일의 목록(list)을 기준으로 데이터 로드 \n",
    "    - os 라이브러리 이용하는 방법\n",
    "    - glob 라이브러리 이용하는 방법\n",
    "3. 파일의 목록을 기준으로 데이터를 for문을 이용해서 로드"
   ]
  },
  {
   "cell_type": "code",
   "execution_count": null,
   "metadata": {},
   "outputs": [],
   "source": [
    "import os\n",
    "import glob\n",
    "import pandas as pd"
   ]
  },
  {
   "cell_type": "code",
   "execution_count": null,
   "metadata": {},
   "outputs": [],
   "source": [
    "## csv 폴더 안에 있는 2017 폴더에 있는 데이터들을 로드\n",
    "\n",
    "# os 라이브러리를 이용하여 파일의 목록을 불러온다. \n",
    "# 목록(list) + 파일의 목록을 보는 명령어(dir)\n",
    "os.listdir(\"../../csv/2017\")"
   ]
  },
  {
   "cell_type": "code",
   "execution_count": null,
   "metadata": {},
   "outputs": [],
   "source": [
    "# 파일 목록을 로드할 경로를 변수에 저장 \n",
    "file_path = \"../../csv/2017/\"\n",
    "file_list = os.listdir(file_path)\n",
    "# file_list"
   ]
  },
  {
   "cell_type": "code",
   "execution_count": null,
   "metadata": {},
   "outputs": [],
   "source": [
    "pd.read_csv(file_path + file_list[0])"
   ]
  },
  {
   "cell_type": "code",
   "execution_count": null,
   "metadata": {},
   "outputs": [],
   "source": [
    "result = pd.DataFrame()\n",
    "result"
   ]
  },
  {
   "cell_type": "code",
   "execution_count": null,
   "metadata": {},
   "outputs": [],
   "source": [
    "for file in file_list:\n",
    "    df = pd.read_csv(file_path + file)\n",
    "    # result와 df를 유니언 결합하여 result 담아준다. \n",
    "    result = pd.concat([result, df], axis=0, \n",
    "                       ignore_index=True)"
   ]
  },
  {
   "cell_type": "code",
   "execution_count": null,
   "metadata": {},
   "outputs": [],
   "source": [
    "result.info()"
   ]
  },
  {
   "cell_type": "code",
   "execution_count": null,
   "metadata": {},
   "outputs": [],
   "source": [
    "## csv 폴더 안에 있는 2019폴더에 파일들을 모두 로드하여 \n",
    "## 하나의 데이터프레임으로 결합\n",
    "result_2019 = pd.DataFrame()\n",
    "file_path = \"../../csv/2019/\"\n",
    "file_list = os.listdir(file_path)\n",
    "file_list"
   ]
  },
  {
   "cell_type": "code",
   "execution_count": null,
   "metadata": {},
   "outputs": [],
   "source": [
    "# json 확장자 파일을 로드 \n",
    "# read_json()\n",
    "for file in file_list:\n",
    "    df = pd.read_json(file_path + file)\n",
    "    result_2019 = pd.concat([result_2019, df], \n",
    "                            axis=0, ignore_index=True)\n"
   ]
  },
  {
   "cell_type": "code",
   "execution_count": null,
   "metadata": {},
   "outputs": [],
   "source": [
    "result_2019.info()"
   ]
  },
  {
   "cell_type": "code",
   "execution_count": null,
   "metadata": {},
   "outputs": [],
   "source": [
    "## 2021폴더를 확인\n",
    "file_path = \"../../csv/2021/\"\n",
    "file_list = os.listdir(file_path)\n",
    "file_list"
   ]
  },
  {
   "cell_type": "code",
   "execution_count": null,
   "metadata": {},
   "outputs": [],
   "source": [
    "file_list[0].split('.')[-1] == 'csv'"
   ]
  },
  {
   "cell_type": "code",
   "execution_count": null,
   "metadata": {},
   "outputs": [],
   "source": [
    "file_list[0].endswith('csv')"
   ]
  },
  {
   "cell_type": "code",
   "execution_count": null,
   "metadata": {},
   "outputs": [],
   "source": [
    "file_name, file_end = os.path.splitext(file_list[0])"
   ]
  },
  {
   "cell_type": "code",
   "execution_count": null,
   "metadata": {},
   "outputs": [],
   "source": [
    "file_end"
   ]
  },
  {
   "cell_type": "code",
   "execution_count": null,
   "metadata": {},
   "outputs": [],
   "source": [
    "result_2021 = pd.DataFrame()\n",
    "\n",
    "# 확장자를 선택해서 해당하는 확장자만 result_2021에 결합\n",
    "for file in file_list:\n",
    "    # excel 파일인 경우에만 result_2021에 결합\n",
    "    if file.split(\".\")[-1] in ['xlsx', 'xls']:\n",
    "        df = pd.read_excel(file_path + file)\n",
    "        result_2021 = pd.concat([result_2021, df], \n",
    "                                axis=0, ignore_index=True)\n"
   ]
  },
  {
   "cell_type": "code",
   "execution_count": null,
   "metadata": {},
   "outputs": [],
   "source": [
    "result_2021.info()"
   ]
  },
  {
   "cell_type": "code",
   "execution_count": null,
   "metadata": {},
   "outputs": [],
   "source": [
    "## 2021 폴더에 있는 파일들을 각각 다른 변수에 저장 \n",
    "file_path = \"../../csv/2021/\"\n",
    "file_list = os.listdir(file_path)\n",
    "\n",
    "for file in file_list:\n",
    "    # 사용할 변수의 이름 \n",
    "    name, end = os.path.splitext(file)\n",
    "    # end에 있는 .을 제거 \n",
    "    end = end[1:]\n",
    "    # print(end[1:])\n",
    "    # print(end.lstrip('.'))\n",
    "    # print(end.replace('.', ''))\n",
    "    if end == 'csv':\n",
    "        df = pd.read_csv(file_path + file)\n",
    "    elif end == 'json':\n",
    "        df = pd.read_json(file_path + file)\n",
    "    elif end == 'xml':\n",
    "        df = pd.read_xml(file_path + file)\n",
    "    elif end in ['xlsx', 'xls']:\n",
    "        df = pd.read_excel(file_path + file)\n",
    "    else:\n",
    "        continue\n",
    "    globals()[f\"{name}_{end}\"] = df.copy()"
   ]
  },
  {
   "cell_type": "code",
   "execution_count": null,
   "metadata": {},
   "outputs": [],
   "source": [
    "# lxml error 발생시 \n",
    "!pip install lxml"
   ]
  },
  {
   "cell_type": "code",
   "execution_count": null,
   "metadata": {},
   "outputs": [],
   "source": [
    "globals()['202101_expense_list_csv']"
   ]
  },
  {
   "cell_type": "code",
   "execution_count": null,
   "metadata": {},
   "outputs": [],
   "source": [
    "## 지정된 경로에 파일들을 하나의 데이터프레임으로 \n",
    "# 결합하여 되돌려주는 함수 생성\n",
    "# 매개변수? -> 경로, 확장자명\n",
    "def data_load(_path, _end = 'csv'):\n",
    "    # _path : 파일의 경로\n",
    "    # _end : 파일의 확장자명\n",
    "\n",
    "    # 유저가 입력한 경로를 이용하여 파일의 리스트를 변수에 저장\n",
    "    file_list = os.listdir(_path)\n",
    "    # 비어있는 데이터프레임을 생성 \n",
    "    result = pd.DataFrame()\n",
    "    _path = _path + '/'\n",
    "    for file in file_list:\n",
    "        # file -> 파일명\n",
    "        # 파일명의 확장자가 유저가 입력한 확장자와 같다면\n",
    "        if file.endswith(_end):\n",
    "            if _end == 'csv':\n",
    "                df = pd.read_csv(_path + file)\n",
    "            elif _end == 'json':\n",
    "                df = pd.read_json(_path + file)\n",
    "            elif _end == 'xml':\n",
    "                df = pd.read_xml(_path + file)\n",
    "            elif _end in ['xlsx', 'xls']:\n",
    "                df = pd.read_excel(_path + file)\n",
    "            else:\n",
    "                return '지원하는 확장자가 아닙니다.'\n",
    "            # df를 result에 유니언 결합 \n",
    "            result = pd.concat([result, df], \n",
    "                               axis=0, ignore_index=True)\n",
    "    return result    "
   ]
  },
  {
   "cell_type": "code",
   "execution_count": null,
   "metadata": {},
   "outputs": [],
   "source": [
    "data_load(r'C:\\Users\\moons\\Documents\\GitHub\\ubion_m_5\\csv\\2018')"
   ]
  },
  {
   "cell_type": "code",
   "execution_count": null,
   "metadata": {},
   "outputs": [],
   "source": [
    "data_load('../../csv/2021/', 'json')"
   ]
  },
  {
   "cell_type": "code",
   "execution_count": null,
   "metadata": {},
   "outputs": [],
   "source": [
    "## os 라이브러리 이용하여 파일을 목록 \n",
    "print(\n",
    "    os.listdir('../../csv/2021/')\n",
    ")\n",
    "## glob 라이브러리 이용하여 파일의 목록\n",
    "print(\n",
    "    glob.glob(\"../../csv/2021/*.csv\")\n",
    ")"
   ]
  },
  {
   "cell_type": "code",
   "execution_count": null,
   "metadata": {},
   "outputs": [],
   "source": [
    "file_list = glob.glob(\"../../csv/num_3/*.csv\")\n",
    "file_list"
   ]
  },
  {
   "cell_type": "code",
   "execution_count": 17,
   "metadata": {},
   "outputs": [
    {
     "name": "stdout",
     "output_type": "stream",
     "text": [
      "campaign_master\n",
      "class_master\n",
      "customer_master\n",
      "use_log\n"
     ]
    }
   ],
   "source": [
    "for file in file_list:\n",
    "    # print(file)\n",
    "    # df = pd.read_csv(file)\n",
    "    ## 경로와 파일을 나눠준다. \n",
    "    folder, name = os.path.split(file)\n",
    "    # print(folder, \"  \" ,name)\n",
    "    head, tail = os.path.splitext(name)\n",
    "    print(head)\n",
    "    globals()[f\"{head}\"] = pd.read_csv(file)\n",
    "    ## 첫번째 반복 : head -> campaign_master, tail -> .csv\n",
    "    ##              f\"{head}\" -> \"campaign_master\", globals()['campaign_master']\n",
    "    ##              campaign_master = pd.read_csv(\"../../csv/num_3/campaign_master.csv\")\n",
    "    ## 두번째 반복 : head -> class_master, tail -> .csv\n",
    "    ##              f\"{head}\" -> \"class_master\", globals()['class_master']\n",
    "    ##              class_master = pd.read_csv('../../csv/num_3/class_master.csv')\n",
    "# df"
   ]
  },
  {
   "cell_type": "code",
   "execution_count": null,
   "metadata": {},
   "outputs": [],
   "source": [
    "use_log"
   ]
  },
  {
   "cell_type": "code",
   "execution_count": null,
   "metadata": {},
   "outputs": [],
   "source": [
    "campaign_master"
   ]
  },
  {
   "cell_type": "code",
   "execution_count": 21,
   "metadata": {},
   "outputs": [],
   "source": [
    "## 특정 경로에 있는 파일의 목록들을 각각 파일의 이름으로 전역변수를 생성하여 저장하는 함수 생성\n",
    "## 매개변수 : 경로\n",
    "def data_load2(_path):\n",
    "    # 입력받은 경로를 기준으로 파일의 목록을 모두 로드한다. \n",
    "    file_list = glob.glob(_path + \"/*.*\")\n",
    "    # 반복 실행 file_list를 이용하여\n",
    "    for file in file_list:\n",
    "        # 경로와 파일명을 나눠준다. \n",
    "        folder, name = os.path.split(file)\n",
    "        # 파일명에서 이름과 확장자를 나눠준다. \n",
    "        head, tail = os.path.splitext(name)\n",
    "        # tail의 형태는? \".확장자\"\n",
    "        if tail == '.csv':\n",
    "            df = pd.read_csv(file)\n",
    "        elif tail == '.json':\n",
    "            df = pd.read_json(file)\n",
    "        elif tail == '.xml':\n",
    "            df = pd.read_xml(file)\n",
    "        elif tail in ['.xlsx', '.xls']:\n",
    "            df = pd.read_excel(file)\n",
    "        else:\n",
    "            print('지원하지 않는 확장자 파일')\n",
    "            continue\n",
    "        globals()[f\"{head}\"] = df.copy()\n",
    "        print(f\"{head} 전역변수 저장 완료\")\n",
    "    return \"파일의 목록 저장 완료\""
   ]
  },
  {
   "cell_type": "code",
   "execution_count": 22,
   "metadata": {},
   "outputs": [
    {
     "name": "stdout",
     "output_type": "stream",
     "text": [
      "campaign_master 전역변수 저장 완료\n",
      "class_master 전역변수 저장 완료\n",
      "customer_master 전역변수 저장 완료\n",
      "use_log 전역변수 저장 완료\n"
     ]
    },
    {
     "data": {
      "text/plain": [
       "'파일의 목록 저장 완료'"
      ]
     },
     "execution_count": 22,
     "metadata": {},
     "output_type": "execute_result"
    }
   ],
   "source": [
    "data_load2(\"../../csv/num_3\")"
   ]
  },
  {
   "cell_type": "code",
   "execution_count": 24,
   "metadata": {},
   "outputs": [],
   "source": [
    "## 파일을 데이터프레임으로 로드하는 함수를 하나 생성 \n",
    "## 매개변수 2개 : 상대경로 | 절대경로, enconding = 'utf-8'\n",
    "def read_df(_path, _encoding='utf-8'):\n",
    "    # 입력받은 데이터에서 확장자를 분리해준다. \n",
    "    head, tail = os.path.splitext(_path)\n",
    "    print(tail)\n",
    "    if tail == '.csv':\n",
    "        df = pd.read_csv(_path, encoding=_encoding)\n",
    "    elif tail == '.json':\n",
    "        df = pd.read_json(_path, encoding=_encoding)\n",
    "    elif tail == '.xml':\n",
    "        df = pd.read_xml(_path, encoding=_encoding)\n",
    "    elif tail in ['.xlsx', '.xls']:\n",
    "        df = pd.read_excel(_path)\n",
    "    else:\n",
    "        df = pd.DataFrame()\n",
    "    return df"
   ]
  },
  {
   "cell_type": "code",
   "execution_count": 25,
   "metadata": {},
   "outputs": [
    {
     "name": "stdout",
     "output_type": "stream",
     "text": [
      ".csv\n"
     ]
    },
    {
     "data": {
      "text/html": [
       "<div>\n",
       "<style scoped>\n",
       "    .dataframe tbody tr th:only-of-type {\n",
       "        vertical-align: middle;\n",
       "    }\n",
       "\n",
       "    .dataframe tbody tr th {\n",
       "        vertical-align: top;\n",
       "    }\n",
       "\n",
       "    .dataframe thead th {\n",
       "        text-align: right;\n",
       "    }\n",
       "</style>\n",
       "<table border=\"1\" class=\"dataframe\">\n",
       "  <thead>\n",
       "    <tr style=\"text-align: right;\">\n",
       "      <th></th>\n",
       "      <th>구분</th>\n",
       "      <th>사고(건)</th>\n",
       "      <th>사망(명)</th>\n",
       "      <th>부상(명)</th>\n",
       "    </tr>\n",
       "  </thead>\n",
       "  <tbody>\n",
       "    <tr>\n",
       "      <th>0</th>\n",
       "      <td>2014년1월</td>\n",
       "      <td>169</td>\n",
       "      <td>7</td>\n",
       "      <td>347</td>\n",
       "    </tr>\n",
       "    <tr>\n",
       "      <th>1</th>\n",
       "      <td>2014년2월</td>\n",
       "      <td>145</td>\n",
       "      <td>3</td>\n",
       "      <td>268</td>\n",
       "    </tr>\n",
       "    <tr>\n",
       "      <th>2</th>\n",
       "      <td>2014년3월</td>\n",
       "      <td>206</td>\n",
       "      <td>12</td>\n",
       "      <td>358</td>\n",
       "    </tr>\n",
       "    <tr>\n",
       "      <th>3</th>\n",
       "      <td>2014년4월</td>\n",
       "      <td>182</td>\n",
       "      <td>4</td>\n",
       "      <td>360</td>\n",
       "    </tr>\n",
       "    <tr>\n",
       "      <th>4</th>\n",
       "      <td>2014년5월</td>\n",
       "      <td>218</td>\n",
       "      <td>17</td>\n",
       "      <td>474</td>\n",
       "    </tr>\n",
       "    <tr>\n",
       "      <th>5</th>\n",
       "      <td>2014년6월</td>\n",
       "      <td>233</td>\n",
       "      <td>13</td>\n",
       "      <td>457</td>\n",
       "    </tr>\n",
       "    <tr>\n",
       "      <th>6</th>\n",
       "      <td>2014년7월</td>\n",
       "      <td>229</td>\n",
       "      <td>14</td>\n",
       "      <td>431</td>\n",
       "    </tr>\n",
       "    <tr>\n",
       "      <th>7</th>\n",
       "      <td>2014년8월</td>\n",
       "      <td>222</td>\n",
       "      <td>9</td>\n",
       "      <td>447</td>\n",
       "    </tr>\n",
       "    <tr>\n",
       "      <th>8</th>\n",
       "      <td>2014년9월</td>\n",
       "      <td>225</td>\n",
       "      <td>15</td>\n",
       "      <td>430</td>\n",
       "    </tr>\n",
       "    <tr>\n",
       "      <th>9</th>\n",
       "      <td>2014년10월</td>\n",
       "      <td>210</td>\n",
       "      <td>14</td>\n",
       "      <td>392</td>\n",
       "    </tr>\n",
       "    <tr>\n",
       "      <th>10</th>\n",
       "      <td>2014년11월</td>\n",
       "      <td>209</td>\n",
       "      <td>10</td>\n",
       "      <td>386</td>\n",
       "    </tr>\n",
       "    <tr>\n",
       "      <th>11</th>\n",
       "      <td>2014년12월</td>\n",
       "      <td>178</td>\n",
       "      <td>12</td>\n",
       "      <td>329</td>\n",
       "    </tr>\n",
       "  </tbody>\n",
       "</table>\n",
       "</div>"
      ],
      "text/plain": [
       "          구분  사고(건)  사망(명)  부상(명)\n",
       "0    2014년1월    169      7    347\n",
       "1    2014년2월    145      3    268\n",
       "2    2014년3월    206     12    358\n",
       "3    2014년4월    182      4    360\n",
       "4    2014년5월    218     17    474\n",
       "5    2014년6월    233     13    457\n",
       "6    2014년7월    229     14    431\n",
       "7    2014년8월    222      9    447\n",
       "8    2014년9월    225     15    430\n",
       "9   2014년10월    210     14    392\n",
       "10  2014년11월    209     10    386\n",
       "11  2014년12월    178     12    329"
      ]
     },
     "execution_count": 25,
     "metadata": {},
     "output_type": "execute_result"
    }
   ],
   "source": [
    "read_df(\"../../csv/2014.csv\", 'cp949')"
   ]
  }
 ],
 "metadata": {
  "kernelspec": {
   "display_name": "Python 3",
   "language": "python",
   "name": "python3"
  },
  "language_info": {
   "codemirror_mode": {
    "name": "ipython",
    "version": 3
   },
   "file_extension": ".py",
   "mimetype": "text/x-python",
   "name": "python",
   "nbconvert_exporter": "python",
   "pygments_lexer": "ipython3",
   "version": "3.11.1"
  }
 },
 "nbformat": 4,
 "nbformat_minor": 2
}
