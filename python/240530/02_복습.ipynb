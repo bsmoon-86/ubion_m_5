{
 "cells": [
  {
   "cell_type": "markdown",
   "metadata": {},
   "source": [
    "### 복습 \n",
    "1. csv 폴더 안에 있는 superstore.xlsx 파일을 로드 \n",
    "    - Orders 시트 로드 \n",
    "    - Returns 시트 로드 \n",
    "2. 1번 과정에서 로드한 두개의 데이터프레임을 조인 결합(left)\n",
    "3. Row ID를 인덱스로 변경 \n",
    "4. 컬럼의 이름을 변경 \n",
    "    - [주문번호, 주문일자, 배송일자, 배송종류, 고객번호, 고객이름, 고객종류, 국가, 지역, 시/도, 시/군/구, 제품번호, 제품명, 분류1, 분류2, 매출, 개수, 할인율, 수익, 반품여부]\n",
    "5. 새로운 파생변수 생성 (수익율)\n",
    "    - 수익 / 매출 * 100\n",
    "6. csv 파일로 저장 (superstore.csv)"
   ]
  },
  {
   "cell_type": "code",
   "execution_count": null,
   "metadata": {},
   "outputs": [],
   "source": [
    "import pandas as pd"
   ]
  },
  {
   "cell_type": "code",
   "execution_count": null,
   "metadata": {},
   "outputs": [],
   "source": [
    "# excel 파일에서 첫 번째 시트를 로드 \n",
    "order_df = pd.read_excel(\"../../csv/Superstore KR - VizLab 2022.xlsx\", sheet_name=0)\n",
    "# excel 파일에서 특정 이름의 시트를 로드 \n",
    "return_df = pd.read_excel(\"../../csv/Superstore KR - VizLab 2022.xlsx\", sheet_name='Returns')\n",
    "# excel 파일에서 모든 시트를 로드 \n",
    "dfs = pd.read_excel(\"../../csv/Superstore KR - VizLab 2022.xlsx\" , sheet_name=None)"
   ]
  },
  {
   "cell_type": "code",
   "execution_count": null,
   "metadata": {},
   "outputs": [],
   "source": [
    "print(type(order_df))\n",
    "print(type(return_df))\n",
    "print(type(dfs))"
   ]
  },
  {
   "cell_type": "code",
   "execution_count": null,
   "metadata": {},
   "outputs": [],
   "source": [
    "dfs['Orders']"
   ]
  },
  {
   "cell_type": "code",
   "execution_count": null,
   "metadata": {},
   "outputs": [],
   "source": [
    "order_df.head(1)"
   ]
  },
  {
   "cell_type": "code",
   "execution_count": null,
   "metadata": {},
   "outputs": [],
   "source": [
    "return_df.head()"
   ]
  },
  {
   "cell_type": "code",
   "execution_count": null,
   "metadata": {},
   "outputs": [],
   "source": [
    "total_df = pd.merge(order_df, return_df, on='Order ID', how='left')"
   ]
  },
  {
   "cell_type": "code",
   "execution_count": null,
   "metadata": {},
   "outputs": [],
   "source": [
    "total_df.head(1)"
   ]
  },
  {
   "cell_type": "code",
   "execution_count": null,
   "metadata": {},
   "outputs": [],
   "source": [
    "# 인덱스를 Row ID로 변경 \n",
    "total_df.set_index(['Row ID'], inplace=True)"
   ]
  },
  {
   "cell_type": "code",
   "execution_count": null,
   "metadata": {},
   "outputs": [],
   "source": [
    "#  컬럼의 이름을 변경 \n",
    "total_df.columns = ['주문번호', '주문일자', '배송일자', '배송종류', '고객번호', '고객이름',\n",
    "                    '고객종류', '국가', '지역', '시/도', '시/군/구', '제품번호', '제품명', \n",
    "                    '분류1', '분류2', '매출', '개수', '할인율', '수익', '반품유무']"
   ]
  },
  {
   "cell_type": "code",
   "execution_count": null,
   "metadata": {},
   "outputs": [],
   "source": [
    "total_df.head(1)"
   ]
  },
  {
   "cell_type": "code",
   "execution_count": null,
   "metadata": {},
   "outputs": [],
   "source": [
    "total_df['수익율'] = total_df['수익'] / total_df['매출'] * 100"
   ]
  },
  {
   "cell_type": "code",
   "execution_count": null,
   "metadata": {},
   "outputs": [],
   "source": [
    "total_df.head()"
   ]
  },
  {
   "cell_type": "code",
   "execution_count": 34,
   "metadata": {},
   "outputs": [],
   "source": [
    "# 파일로 저장 \n",
    "total_df.to_csv('./superstore.csv')"
   ]
  }
 ],
 "metadata": {
  "kernelspec": {
   "display_name": "Python 3",
   "language": "python",
   "name": "python3"
  },
  "language_info": {
   "codemirror_mode": {
    "name": "ipython",
    "version": 3
   },
   "file_extension": ".py",
   "mimetype": "text/x-python",
   "name": "python",
   "nbconvert_exporter": "python",
   "pygments_lexer": "ipython3",
   "version": "3.11.1"
  }
 },
 "nbformat": 4,
 "nbformat_minor": 2
}
