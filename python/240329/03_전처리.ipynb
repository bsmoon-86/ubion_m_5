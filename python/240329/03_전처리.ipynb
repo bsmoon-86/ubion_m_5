{
 "cells": [
  {
   "cell_type": "markdown",
   "metadata": {},
   "source": [
    "## 범주형 데이터 처리 \n",
    "- 범주형 데이터는 일반적인 모델링 수학적 연산형 모델링 다수가 존재한다. 이런 경우 범주형 데이터가 사용이 불가능하기때문에 특별하게 처리 \n",
    "- 더미변수를 생성 \n",
    "- 더미변수 -> 범주형 데이터들을 각각 컬럼으로 생성 -> 해당 범주에 속하는지를 False(0)과 True(1)표현 "
   ]
  },
  {
   "cell_type": "code",
   "execution_count": null,
   "metadata": {},
   "outputs": [],
   "source": [
    "import pandas as pd\n",
    "from sklearn.datasets import load_wine"
   ]
  },
  {
   "cell_type": "code",
   "execution_count": null,
   "metadata": {},
   "outputs": [],
   "source": [
    "wine_load = load_wine()"
   ]
  },
  {
   "cell_type": "code",
   "execution_count": null,
   "metadata": {},
   "outputs": [],
   "source": [
    "wine = pd.DataFrame(wine_load['data'], \n",
    "                    columns=wine_load['feature_names'])\n",
    "wine.head()"
   ]
  },
  {
   "cell_type": "code",
   "execution_count": null,
   "metadata": {},
   "outputs": [],
   "source": [
    "wine['Class'] = wine_load['target']\n",
    "wine['Class']"
   ]
  },
  {
   "cell_type": "code",
   "execution_count": null,
   "metadata": {},
   "outputs": [],
   "source": [
    "# Class 컬럼의 데이터들을 변경 \n",
    "wine['Class'] = wine['Class'].map(\n",
    "    {\n",
    "        0 : 'class_0', \n",
    "        1 : 'class_1', \n",
    "        2 : 'class_2'\n",
    "    }\n",
    ")\n",
    "wine['Class'].value_counts()"
   ]
  },
  {
   "cell_type": "code",
   "execution_count": null,
   "metadata": {},
   "outputs": [],
   "source": [
    "## Class 컬럼의 데이터들을 더미변수로 생성 \n",
    "## get + dummies -> get_dummies()\n",
    "wine_dummy = pd.get_dummies(wine, columns=['Class'])"
   ]
  },
  {
   "cell_type": "code",
   "execution_count": null,
   "metadata": {},
   "outputs": [],
   "source": [
    "wine_dummy.head()"
   ]
  },
  {
   "cell_type": "code",
   "execution_count": null,
   "metadata": {},
   "outputs": [],
   "source": [
    "wine_dummy['Class_class_1'].value_counts()"
   ]
  },
  {
   "cell_type": "markdown",
   "metadata": {},
   "source": [
    "### 데이터의 분할\n",
    "- 분석 모델을 학습하고 성과를 확인하기 위해 데이터를 train, test 세트로 나누고 독립변수와 종속변수로 분리하는 작업 \n",
    "- 분석 방법에 따라 train, validation, test 세트로 나누기도 한다. \n",
    "- 적절한 비율 \n",
    "    - Train : Test -> 7 : 3\n",
    "    - Train : Validation : Test -> 6 : 2 : 2\n",
    "- sklearn에 내장된 train_test_split() 함수를 이용하여 분할\n",
    "    - train_test_split(X, Y, test_size = None, random_state = None, shuffle = bool, stratify = None)\n",
    "        - X : 독립 변수 데이터\n",
    "        - Y : 종속 변수 데이터\n",
    "        - test_size : 테스트 데이터의 비율 (0부터 1사이의 값)\n",
    "        - random_state : 임의의 번호를 지정, 같은 숫자를 이용한다면 같은 값들이 출력 \n",
    "        - shuffle : True면 추출 전에 데이터들을 섞는다. \n",
    "        - stratify : None이 아닌 경우에는 지정된 변수를 기준으로 계층화를 하여 해당 변수의 비율이 유지되도록 추출"
   ]
  },
  {
   "cell_type": "code",
   "execution_count": null,
   "metadata": {},
   "outputs": [],
   "source": [
    "from sklearn.datasets import load_iris\n",
    "from sklearn.model_selection import train_test_split"
   ]
  },
  {
   "cell_type": "code",
   "execution_count": null,
   "metadata": {},
   "outputs": [],
   "source": [
    "iris = pd.DataFrame(\n",
    "    load_iris()['data'], \n",
    "    columns = load_iris()['feature_names']\n",
    ")\n",
    "iris['Class'] = load_iris()['target']\n",
    "iris['Class'] = iris['Class'].map(\n",
    "    {\n",
    "        0 : 'Setosa', \n",
    "        1 : 'Versicolour', \n",
    "        2 : 'Virginaca'\n",
    "    }\n",
    ")\n",
    "iris.head()"
   ]
  },
  {
   "cell_type": "code",
   "execution_count": null,
   "metadata": {},
   "outputs": [],
   "source": [
    "## 데이터를 분할\n",
    "X_train, X_test, Y_train, Y_test = train_test_split(\n",
    "    iris.drop('Class', axis=1), \n",
    "    iris['Class'], \n",
    "    test_size= 0.3, \n",
    "    random_state= 100\n",
    ")"
   ]
  },
  {
   "cell_type": "code",
   "execution_count": null,
   "metadata": {},
   "outputs": [],
   "source": [
    "# train, test 개수를 확인 \n",
    "print('X_train의 개수 : ', X_train.shape, \"X_test의 개수 : \", X_test.shape)\n",
    "print('Y_train의 개수 : ', Y_train.shape, \"Y_test의 개수 : \", Y_test.shape)"
   ]
  },
  {
   "cell_type": "code",
   "execution_count": null,
   "metadata": {},
   "outputs": [],
   "source": [
    "iris['Class'].value_counts()"
   ]
  },
  {
   "cell_type": "code",
   "execution_count": null,
   "metadata": {},
   "outputs": [],
   "source": [
    "Y_train.value_counts()"
   ]
  },
  {
   "cell_type": "code",
   "execution_count": null,
   "metadata": {},
   "outputs": [],
   "source": [
    "X_train2, X_test2, Y_train2, Y_test2 = train_test_split(\n",
    "    iris.drop('Class', axis=1), \n",
    "    iris['Class'], \n",
    "    test_size= 0.3, \n",
    "    random_state=100, \n",
    "    stratify= iris['Class']\n",
    ")"
   ]
  },
  {
   "cell_type": "code",
   "execution_count": null,
   "metadata": {},
   "outputs": [],
   "source": [
    "Y_train2.value_counts()"
   ]
  }
 ],
 "metadata": {
  "kernelspec": {
   "display_name": "Python 3",
   "language": "python",
   "name": "python3"
  },
  "language_info": {
   "codemirror_mode": {
    "name": "ipython",
    "version": 3
   },
   "file_extension": ".py",
   "mimetype": "text/x-python",
   "name": "python",
   "nbconvert_exporter": "python",
   "pygments_lexer": "ipython3",
   "version": "3.11.1"
  }
 },
 "nbformat": 4,
 "nbformat_minor": 2
}
