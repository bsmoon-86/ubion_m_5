{
 "cells": [
  {
   "cell_type": "code",
   "execution_count": null,
   "metadata": {},
   "outputs": [],
   "source": [
    "import pandas as pd\n",
    "import matplotlib.pyplot as plt"
   ]
  },
  {
   "cell_type": "markdown",
   "metadata": {},
   "source": [
    "#### 복습 \n",
    "1. csv 폴더 안에 있는 drinks.csv 파일 로드 \n",
    "2. 데이터프레임의 정보, 결측치가 존재하는가?\n",
    "3. 컬럼의 이름을 변경 -> ['국가', '맥주소비량', '증류주소비량', '와인소비량', '소비알콜량', '대륙']\n",
    "4. 대륙 컬럼에 결측치가 존재 -> 결측치를 'OT'로 대체\n",
    "5. 새로운 파생변수(총 술소비량) 생성 -> 맥주소비량 + 증류주소비량 + 와인소비량\n",
    "5. 새로운 파생변수(도수) 생성 -> 소비알콜량 / 총 술소비량 * 100\n",
    "6. 도수 컬럼의 전체 평균보다 대륙별 도수 평균이 높은 대륙을 출력"
   ]
  },
  {
   "cell_type": "code",
   "execution_count": null,
   "metadata": {},
   "outputs": [],
   "source": [
    "## csv 파일 로드 \n",
    "drinks = pd.read_csv(\"../../csv/drinks.csv\")\n",
    "drinks.head(2)"
   ]
  },
  {
   "cell_type": "code",
   "execution_count": null,
   "metadata": {},
   "outputs": [],
   "source": [
    "## 데이터프레임의 정보(info())를 출력 \n",
    "drinks.info()"
   ]
  },
  {
   "cell_type": "code",
   "execution_count": null,
   "metadata": {},
   "outputs": [],
   "source": [
    "## 결측치의 개수 \n",
    "drinks.isna().sum()"
   ]
  },
  {
   "cell_type": "code",
   "execution_count": null,
   "metadata": {},
   "outputs": [],
   "source": [
    "## 결측치가 존재하는 컬럼은 어디인가?\n",
    "drinks.isna().any(axis=0)"
   ]
  },
  {
   "cell_type": "code",
   "execution_count": null,
   "metadata": {},
   "outputs": [],
   "source": [
    "## 컬럼의 이름을 변경 \n",
    "## case1 (rename())\n",
    "drinks.rename(\n",
    "    columns= {\n",
    "        'country' : '국가', \n",
    "        'beer_servings' : '맥주소비량', \n",
    "        'spirit_servings' : '증류주소비량', \n",
    "        'wine_servings' : '와인소비량', \n",
    "        'total_litres_of_pure_alcohol' : '소비알콜량', \n",
    "        'continent' : '대륙'\n",
    "    }\n",
    ")"
   ]
  },
  {
   "cell_type": "code",
   "execution_count": null,
   "metadata": {},
   "outputs": [],
   "source": [
    "## case2 ( DataFrame Class 안에 columns 변수의 데이터를 변경 )\n",
    "drinks.columns = ['국가', '맥주소비량', '증류주소비량', '와인소비량', \n",
    "                  '소비알콜량', '대륙']"
   ]
  },
  {
   "cell_type": "code",
   "execution_count": null,
   "metadata": {},
   "outputs": [],
   "source": [
    "# 대륙 컬럼의 결측치를 'OT' 대체\n",
    "# fillna('OT')\n",
    "drinks['대륙'].fillna('OT', inplace=True)"
   ]
  },
  {
   "cell_type": "code",
   "execution_count": null,
   "metadata": {},
   "outputs": [],
   "source": [
    "drinks.isna().sum()"
   ]
  },
  {
   "cell_type": "code",
   "execution_count": null,
   "metadata": {},
   "outputs": [],
   "source": [
    "drinks['대륙'].value_counts()"
   ]
  },
  {
   "cell_type": "code",
   "execution_count": null,
   "metadata": {},
   "outputs": [],
   "source": [
    "## 파생변수 총 술소비량 -> 맥주소비량 + 증류주소비량 + 와인소비량\n",
    "drinks['총 술소비량'] = \\\n",
    "    drinks['맥주소비량'] + drinks['증류주소비량'] + drinks['와인소비량']"
   ]
  },
  {
   "cell_type": "code",
   "execution_count": null,
   "metadata": {},
   "outputs": [],
   "source": [
    "# 파생변수 도수 -> 소비알콜량 / 총 술소비량 * 100\n",
    "drinks['도수'] = \\\n",
    "    (drinks['소비알콜량'] / drinks['총 술소비량']) * 100"
   ]
  },
  {
   "cell_type": "code",
   "execution_count": null,
   "metadata": {},
   "outputs": [],
   "source": [
    "# 도수 컬럼의 결측치를 0으로 대체\n",
    "drinks['도수'].fillna(0, inplace=True)"
   ]
  },
  {
   "cell_type": "code",
   "execution_count": 22,
   "metadata": {},
   "outputs": [],
   "source": [
    "# 전체 도수의 평균 출력 \n",
    "mean_data = drinks['도수'].mean()"
   ]
  },
  {
   "cell_type": "code",
   "execution_count": 25,
   "metadata": {},
   "outputs": [],
   "source": [
    "# 대륙별 도수의 평균 출력 \n",
    "group_data = drinks[ ['대륙', '도수'] ].groupby(['대륙']).mean()"
   ]
  },
  {
   "cell_type": "code",
   "execution_count": null,
   "metadata": {},
   "outputs": [],
   "source": [
    "flag = group_data['도수'] > mean_data\n",
    "flag"
   ]
  },
  {
   "cell_type": "code",
   "execution_count": 27,
   "metadata": {},
   "outputs": [
    {
     "data": {
      "text/html": [
       "<div>\n",
       "<style scoped>\n",
       "    .dataframe tbody tr th:only-of-type {\n",
       "        vertical-align: middle;\n",
       "    }\n",
       "\n",
       "    .dataframe tbody tr th {\n",
       "        vertical-align: top;\n",
       "    }\n",
       "\n",
       "    .dataframe thead th {\n",
       "        text-align: right;\n",
       "    }\n",
       "</style>\n",
       "<table border=\"1\" class=\"dataframe\">\n",
       "  <thead>\n",
       "    <tr style=\"text-align: right;\">\n",
       "      <th></th>\n",
       "      <th>도수</th>\n",
       "    </tr>\n",
       "    <tr>\n",
       "      <th>대륙</th>\n",
       "      <th></th>\n",
       "    </tr>\n",
       "  </thead>\n",
       "  <tbody>\n",
       "    <tr>\n",
       "      <th>AF</th>\n",
       "      <td>4.974072</td>\n",
       "    </tr>\n",
       "  </tbody>\n",
       "</table>\n",
       "</div>"
      ],
      "text/plain": [
       "          도수\n",
       "대륙          \n",
       "AF  4.974072"
      ]
     },
     "execution_count": 27,
     "metadata": {},
     "output_type": "execute_result"
    }
   ],
   "source": [
    "group_data.loc[flag]"
   ]
  }
 ],
 "metadata": {
  "kernelspec": {
   "display_name": "Python 3",
   "language": "python",
   "name": "python3"
  },
  "language_info": {
   "codemirror_mode": {
    "name": "ipython",
    "version": 3
   },
   "file_extension": ".py",
   "mimetype": "text/x-python",
   "name": "python",
   "nbconvert_exporter": "python",
   "pygments_lexer": "ipython3",
   "version": "3.11.1"
  }
 },
 "nbformat": 4,
 "nbformat_minor": 2
}
