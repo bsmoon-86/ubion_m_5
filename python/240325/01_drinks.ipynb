{
 "cells": [
  {
   "cell_type": "code",
   "execution_count": null,
   "metadata": {},
   "outputs": [],
   "source": [
    "import pandas as pd\n",
    "import matplotlib.pyplot as plt"
   ]
  },
  {
   "cell_type": "markdown",
   "metadata": {},
   "source": [
    "#### 복습 \n",
    "1. csv 폴더 안에 있는 drinks.csv 파일 로드 \n",
    "2. 데이터프레임의 정보, 결측치가 존재하는가?\n",
    "3. 컬럼의 이름을 변경 -> ['국가', '맥주소비량', '증류주소비량', '와인소비량', '소비알콜량', '대륙']\n",
    "4. 대륙 컬럼에 결측치가 존재 -> 결측치를 'OT'로 대체\n",
    "5. 새로운 파생변수(총 술소비량) 생성 -> 맥주소비량 + 증류주소비량 + 와인소비량\n",
    "5. 새로운 파생변수(도수) 생성 -> 소비알콜량 / 총 술소비량 * 100\n",
    "6. 도수 컬럼의 전체 평균보다 대륙별 도수 평균이 높은 대륙을 출력"
   ]
  },
  {
   "cell_type": "code",
   "execution_count": null,
   "metadata": {},
   "outputs": [],
   "source": [
    "## csv 파일 로드 \n",
    "drinks = pd.read_csv(\"../../csv/drinks.csv\")\n",
    "drinks.head(2)"
   ]
  },
  {
   "cell_type": "code",
   "execution_count": null,
   "metadata": {},
   "outputs": [],
   "source": [
    "## 데이터프레임의 정보(info())를 출력 \n",
    "drinks.info()"
   ]
  },
  {
   "cell_type": "code",
   "execution_count": null,
   "metadata": {},
   "outputs": [],
   "source": [
    "## 결측치의 개수 \n",
    "drinks.isna().sum()"
   ]
  },
  {
   "cell_type": "code",
   "execution_count": null,
   "metadata": {},
   "outputs": [],
   "source": [
    "## 결측치가 존재하는 컬럼은 어디인가?\n",
    "drinks.isna().any(axis=0)"
   ]
  },
  {
   "cell_type": "code",
   "execution_count": null,
   "metadata": {},
   "outputs": [],
   "source": [
    "## 컬럼의 이름을 변경 \n",
    "## case1 (rename())\n",
    "drinks.rename(\n",
    "    columns= {\n",
    "        'country' : '국가', \n",
    "        'beer_servings' : '맥주소비량', \n",
    "        'spirit_servings' : '증류주소비량', \n",
    "        'wine_servings' : '와인소비량', \n",
    "        'total_litres_of_pure_alcohol' : '소비알콜량', \n",
    "        'continent' : '대륙'\n",
    "    }\n",
    ")"
   ]
  },
  {
   "cell_type": "code",
   "execution_count": null,
   "metadata": {},
   "outputs": [],
   "source": [
    "## case2 ( DataFrame Class 안에 columns 변수의 데이터를 변경 )\n",
    "drinks.columns = ['국가', '맥주소비량', '증류주소비량', '와인소비량', \n",
    "                  '소비알콜량', '대륙']"
   ]
  },
  {
   "cell_type": "code",
   "execution_count": null,
   "metadata": {},
   "outputs": [],
   "source": [
    "# 대륙 컬럼의 결측치를 'OT' 대체\n",
    "# fillna('OT')\n",
    "drinks['대륙'].fillna('OT', inplace=True)"
   ]
  },
  {
   "cell_type": "code",
   "execution_count": null,
   "metadata": {},
   "outputs": [],
   "source": [
    "drinks.isna().sum()"
   ]
  },
  {
   "cell_type": "code",
   "execution_count": null,
   "metadata": {},
   "outputs": [],
   "source": [
    "drinks['대륙'].value_counts()"
   ]
  },
  {
   "cell_type": "code",
   "execution_count": null,
   "metadata": {},
   "outputs": [],
   "source": [
    "## 파생변수 총 술소비량 -> 맥주소비량 + 증류주소비량 + 와인소비량\n",
    "drinks['총 술소비량'] = \\\n",
    "    drinks['맥주소비량'] + drinks['증류주소비량'] + drinks['와인소비량']"
   ]
  },
  {
   "cell_type": "code",
   "execution_count": null,
   "metadata": {},
   "outputs": [],
   "source": [
    "# 파생변수 도수 -> 소비알콜량 / 총 술소비량 * 100\n",
    "drinks['도수'] = \\\n",
    "    (drinks['소비알콜량'] / drinks['총 술소비량']) * 100"
   ]
  },
  {
   "cell_type": "code",
   "execution_count": null,
   "metadata": {},
   "outputs": [],
   "source": [
    "# 도수 컬럼의 결측치를 0으로 대체\n",
    "drinks['도수'].fillna(0, inplace=True)"
   ]
  },
  {
   "cell_type": "code",
   "execution_count": 22,
   "metadata": {},
   "outputs": [],
   "source": [
    "# 전체 도수의 평균 출력 \n",
    "mean_data = drinks['도수'].mean()"
   ]
  },
  {
   "cell_type": "code",
   "execution_count": 25,
   "metadata": {},
   "outputs": [],
   "source": [
    "# 대륙별 도수의 평균 출력 \n",
    "group_data = drinks[ ['대륙', '도수'] ].groupby(['대륙']).mean()"
   ]
  },
  {
   "cell_type": "code",
   "execution_count": null,
   "metadata": {},
   "outputs": [],
   "source": [
    "flag = group_data['도수'] > mean_data\n",
    "flag"
   ]
  },
  {
   "cell_type": "code",
   "execution_count": 27,
   "metadata": {},
   "outputs": [
    {
     "data": {
      "text/html": [
       "<div>\n",
       "<style scoped>\n",
       "    .dataframe tbody tr th:only-of-type {\n",
       "        vertical-align: middle;\n",
       "    }\n",
       "\n",
       "    .dataframe tbody tr th {\n",
       "        vertical-align: top;\n",
       "    }\n",
       "\n",
       "    .dataframe thead th {\n",
       "        text-align: right;\n",
       "    }\n",
       "</style>\n",
       "<table border=\"1\" class=\"dataframe\">\n",
       "  <thead>\n",
       "    <tr style=\"text-align: right;\">\n",
       "      <th></th>\n",
       "      <th>도수</th>\n",
       "    </tr>\n",
       "    <tr>\n",
       "      <th>대륙</th>\n",
       "      <th></th>\n",
       "    </tr>\n",
       "  </thead>\n",
       "  <tbody>\n",
       "    <tr>\n",
       "      <th>AF</th>\n",
       "      <td>4.974072</td>\n",
       "    </tr>\n",
       "  </tbody>\n",
       "</table>\n",
       "</div>"
      ],
      "text/plain": [
       "          도수\n",
       "대륙          \n",
       "AF  4.974072"
      ]
     },
     "execution_count": 27,
     "metadata": {},
     "output_type": "execute_result"
    }
   ],
   "source": [
    "group_data.loc[flag]"
   ]
  },
  {
   "cell_type": "markdown",
   "metadata": {},
   "source": [
    "- 총 술소비량을 기준으로 우리나라는 몇위인가?\n",
    "    1. 총 술소비량을 기준으로 내림차순 정렬\n",
    "    2. 인덱스를 초기화하고 기존의 인덱스는 제거  \n",
    "    2. 국가 컬럼의 데이터가 South Korea인 데이터의 인덱스와 총술소비량 데이터를 확인 \n",
    "    3. 전체 데이터를 기준으로 막대그래프를 생성하고 한국의 막대의 색상을 변경하고 주석을 추가 "
   ]
  },
  {
   "cell_type": "code",
   "execution_count": 28,
   "metadata": {},
   "outputs": [],
   "source": [
    "# 복사본 생성\n",
    "df = drinks.copy()"
   ]
  },
  {
   "cell_type": "code",
   "execution_count": 30,
   "metadata": {},
   "outputs": [],
   "source": [
    "# 총 술소비량을 기준으로 내림차순 정렬\n",
    "df.sort_values(['총 술소비량'], ascending=False, inplace=True)"
   ]
  },
  {
   "cell_type": "code",
   "execution_count": 32,
   "metadata": {},
   "outputs": [],
   "source": [
    "# 인덱스를 재지정하고 기존의 인덱스는 제거 \n",
    "df.reset_index(drop=True, inplace=True)"
   ]
  },
  {
   "cell_type": "code",
   "execution_count": 33,
   "metadata": {},
   "outputs": [
    {
     "data": {
      "text/html": [
       "<div>\n",
       "<style scoped>\n",
       "    .dataframe tbody tr th:only-of-type {\n",
       "        vertical-align: middle;\n",
       "    }\n",
       "\n",
       "    .dataframe tbody tr th {\n",
       "        vertical-align: top;\n",
       "    }\n",
       "\n",
       "    .dataframe thead th {\n",
       "        text-align: right;\n",
       "    }\n",
       "</style>\n",
       "<table border=\"1\" class=\"dataframe\">\n",
       "  <thead>\n",
       "    <tr style=\"text-align: right;\">\n",
       "      <th></th>\n",
       "      <th>국가</th>\n",
       "      <th>맥주소비량</th>\n",
       "      <th>증류주소비량</th>\n",
       "      <th>와인소비량</th>\n",
       "      <th>소비알콜량</th>\n",
       "      <th>대륙</th>\n",
       "      <th>총 술소비량</th>\n",
       "      <th>도수</th>\n",
       "    </tr>\n",
       "  </thead>\n",
       "  <tbody>\n",
       "    <tr>\n",
       "      <th>98</th>\n",
       "      <td>South Korea</td>\n",
       "      <td>140</td>\n",
       "      <td>16</td>\n",
       "      <td>9</td>\n",
       "      <td>9.8</td>\n",
       "      <td>AS</td>\n",
       "      <td>165</td>\n",
       "      <td>5.939394</td>\n",
       "    </tr>\n",
       "  </tbody>\n",
       "</table>\n",
       "</div>"
      ],
      "text/plain": [
       "             국가  맥주소비량  증류주소비량  와인소비량  소비알콜량  대륙  총 술소비량        도수\n",
       "98  South Korea    140      16      9    9.8  AS     165  5.939394"
      ]
     },
     "execution_count": 33,
     "metadata": {},
     "output_type": "execute_result"
    }
   ],
   "source": [
    "# South Korea의 데이터를 확인\n",
    "flag = df['국가'] == 'South Korea'\n",
    "df.loc[flag]"
   ]
  },
  {
   "cell_type": "code",
   "execution_count": 35,
   "metadata": {},
   "outputs": [
    {
     "data": {
      "text/plain": [
       "98"
      ]
     },
     "execution_count": 35,
     "metadata": {},
     "output_type": "execute_result"
    }
   ],
   "source": [
    "# South Korea의 인덱스와 총 술소비량의 데이터를 변수에 저장\n",
    "korea_index = df.loc[flag].index[0]\n",
    "korea_index"
   ]
  },
  {
   "cell_type": "code",
   "execution_count": 40,
   "metadata": {},
   "outputs": [
    {
     "data": {
      "text/plain": [
       "165"
      ]
     },
     "execution_count": 40,
     "metadata": {},
     "output_type": "execute_result"
    }
   ],
   "source": [
    "korea_value = df.iloc[korea_index, 6]\n",
    "korea_value2 = df.loc[korea_index, '총 술소비량']\n",
    "korea_value2"
   ]
  },
  {
   "cell_type": "code",
   "execution_count": 60,
   "metadata": {},
   "outputs": [
    {
     "data": {
      "image/png": "[encoded data removed]",
      "text/plain": [
       "<Figure size 2000x800 with 1 Axes>"
      ]
     },
     "metadata": {},
     "output_type": "display_data"
    }
   ],
   "source": [
    "# korea_index는 x축 좌표 값 (막대의 위치값)\n",
    "# korea_value는 y축 좌표 값\n",
    "\n",
    "# 총 술소비량 데이터를 기준으로 막대그래프 생성\n",
    "x = df.index\n",
    "y = df['총 술소비량']\n",
    "\n",
    "# 그래프의 크기를 변경 \n",
    "plt.figure(figsize=(20, 8))\n",
    "# 막대그래프 생성 \n",
    "bar_list = plt.bar(x, y)\n",
    "# South Korea의 막대를 선택하여 막대의 색상을 변경\n",
    "bar_list[korea_index].set_color('r')\n",
    "\n",
    "# 주석을 추가 \n",
    "plt.annotate(\n",
    "    f'South Korea : {korea_index + 1}', \n",
    "    xy = (korea_index, korea_value), \n",
    "    xytext = (korea_index + 10, korea_value + 100), \n",
    "    fontsize = 30,\n",
    "    arrowprops= {\n",
    "        'facecolor' : 'r', \n",
    "        'edgecolor' : 'k', \n",
    "        'headwidth' : 20, \n",
    "        'headlength' : 20, \n",
    "        'width' : 10, \n",
    "        'shrink' : 0.1         ## 화살표가 위치하는 범위  \n",
    "    }\n",
    ")\n",
    "plt.xlim(0, 200)\n",
    "\n",
    "plt.show()\n"
   ]
  }
 ],
 "metadata": {
  "kernelspec": {
   "display_name": "Python 3",
   "language": "python",
   "name": "python3"
  },
  "language_info": {
   "codemirror_mode": {
    "name": "ipython",
    "version": 3
   },
   "file_extension": ".py",
   "mimetype": "text/x-python",
   "name": "python",
   "nbconvert_exporter": "python",
   "pygments_lexer": "ipython3",
   "version": "3.11.1"
  }
 },
 "nbformat": 4,
 "nbformat_minor": 2
}
