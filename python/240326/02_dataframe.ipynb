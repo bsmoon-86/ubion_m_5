{
 "cells": [
  {
   "cell_type": "markdown",
   "metadata": {},
   "source": [
    "#### 데이터프레임의 결합 \n",
    "- 유니언 결합\n",
    "    - 단순하게 행이나 열을 결합하는 방식\n",
    "    - pandas에 내장된 concat() 함수를 이용\n",
    "        - concat( [데이터프레임, 데이터프레임, ..] )\n",
    "            - axis \n",
    "                - 0(rows) : 행을 결합\n",
    "                - 1(columns) : 열을 결합\n",
    "            - ignore_index\n",
    "                - False(기본값) : 결합되는 인덱스들을 보존\n",
    "                - True : 결합되는 인덱스를 초기화\n",
    "- 조인 결합\n",
    "    - 특정한 조건에 맞게 열을 결합하는 방식\n",
    "    - 데이터프레임 + 데이터프레임 조인결합 -> 특정 컬럼의 데이터들이 같은 값들로 이루어져 있을때만 열을 추가하는 결합\n",
    "    - pandas에 내장된 merge() 함수를 이용\n",
    "        - merge( 데이터프레임, 데이터프레임 )\n",
    "            - on\n",
    "                - 조건식(두개의 데이터프레임이 공통적으로 가지고 있는 컬럼의 이름)\n",
    "                - 두 데이터프레임의 컬럼이 이름 다른 경우?\n",
    "                    - 데이터프레임의 컬럼의 이름을 변경하고 merge() 사용\n",
    "                    - left_on, right_on 매개변수를 이용하여 컬럼의 이름 지정\n",
    "            - how \n",
    "                - left : 왼쪽의 데이터프레임을 기준으로 열 결합\n",
    "                - right : 오른쪽의 데이터프레임을 기준으로 열 결합\n",
    "                - inner : 두개의 데이터프레임이 공통적으로 가지고 있는 데이터들을 기준으로 결합\n",
    "                - outer : 두개의 데이터프레임의 합집합\n"
   ]
  },
  {
   "cell_type": "code",
   "execution_count": null,
   "metadata": {},
   "outputs": [],
   "source": [
    "import pandas as pd"
   ]
  },
  {
   "cell_type": "code",
   "execution_count": null,
   "metadata": {},
   "outputs": [],
   "source": [
    "data = {\n",
    "    'name' : ['test', 'test2', 'test3'], \n",
    "    'age' : [20, 30, 40]\n",
    "}\n",
    "df = pd.DataFrame(data)\n",
    "df"
   ]
  },
  {
   "cell_type": "code",
   "execution_count": null,
   "metadata": {},
   "outputs": [],
   "source": [
    "data2 = {\n",
    "    'name' : ['test4', 'test5'], \n",
    "    'loc' : ['seoul', 'busan']\n",
    "}\n",
    "df2 = pd.DataFrame(data2)\n",
    "df2"
   ]
  },
  {
   "cell_type": "code",
   "execution_count": null,
   "metadata": {},
   "outputs": [],
   "source": [
    "## 단순하게 행을 결합 \n",
    "pd.concat( [df, df2] , axis=0 )\n",
    "pd.concat( [df, df2], axis=0 ).reset_index(drop=True)\n",
    "pd.concat( [df, df2] , axis=0, ignore_index=True )"
   ]
  },
  {
   "cell_type": "code",
   "execution_count": null,
   "metadata": {},
   "outputs": [],
   "source": [
    "## 단순하게 열을 결합 \n",
    "pd.concat( [df, df2], axis=1 )\n",
    "pd.concat( [df, df2], axis=1 , ignore_index=True)"
   ]
  },
  {
   "cell_type": "code",
   "execution_count": null,
   "metadata": {},
   "outputs": [],
   "source": [
    "data = {\n",
    "    'name' : ['test', 'test2', 'test3'],\n",
    "    'loc' : ['서울', '경기', '강원']\n",
    "}\n",
    "df3 = pd.DataFrame(data)\n",
    "df3"
   ]
  },
  {
   "cell_type": "code",
   "execution_count": null,
   "metadata": {},
   "outputs": [],
   "source": [
    "data2 = {\n",
    "    'location' : ['서울', '경기', '강원', '세종'], \n",
    "    'code' : ['11', '31', '32', '29']\n",
    "}\n",
    "df4 = pd.DataFrame(data2)\n",
    "df4"
   ]
  },
  {
   "cell_type": "code",
   "execution_count": null,
   "metadata": {},
   "outputs": [],
   "source": [
    "## df3, df4를 조인결합 \n",
    "# 두개의 데이터프레임의 같은 데이터를 가진 컬럼의 이름이 다르다. \n",
    "# left_on, right_on을 이용하여 두개의 컬럼을 지정\n",
    "pd.merge(df3, df4, how='left', left_on='loc', right_on='location')"
   ]
  },
  {
   "cell_type": "code",
   "execution_count": null,
   "metadata": {},
   "outputs": [],
   "source": [
    "# 데이터프레임의 컬럼의 이름을 변경하고 조인결합\n",
    "df4.rename(\n",
    "    columns = {\n",
    "        'location' : 'loc'\n",
    "    }, \n",
    "    inplace=True\n",
    ")"
   ]
  },
  {
   "cell_type": "code",
   "execution_count": null,
   "metadata": {},
   "outputs": [],
   "source": [
    "pd.merge(df3, df4, how='left', on='loc')"
   ]
  },
  {
   "cell_type": "markdown",
   "metadata": {},
   "source": [
    "#### 데이터프레임의 결합 예제\n",
    "1. csv 폴더 안에 있는 tran_1, tran_2, tran_d_1, tran_d_2 4개의 파일 로드 \n",
    "2. tran_1, tran_2 단순하게 행을 결합 \n",
    "3. tran_d_1, tran_d_2 단순하게 행을 결합 \n",
    "4. 2번과정에서 나온 데이터프레임과 3번 과정에서 나온 데이터프레임 조인결합"
   ]
  },
  {
   "cell_type": "code",
   "execution_count": null,
   "metadata": {},
   "outputs": [],
   "source": [
    "tran_1 = pd.read_csv(\"../../csv/tran_1.csv\")\n",
    "tran_2 = pd.read_csv('../../csv/tran_2.csv')\n",
    "tran_d1 = pd.read_csv('../../csv/tran_d_1.csv')\n",
    "tran_d2 = pd.read_csv('../../csv/tran_d_2.csv')"
   ]
  },
  {
   "cell_type": "code",
   "execution_count": null,
   "metadata": {},
   "outputs": [],
   "source": [
    "## tran_1, tran_2 단순한 행 결합 \n",
    "tran = pd.concat( [tran_1, tran_2] , axis=0, ignore_index=True)\n",
    "tran"
   ]
  },
  {
   "cell_type": "code",
   "execution_count": null,
   "metadata": {},
   "outputs": [],
   "source": [
    "tran.isna().sum()"
   ]
  },
  {
   "cell_type": "code",
   "execution_count": null,
   "metadata": {},
   "outputs": [],
   "source": [
    "tran['transaction_id'].describe()"
   ]
  },
  {
   "cell_type": "code",
   "execution_count": null,
   "metadata": {},
   "outputs": [],
   "source": [
    "len(tran['transaction_id'].unique())"
   ]
  },
  {
   "cell_type": "code",
   "execution_count": null,
   "metadata": {},
   "outputs": [],
   "source": [
    "tran_d = pd.concat([tran_d1, tran_d2], axis=0, ignore_index=True)\n",
    "tran_d"
   ]
  },
  {
   "cell_type": "code",
   "execution_count": null,
   "metadata": {},
   "outputs": [],
   "source": [
    "# tran과 tran_d 조인 결합\n",
    "total_df = pd.merge(tran, tran_d, how = 'left', on = 'transaction_id')\n",
    "total_df"
   ]
  },
  {
   "cell_type": "code",
   "execution_count": null,
   "metadata": {},
   "outputs": [],
   "source": [
    "# item_master.csv 파일 로드 \n",
    "item_master = pd.read_csv('../../csv/item_master.csv')\n",
    "item_master.info()"
   ]
  },
  {
   "cell_type": "code",
   "execution_count": null,
   "metadata": {},
   "outputs": [],
   "source": [
    "total_df.head(1)"
   ]
  },
  {
   "cell_type": "code",
   "execution_count": null,
   "metadata": {},
   "outputs": [],
   "source": [
    "# total_df, item_master 조인결합 \n",
    "total_df = pd.merge(total_df, item_master, how='left', on='item_id')"
   ]
  },
  {
   "cell_type": "code",
   "execution_count": 32,
   "metadata": {},
   "outputs": [
    {
     "data": {
      "text/html": [
       "<div>\n",
       "<style scoped>\n",
       "    .dataframe tbody tr th:only-of-type {\n",
       "        vertical-align: middle;\n",
       "    }\n",
       "\n",
       "    .dataframe tbody tr th {\n",
       "        vertical-align: top;\n",
       "    }\n",
       "\n",
       "    .dataframe thead th {\n",
       "        text-align: right;\n",
       "    }\n",
       "</style>\n",
       "<table border=\"1\" class=\"dataframe\">\n",
       "  <thead>\n",
       "    <tr style=\"text-align: right;\">\n",
       "      <th></th>\n",
       "      <th>transaction_id</th>\n",
       "      <th>price</th>\n",
       "      <th>payment_date</th>\n",
       "      <th>customer_id</th>\n",
       "      <th>detail_id</th>\n",
       "      <th>item_id</th>\n",
       "      <th>quantity</th>\n",
       "      <th>item_name</th>\n",
       "      <th>item_price</th>\n",
       "    </tr>\n",
       "  </thead>\n",
       "  <tbody>\n",
       "    <tr>\n",
       "      <th>0</th>\n",
       "      <td>T0000000113</td>\n",
       "      <td>210000</td>\n",
       "      <td>2019-02-01 01:36:57</td>\n",
       "      <td>PL563502</td>\n",
       "      <td>0</td>\n",
       "      <td>S005</td>\n",
       "      <td>1</td>\n",
       "      <td>PC-E</td>\n",
       "      <td>210000</td>\n",
       "    </tr>\n",
       "    <tr>\n",
       "      <th>1</th>\n",
       "      <td>T0000000114</td>\n",
       "      <td>50000</td>\n",
       "      <td>2019-02-01 01:37:23</td>\n",
       "      <td>HD678019</td>\n",
       "      <td>1</td>\n",
       "      <td>S001</td>\n",
       "      <td>1</td>\n",
       "      <td>PC-A</td>\n",
       "      <td>50000</td>\n",
       "    </tr>\n",
       "    <tr>\n",
       "      <th>2</th>\n",
       "      <td>T0000000115</td>\n",
       "      <td>120000</td>\n",
       "      <td>2019-02-01 02:34:19</td>\n",
       "      <td>HD298120</td>\n",
       "      <td>2</td>\n",
       "      <td>S003</td>\n",
       "      <td>1</td>\n",
       "      <td>PC-C</td>\n",
       "      <td>120000</td>\n",
       "    </tr>\n",
       "    <tr>\n",
       "      <th>3</th>\n",
       "      <td>T0000000116</td>\n",
       "      <td>210000</td>\n",
       "      <td>2019-02-01 02:47:23</td>\n",
       "      <td>IK452215</td>\n",
       "      <td>3</td>\n",
       "      <td>S005</td>\n",
       "      <td>1</td>\n",
       "      <td>PC-E</td>\n",
       "      <td>210000</td>\n",
       "    </tr>\n",
       "    <tr>\n",
       "      <th>4</th>\n",
       "      <td>T0000000117</td>\n",
       "      <td>170000</td>\n",
       "      <td>2019-02-01 04:33:46</td>\n",
       "      <td>PL542865</td>\n",
       "      <td>4</td>\n",
       "      <td>S002</td>\n",
       "      <td>2</td>\n",
       "      <td>PC-B</td>\n",
       "      <td>85000</td>\n",
       "    </tr>\n",
       "  </tbody>\n",
       "</table>\n",
       "</div>"
      ],
      "text/plain": [
       "  transaction_id   price         payment_date customer_id  detail_id item_id  \\\n",
       "0    T0000000113  210000  2019-02-01 01:36:57    PL563502          0    S005   \n",
       "1    T0000000114   50000  2019-02-01 01:37:23    HD678019          1    S001   \n",
       "2    T0000000115  120000  2019-02-01 02:34:19    HD298120          2    S003   \n",
       "3    T0000000116  210000  2019-02-01 02:47:23    IK452215          3    S005   \n",
       "4    T0000000117  170000  2019-02-01 04:33:46    PL542865          4    S002   \n",
       "\n",
       "   quantity item_name  item_price  \n",
       "0         1      PC-E      210000  \n",
       "1         1      PC-A       50000  \n",
       "2         1      PC-C      120000  \n",
       "3         1      PC-E      210000  \n",
       "4         2      PC-B       85000  "
      ]
     },
     "execution_count": 32,
     "metadata": {},
     "output_type": "execute_result"
    }
   ],
   "source": [
    "total_df.head()"
   ]
  },
  {
   "cell_type": "code",
   "execution_count": 31,
   "metadata": {},
   "outputs": [
    {
     "name": "stdout",
     "output_type": "stream",
     "text": [
      "<class 'pandas.core.frame.DataFrame'>\n",
      "RangeIndex: 7144 entries, 0 to 7143\n",
      "Data columns (total 9 columns):\n",
      " #   Column          Non-Null Count  Dtype \n",
      "---  ------          --------------  ----- \n",
      " 0   transaction_id  7144 non-null   object\n",
      " 1   price           7144 non-null   int64 \n",
      " 2   payment_date    7144 non-null   object\n",
      " 3   customer_id     7144 non-null   object\n",
      " 4   detail_id       7144 non-null   int64 \n",
      " 5   item_id         7144 non-null   object\n",
      " 6   quantity        7144 non-null   int64 \n",
      " 7   item_name       7144 non-null   object\n",
      " 8   item_price      7144 non-null   int64 \n",
      "dtypes: int64(4), object(5)\n",
      "memory usage: 502.4+ KB\n"
     ]
    }
   ],
   "source": [
    "total_df.info()"
   ]
  },
  {
   "cell_type": "code",
   "execution_count": 34,
   "metadata": {},
   "outputs": [],
   "source": [
    "## payment_date 컬럼의 데이터의 타입을 시계열 데이터로 변경\n",
    "total_df['payment_date'] =\\\n",
    "      pd.to_datetime( total_df['payment_date'] )"
   ]
  },
  {
   "cell_type": "code",
   "execution_count": null,
   "metadata": {},
   "outputs": [],
   "source": [
    "total_df.info()"
   ]
  },
  {
   "cell_type": "code",
   "execution_count": null,
   "metadata": {},
   "outputs": [],
   "source": [
    "## 시계열 데이터에서 요일을 추출하여 파생변수에 담는다. \n",
    "## case1 (map함수 + lambda)\n",
    "total_df['payment_date'].map(\n",
    "    lambda x : x.strftime('%w')\n",
    ")"
   ]
  },
  {
   "cell_type": "code",
   "execution_count": 46,
   "metadata": {},
   "outputs": [],
   "source": [
    "# case2 (Series에서 시계열데이터 함수를 사용)\n",
    "total_df['week'] =\\\n",
    "      total_df['payment_date'].dt.strftime('%w')"
   ]
  },
  {
   "cell_type": "code",
   "execution_count": 47,
   "metadata": {},
   "outputs": [],
   "source": [
    "## price2 컬럼을 생성해서 quantity * item_price\n",
    "total_df['price2'] = \\\n",
    "    total_df['quantity'] * total_df['item_price']"
   ]
  },
  {
   "cell_type": "code",
   "execution_count": null,
   "metadata": {},
   "outputs": [],
   "source": [
    "## 요일별 price2의 합계, 개수를 확인\n",
    "total_df[ ['week', 'price2'] ].groupby('week').agg(['sum', 'count'])"
   ]
  },
  {
   "cell_type": "code",
   "execution_count": 51,
   "metadata": {},
   "outputs": [
    {
     "data": {
      "text/html": [
       "<div>\n",
       "<style scoped>\n",
       "    .dataframe tbody tr th:only-of-type {\n",
       "        vertical-align: middle;\n",
       "    }\n",
       "\n",
       "    .dataframe tbody tr th {\n",
       "        vertical-align: top;\n",
       "    }\n",
       "\n",
       "    .dataframe thead tr th {\n",
       "        text-align: left;\n",
       "    }\n",
       "\n",
       "    .dataframe thead tr:last-of-type th {\n",
       "        text-align: right;\n",
       "    }\n",
       "</style>\n",
       "<table border=\"1\" class=\"dataframe\">\n",
       "  <thead>\n",
       "    <tr>\n",
       "      <th></th>\n",
       "      <th>sum</th>\n",
       "      <th>count</th>\n",
       "    </tr>\n",
       "    <tr>\n",
       "      <th></th>\n",
       "      <th>price2</th>\n",
       "      <th>price2</th>\n",
       "    </tr>\n",
       "    <tr>\n",
       "      <th>week</th>\n",
       "      <th></th>\n",
       "      <th></th>\n",
       "    </tr>\n",
       "  </thead>\n",
       "  <tbody>\n",
       "    <tr>\n",
       "      <th>0</th>\n",
       "      <td>140785000</td>\n",
       "      <td>1051</td>\n",
       "    </tr>\n",
       "    <tr>\n",
       "      <th>1</th>\n",
       "      <td>131370000</td>\n",
       "      <td>988</td>\n",
       "    </tr>\n",
       "    <tr>\n",
       "      <th>2</th>\n",
       "      <td>137995000</td>\n",
       "      <td>1012</td>\n",
       "    </tr>\n",
       "    <tr>\n",
       "      <th>3</th>\n",
       "      <td>139070000</td>\n",
       "      <td>1022</td>\n",
       "    </tr>\n",
       "    <tr>\n",
       "      <th>4</th>\n",
       "      <td>136720000</td>\n",
       "      <td>992</td>\n",
       "    </tr>\n",
       "    <tr>\n",
       "      <th>5</th>\n",
       "      <td>144570000</td>\n",
       "      <td>1063</td>\n",
       "    </tr>\n",
       "    <tr>\n",
       "      <th>6</th>\n",
       "      <td>140625000</td>\n",
       "      <td>1016</td>\n",
       "    </tr>\n",
       "  </tbody>\n",
       "</table>\n",
       "</div>"
      ],
      "text/plain": [
       "            sum  count\n",
       "         price2 price2\n",
       "week                  \n",
       "0     140785000   1051\n",
       "1     131370000    988\n",
       "2     137995000   1012\n",
       "3     139070000   1022\n",
       "4     136720000    992\n",
       "5     144570000   1063\n",
       "6     140625000   1016"
      ]
     },
     "execution_count": 51,
     "metadata": {},
     "output_type": "execute_result"
    }
   ],
   "source": [
    "total_df.pivot_table(\n",
    "    index = 'week', \n",
    "    values = 'price2', \n",
    "    aggfunc= ['sum', 'count']\n",
    ")"
   ]
  }
 ],
 "metadata": {
  "kernelspec": {
   "display_name": "Python 3",
   "language": "python",
   "name": "python3"
  },
  "language_info": {
   "codemirror_mode": {
    "name": "ipython",
    "version": 3
   },
   "file_extension": ".py",
   "mimetype": "text/x-python",
   "name": "python",
   "nbconvert_exporter": "python",
   "pygments_lexer": "ipython3",
   "version": "3.11.1"
  }
 },
 "nbformat": 4,
 "nbformat_minor": 2
}
